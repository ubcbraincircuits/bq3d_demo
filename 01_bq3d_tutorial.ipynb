{
 "cells": [
  {
   "cell_type": "code",
   "execution_count": 2,
   "metadata": {},
   "outputs": [],
   "source": [
    "#import files\n",
    "%matplotlib inline\n",
    "\n",
    "import os\n",
    "from pathlib import Path\n",
    "import shutil\n",
    "import re\n",
    "\n",
    "import tifffile\n",
    "import glob\n",
    "import matplotlib.pyplot as plt\n",
    "from matplotlib.widgets import Slider"
   ]
  },
  {
   "cell_type": "markdown",
   "metadata": {},
   "source": [
    "# Image Processing Demonstration\n",
    "To process images, here is the general file organization that we will need.\n",
    "```\n",
    "base_directory/ \n",
    "├── working_directory/\n",
    "│   ├── data/ \n",
    "│   │   ├── autofluorescence_directory/ \n",
    "│   │   │   └── ...tif\n",
    "│   │   └── signal_directory/ \n",
    "│   │       └── ...tif\n",
    "│   ├── analysis/\n",
    "│   │   └── ...\n",
    "│   ├── parameter.py\n",
    "│   └── process.py\n",
    "├── filters/\n",
    "│   └── ilastik_filter.ipl\n",
    "├── 00_bq3d_setup.ipynb\n",
    "├── 01_bq3d_tutorial.ipynb\n",
    "├── parameter_template.py\n",
    "├── process_template.py\n",
    "├── 01_bq3d_tutorial.ipynb\n",
    "└── bq3d_env.json\n",
    "```\n",
    "We will need to manually update the parameter.py file with a few paths to ensure the process.py pipeline is accessing the correct folders.\n",
    "This notebook will create the working directory folder."
   ]
  },
  {
   "cell_type": "markdown",
   "metadata": {},
   "source": [
    "## 0.5. Ensure that the Jupyter Notebook kernel has been changed to the \"bq3d\" environment!\n",
    "You can modify this in the Kernel > Change Kernel option in the menu bar."
   ]
  },
  {
   "cell_type": "markdown",
   "metadata": {},
   "source": [
    "## 1. Create working directory and set up as a variable in parameter.py\n",
    "First, create the folder that will serve as the working directory where the analysis and data folders will be stored. The process.py and parameters.py files will be copied over. "
   ]
  },
  {
   "cell_type": "code",
   "execution_count": 3,
   "metadata": {},
   "outputs": [
    {
     "name": "stdout",
     "output_type": "stream",
     "text": [
      "base directory path: /mnt/d/brainquant_RC/bq3d_demo\n"
     ]
    }
   ],
   "source": [
    "base_directory = Path.cwd()\n",
    "print(\"base directory path:\", base_directory)\n",
    "\n",
    "working_directory_name = \"demo\"  #NOTE: change this to any desired base directory name\n",
    "\n",
    "#create a base folder in the working directory\n",
    "working_directory = Path(base_directory, working_directory_name)\n",
    "Path(working_directory).mkdir(parents=True, exist_ok=True)\n",
    "\n",
    "#copy parameter and process files from the base directory into the working directory\n",
    "if \"parameter\" not in [path.stem for path in Path(working_directory).iterdir() if path.is_file()]:\n",
    "    print(f\"copying parameter and process files into {working_directory} ...\")\n",
    "    shutil.copy(Path(base_directory, \"parameter_template.py\"), Path(working_directory, \"parameter.py\"))\n",
    "    shutil.copy(Path(base_directory, \"process_template.py\"), Path(working_directory, \"process.py\"))\n",
    "    print(f\"done\")\n",
    "\n",
    "#create data and analysis folders\n",
    "if \"data\" not in [path.stem for path in Path(working_directory).iterdir() if path.is_file()]:\n",
    "    Path(working_directory, \"data\").mkdir(parents=True, exist_ok=True)\n",
    "    \n",
    "if \"analysis\" not in [path.stem for path in Path(working_directory).iterdir() if path.is_file()]:\n",
    "    Path(working_directory, \"analysis\").mkdir(parents=True, exist_ok=True)"
   ]
  },
  {
   "cell_type": "code",
   "execution_count": null,
   "metadata": {},
   "outputs": [],
   "source": []
  },
  {
   "cell_type": "markdown",
   "metadata": {},
   "source": [
    "You will need to change the WorkingDirectory variable in the working_directory/parameter.py file so the program knows the path to the working directory:"
   ]
  },
  {
   "cell_type": "code",
   "execution_count": 5,
   "metadata": {},
   "outputs": [
    {
     "name": "stdout",
     "output_type": "stream",
     "text": [
      "\n",
      "Replace these variables in working_directory/parameter.py (line 11):\n",
      "WorkingDirectory = str(Path('/mnt/d/brainquant_RC/bq3d_demo/demo'))\n"
     ]
    }
   ],
   "source": [
    "print(f\"\\nReplace these variables in working_directory/parameter.py (line 11):\\nWorkingDirectory = str(Path('{working_directory}'))\")"
   ]
  },
  {
   "cell_type": "markdown",
   "metadata": {},
   "source": [
    "## 2. Move data into the working directory and set up as a variable in parameter.py\n",
    "Move the downloaded data files into the working_directory/data directory. Ensure that two separate folders containing separated autofluorescence and signal TIF images are within the data directory. \n",
    "\n",
    "We will update the parameters.py file here too."
   ]
  },
  {
   "cell_type": "code",
   "execution_count": 5,
   "metadata": {},
   "outputs": [
    {
     "name": "stdout",
     "output_type": "stream",
     "text": [
      "found these directories in the working_directory/data folder: ['background', 'signal']\n",
      "\n",
      "Are the following paths correct?\n",
      "autofluorescence files are located in background\n",
      "signal files are located in signal\n",
      "\n",
      "If the order is incorrect, swap the order of the files by uncommenting lines 10-11 in this code block.\n"
     ]
    }
   ],
   "source": [
    "#get subfolders of the raw data\n",
    "data_subfolders = [path for path in Path(working_directory, \"data\").iterdir() if path.is_dir()]\n",
    "print(\"found these directories in the working_directory/data folder:\",[path.stem for path in data_subfolders])\n",
    "\n",
    "try:\n",
    "    #adjust the order as necessary\n",
    "    autofluorescence_directory = data_subfolders[0] \n",
    "    signal_directory = data_subfolders[1] \n",
    "\n",
    "    # uncomment in case the folder order is reversed\n",
    "    # autofluorescence_directory = data_subfolders[1] \n",
    "    # signal_directory = data_subfolders[0] \n",
    "\n",
    "    print(\"\\nAre the following paths correct?\")\n",
    "    print(\"autofluorescence files are located in\",autofluorescence_directory.stem)\n",
    "    print(\"signal files are located in\",signal_directory.stem)\n",
    "    print(\"\\nIf the order is incorrect, swap the order of the files by uncommenting lines 10-11 in this code block.\")\n",
    "except Exception as e:\n",
    "    print(f\"Exception: {e} -- make sure to move both of the autofluorescence and signal folders into the working_directory/data directory!\")"
   ]
  },
  {
   "cell_type": "markdown",
   "metadata": {},
   "source": [
    "You will need to change the AutofluoFile and SignalFile variables in the working_directory/parameter.py file so the program knows where to find the autofluorescence and signal image files:"
   ]
  },
  {
   "cell_type": "code",
   "execution_count": 6,
   "metadata": {},
   "outputs": [
    {
     "name": "stdout",
     "output_type": "stream",
     "text": [
      "replace these variables in parameter.py (lines 16, 18=7):\n",
      "AutofluoFile = str(Path(DataDirectory, \"background\", \"NN_428180_463220_025000_left_T001_Z\\d{3,4}_C01.tif\"))\n",
      "SignalFile = str(Path(DataDirectory, \"signal\", \"787287_428180_463220_025000_full_sagittal_left_T001_Z\\d{3,4}_C01.tif\"))\n"
     ]
    }
   ],
   "source": [
    "#replace regex as necessary-- consider which variables in the image name are marking the Z-index. \n",
    "autofluo_regex = re.sub(r\"Z\\d{3,4}\", \"Z\\\\\\d{3,4}\", [path.stem for path in autofluorescence_directory.iterdir()][0])\n",
    "signal_regex = re.sub(r\"Z\\d{3,4}\", \"Z\\\\\\d{3,4}\", [path.stem for path in signal_directory.iterdir()][0])\n",
    "\n",
    "print(f'replace these variables in parameter.py (lines 16, 18=7):\\nAutofluoFile = str(Path(DataDirectory, \"{autofluorescence_directory.stem}\", \"{autofluo_regex}.tif\"))\\nSignalFile = str(Path(DataDirectory, \"{signal_directory.stem}\", \"{signal_regex}.tif\"))')"
   ]
  },
  {
   "cell_type": "markdown",
   "metadata": {},
   "source": [
    "## 3. Change variable in the ilastik.py bq3d file to use an ilastik filter\n",
    "First, we will locate the ilastik.py file on your computer. Please open the .py file up in your text editor of choice.\""
   ]
  },
  {
   "cell_type": "code",
   "execution_count": 22,
   "metadata": {},
   "outputs": [
    {
     "name": "stdout",
     "output_type": "stream",
     "text": [
      "Edit the ilastik.py file by entering this in the command line:\n",
      "nano /home/ninc-user/miniconda3/envs/bq3d/lib/python3.9/site-packages/bq3d/image_filters/filters/ilastik.py\n",
      "\n",
      "HINT: Use the arrow keys to navigate through the file. You can right-click to paste text from your clipboard.\n"
     ]
    }
   ],
   "source": [
    "import bq3d\n",
    "#find the ilastik folder in the bq3d package\n",
    "bq3d_package_directory = Path(bq3d.__file__).parent\n",
    "ilastik_file = Path(bq3d_package_directory, \"image_filters\", \"filters\", \"ilastik.py\")\n",
    "\n",
    "assert ilastik_file.is_file(), f'cannot find ilastik file at {ilastik_file}'\n",
    "\n",
    "print(f\"Edit the ilastik.py file by entering this in the command line:\\nnano {ilastik_file}\\n\\nHINT: Use the arrow keys to navigate through the file. You can right-click to paste text from your clipboard.\")"
   ]
  },
  {
   "cell_type": "markdown",
   "metadata": {},
   "source": [
    "Second, we want to find the specific .ilp file to put into the ilastik.py file:"
   ]
  },
  {
   "cell_type": "code",
   "execution_count": 19,
   "metadata": {},
   "outputs": [
    {
     "name": "stdout",
     "output_type": "stream",
     "text": [
      "Found these .ilp ilastik filter files in the base directory: ['/mnt/d/brainquant_RC/bq3d_demo/filters/cfos_6h_nov2.ilp']\n"
     ]
    }
   ],
   "source": [
    "ilp_files = glob.glob(str(Path(base_directory,\"filters\",\"*.ilp\")),recursive=True)\n",
    "print(\"Found these .ilp ilastik filter files in the base directory:\", ilp_files)"
   ]
  },
  {
   "cell_type": "markdown",
   "metadata": {},
   "source": [
    "Finally, we want to replace the self.project variable in the ilastik.py file with the filter path that you would like to use:"
   ]
  },
  {
   "cell_type": "code",
   "execution_count": 24,
   "metadata": {},
   "outputs": [
    {
     "name": "stdout",
     "output_type": "stream",
     "text": [
      "\n",
      "Replace variable in ilastik.py file (line 50) with the desired ilp file from list above. For example, it should look like this:\n",
      "self.project = '/mnt/d/brainquant_RC/bq3d_demo/filters/cfos_6h_nov2.ilp'\n",
      "\n",
      "Save the file with the 'Exit' command (usually ^X), followed by Y, and then Enter.\n"
     ]
    }
   ],
   "source": [
    "print(f\"\\nReplace variable in ilastik.py file (line 50) with the desired ilp file from list above. For example, it should look like this:\\nself.project = '{ilp_files[0]}'\\n\\nSave the file with the 'Exit' command (usually ^X), followed by Y, and then Enter.\")"
   ]
  },
  {
   "cell_type": "markdown",
   "metadata": {},
   "source": [
    "## 4. Check if you have the Brain Atlas Registration path set up in parameter.py\n",
    "Find the PathReg variable in parameter.py (line 35) and confirm that it is correct. Make sure that you have your Brain Atlas Registration path set up if you haven't already."
   ]
  },
  {
   "cell_type": "code",
   "execution_count": 26,
   "metadata": {},
   "outputs": [
    {
     "name": "stdout",
     "output_type": "stream",
     "text": [
      "\n",
      "replace this variable in parameter.py (line 35) if it has not been set already:\n",
      "PathReg = str(Path('/mnt/d/brainquant_RC/bq3d_demo/Warping'))\n"
     ]
    }
   ],
   "source": [
    "brain_atlas_directory = \"/mnt/d/brainquant_RC/bq3d_demo/Warping\" #!!! modify the path to the downloaded brain atlas directory on your computer\n",
    "\n",
    "assert any(Path(brain_atlas_directory).iterdir()), \"No files found in the brain atlas directory. Make sure that the path is correct!\"\n",
    "\n",
    "print(f\"\\nreplace this variable in parameter.py (line 35) if it has not been set already:\\nPathReg = str(Path('{brain_atlas_directory}'))\")"
   ]
  },
  {
   "cell_type": "markdown",
   "metadata": {},
   "source": [
    "# Check TIF files\n",
    "use FIJI or run the code below to look at the TIF files that will be processed. The code block below will combine all the tif files in the data folder into a stack."
   ]
  },
  {
   "cell_type": "code",
   "execution_count": 27,
   "metadata": {},
   "outputs": [],
   "source": [
    "combined_tifs = {} #key as the folder name, value as 3xNxM arrays of intensities (tifffile images)\n",
    "for path in data_subfolders:\n",
    "    combined_tifs[path.stem] = tifffile.imread(glob.glob(str(path)+\"/*.tif\"))"
   ]
  },
  {
   "cell_type": "markdown",
   "metadata": {},
   "source": [
    "This code will average all pixels across the z-axis of the stack."
   ]
  },
  {
   "cell_type": "code",
   "execution_count": 29,
   "metadata": {},
   "outputs": [
    {
     "name": "stdout",
     "output_type": "stream",
     "text": [
      "background tif shape (Z, Y, X): (247, 2049, 867)\n",
      "signal tif shape (Z, Y, X): (247, 2049, 867)\n"
     ]
    },
    {
     "data": {
      "image/png": "[encoded data removed]",
      "text/plain": [
       "<Figure size 640x480 with 2 Axes>"
      ]
     },
     "metadata": {},
     "output_type": "display_data"
    }
   ],
   "source": [
    "#explore data-- average across z axis\n",
    "fig, ax = plt.subplots(nrows=1, ncols=len(combined_tifs))\n",
    "for i, subfolder in enumerate(combined_tifs.keys()):\n",
    "    print(f\"{subfolder} tif shape (Z, Y, X):\", combined_tifs[subfolder].shape)\n",
    "    ax[i].imshow(combined_tifs[subfolder].mean(axis=0),vmin=0, vmax=1000)\n",
    "    ax[i].set_title(subfolder)"
   ]
  },
  {
   "cell_type": "markdown",
   "metadata": {},
   "source": [
    "This code will allow you to look at the images on specific layers of the stack."
   ]
  },
  {
   "cell_type": "code",
   "execution_count": 18,
   "metadata": {},
   "outputs": [
    {
     "data": {
      "application/vnd.jupyter.widget-view+json": {
       "model_id": "d016c4333c3b439f9bbecb3e0c56e57f",
       "version_major": 2,
       "version_minor": 0
      },
      "text/plain": [
       "HBox(children=(IntSlider(value=0, description='idx', max=10, orientation='vertical'), Output()))"
      ]
     },
     "metadata": {},
     "output_type": "display_data"
    }
   ],
   "source": [
    "# https://stackoverflow.com/questions/58489679/continious-update-of-matplotlib-plot-in-jupyter\n",
    "from IPython.display import display, clear_output\n",
    "import ipywidgets as ipy\n",
    "import matplotlib.pyplot as plt\n",
    "import numpy as np\n",
    "\n",
    "###NOTE: comment/uncomment to look at figures in specific folder:\n",
    "folder = '787287_cfos_left_hemi_grayscale'\n",
    "#folder = '787287_NN_left_hemi_grayscale'\n",
    "\n",
    "image_stack = combined_tifs[folder]\n",
    "\n",
    "out = ipy.Output()\n",
    "\n",
    "# show random mesh\n",
    "def update(idx):\n",
    "    with out:\n",
    "        clear_output()\n",
    "        fig, ax = plt.subplots(figsize = (5,5))\n",
    "        h = ax.imshow(image_stack[slider.value], vmin=0, vmax=500) ###NOTE: you may need to adjust vmax for the optimal render.\n",
    "        # h.set_data(np.ma.masked_less_equal(image_stack[0], slider.value))\n",
    "        fig.canvas.flush_events()\n",
    "        fig.canvas.draw()\n",
    "        plt.show()\n",
    "\n",
    "slider = ipy.IntSlider(min = 0, max = len(image_stack)-1, orientation = 'vertical')\n",
    "widget = ipy.interactive(update, idx = slider)\n",
    "\n",
    "layout = ipy.Layout()\n",
    "\n",
    "widgets = ipy.HBox(children=(slider, out), layout = layout)\n",
    "display(widgets)"
   ]
  },
  {
   "cell_type": "markdown",
   "metadata": {},
   "source": [
    "# 3. Run processing!"
   ]
  },
  {
   "cell_type": "code",
   "execution_count": 7,
   "metadata": {},
   "outputs": [],
   "source": [
    "os.chdir(Path(working_directory))"
   ]
  },
  {
   "cell_type": "code",
   "execution_count": 8,
   "metadata": {},
   "outputs": [
    {
     "name": "stdout",
     "output_type": "stream",
     "text": [
      "/mnt/d/brainquant_RC/bq3d_demo/demo\n",
      "VERBOSE |16:15:09| Copying raw data to: /tmp/bq3daff47425-a803-44e1-bbc6-af5c83b18e93/1dbffc85-3316-497f-b470-e5e3083de8f0.tif\n",
      "VERBOSE |16:15:14| Number of chunks: 1\n",
      "INFO    |16:15:14| chunk ranges: z= [0, 247], y= [0, 2049], x = [0, 867]\n",
      "INFO    |16:15:14| Creating memory mapped substack at: /tmp/bq3daff47425-a803-44e1-bbc6-af5c83b18e93/runcdc2e751-c9fe-484a-8153-9aaac9c51038/c0a9ab5c-1436-4b8f-a544-65280c0bc6af.tif\n",
      "INFO    |16:15:15| Creating raw substack at: /tmp/bq3daff47425-a803-44e1-bbc6-af5c83b18e93/runcdc2e751-c9fe-484a-8153-9aaac9c51038/8484313a-679b-4c25-8f42-11b71ae57f71.tif\n",
      "VERBOSE |16:15:16| PixelClassification| ram: 4\n",
      "VERBOSE |16:15:16| PixelClassification| processes: 1\n",
      "VERBOSE |16:15:16| PixelClassification| project: /mnt/d/brainquant_RC/bq3d_demo/filters/cfos_6h_nov2.ilp\n",
      "VERBOSE |16:15:16| PixelClassification| output_channel: 0\n",
      "VERBOSE |16:15:16| PixelClassification| cleanup: False\n",
      "VERBOSE |16:15:16| PixelClassification| subStack: None\n",
      "VERBOSE |16:15:16| PixelClassification| temp_dir: /tmp/bq3daff47425-a803-44e1-bbc6-af5c83b18e93/runcdc2e751-c9fe-484a-8153-9aaac9c51038/PixelClassificationc99eb279-372d-421e-950e-eebcf230a8cc\n",
      "VERBOSE |16:15:16| PixelClassification| name: PixelClassification\n",
      "VERBOSE |16:15:16| Ilastik sucessfully initialized from path: /home/ninc-user/miniconda3/envs/bq3d/lib/python3.9/site-packages/bq3d/.external/ilastik-1.3.3\n",
      "INFO    |16:15:17| running Ilastik command: LAZYFLOW_THREADS=1 LAZYFLOW_TOTAL_RAM_MB=4000 /home/ninc-user/miniconda3/envs/bq3d/lib/python3.9/site-packages/bq3d/.external/ilastik-1.3.3/run_ilastik.sh --headless --project=\"/mnt/d/brainquant_RC/bq3d_demo/filters/cfos_6h_nov2.ilp\" --output_format=\"numpy\" --output_filename_format=\"/tmp/bq3daff47425-a803-44e1-bbc6-af5c83b18e93/runcdc2e751-c9fe-484a-8153-9aaac9c51038/PixelClassificationc99eb279-372d-421e-950e-eebcf230a8cc/out_prelim.npy\" \"/tmp/bq3daff47425-a803-44e1-bbc6-af5c83b18e93/runcdc2e751-c9fe-484a-8153-9aaac9c51038/PixelClassificationc99eb279-372d-421e-950e-eebcf230a8cc/c0a9ab5c-1436-4b8f-a544-65280c0bc6af.npy\"\n",
      "Warning: Ignoring your non-empty LD_LIBRARY_PATH\n",
      "INFO matplotlib.font_manager: generated new fontManager\n",
      "INFO lazyflow.operators.filterOperators: Using fast filters.\n",
      "WARNING __init__.py(20): UserWarning: init: Could not import tiktorch classifier\n",
      "INFO ilastik_main: Starting ilastik from \"/home/ninc-user/miniconda3/envs/bq3d/lib/python3.9/site-packages/bq3d/.external/ilastik-1.3.3\".\n",
      "Starting ilastik from \"/home/ninc-user/miniconda3/envs/bq3d/lib/python3.9/site-packages/bq3d/.external/ilastik-1.3.3\".\n",
      "INFO ilastik_main: Resetting lazyflow thread pool with 1 threads.\n",
      "INFO ilastik_main: Configuring lazyflow RAM limit to 3.9GiB\n",
      "INFO lazyflow.utility.memory: Available memory set to 3.9GiB\n",
      "WARNING 2024-03-05 16:15:23,611 opConservationTracking 3187 140365151549248 Could not find any ILP solver\n",
      "WARNING 2024-03-05 16:15:23,646 opStructuredTracking 3187 140365151549248 Could not find any ILP solver\n",
      "WARNING 2024-03-05 16:15:23,649 structuredTrackingWorkflow 3187 140365151549248 Could not find any learning solver. Tracking will use flow-based solver (DPCT). Learning for tracking will be disabled!\n",
      "INFO ilastik.shell.projectManager: Opening Project: /mnt/d/brainquant_RC/bq3d_demo/filters/cfos_6h_nov2.ilp\n",
      "WARNING dataset.py(313): H5pyDeprecationWarning: dataset.value has been deprecated. Use dataset[()] instead.\n",
      "WARNING opSimpleBlockedArrayCache.py(43): FutureWarning: Conversion of the second argument of issubdtype from `dtype` to `np.generic` is deprecated. In future, it will be treated as `np.object_ == np.dtype(dtype).type`.\n",
      "WARNING opSlicedBlockedArrayCache.py(141): FutureWarning: Conversion of the second argument of issubdtype from `dtype` to `np.generic` is deprecated. In future, it will be treated as `np.object_ == np.dtype(dtype).type`.\n",
      "INFO ilastik.workflows.pixelClassification.pixelClassificationWorkflow: Beginning Batch Processing\n",
      "INFO ilastik.applets.batchProcessing.batchProcessingApplet: Exporting to /tmp/bq3daff47425-a803-44e1-bbc6-af5c83b18e93/runcdc2e751-c9fe-484a-8153-9aaac9c51038/PixelClassificationc99eb279-372d-421e-950e-eebcf230a8cc/out_prelim.npy\n",
      "WARNING 2024-03-05 16:15:25,881 opNpyWriter 3187 140365151549248 The current implementation of NPY-format data export computes the entire dataset at once, which requires lots of RAM.\n",
      "INFO lazyflow.utility.bigRequestStreamer: Estimated RAM usage per pixel is 204.0B * safety factor (2.0)\n",
      "INFO lazyflow.utility.bigRequestStreamer: determining blockshape assuming available_ram is 2.9GiB, split between 1 threads\n",
      "INFO lazyflow.utility.bigRequestStreamer: Chose blockshape: (1, 2049, 867, 2)\n",
      "INFO lazyflow.utility.bigRequestStreamer: Estimated RAM usage per block is 691.2MiB\n",
      "DEBUG lazyflow.operators.classifierOperators: Features took 1.643402 seconds. Prediction took 6.428658 seconds. Subregion: start '[0, 0, 0, 0]' stop '[1, 2049, 867, 1]'\n",
      "DEBUG lazyflow.operators.classifierOperators: Features took 1.666191 seconds. Prediction took 6.234135 seconds. Subregion: start '[1, 0, 0, 0]' stop '[2, 2049, 867, 1]'\n",
      "DEBUG lazyflow.operators.classifierOperators: Features took 1.654712 seconds. Prediction took 6.103836 seconds. Subregion: start '[2, 0, 0, 0]' stop '[3, 2049, 867, 1]'\n",
      "DEBUG lazyflow.operators.classifierOperators: Features took 1.628834 seconds. Prediction took 6.178524 seconds. Subregion: start '[3, 0, 0, 0]' stop '[4, 2049, 867, 1]'\n",
      "DEBUG lazyflow.operators.classifierOperators: Features took 1.465802 seconds. Prediction took 6.609574 seconds. Subregion: start '[4, 0, 0, 0]' stop '[5, 2049, 867, 1]'\n",
      "DEBUG lazyflow.operators.classifierOperators: Features took 2.006356 seconds. Prediction took 6.619702 seconds. Subregion: start '[5, 0, 0, 0]' stop '[6, 2049, 867, 1]'\n",
      "DEBUG lazyflow.operators.classifierOperators: Features took 1.832417 seconds. Prediction took 6.581799 seconds. Subregion: start '[6, 0, 0, 0]' stop '[7, 2049, 867, 1]'\n",
      "DEBUG lazyflow.operators.classifierOperators: Features took 1.8516590000000002 seconds. Prediction took 6.558651 seconds. Subregion: start '[7, 0, 0, 0]' stop '[8, 2049, 867, 1]'\n",
      "DEBUG lazyflow.operators.classifierOperators: Features took 1.724592 seconds. Prediction took 6.435517 seconds. Subregion: start '[8, 0, 0, 0]' stop '[9, 2049, 867, 1]'\n",
      "DEBUG lazyflow.operators.classifierOperators: Features took 1.647168 seconds. Prediction took 6.509013 seconds. Subregion: start '[9, 0, 0, 0]' stop '[10, 2049, 867, 1]'\n",
      "DEBUG lazyflow.operators.classifierOperators: Features took 1.609547 seconds. Prediction took 6.727162 seconds. Subregion: start '[10, 0, 0, 0]' stop '[11, 2049, 867, 1]'\n",
      "DEBUG lazyflow.operators.classifierOperators: Features took 1.751695 seconds. Prediction took 6.67416 seconds. Subregion: start '[11, 0, 0, 0]' stop '[12, 2049, 867, 1]'\n",
      "DEBUG lazyflow.operators.classifierOperators: Features took 1.582011 seconds. Prediction took 6.392171 seconds. Subregion: start '[12, 0, 0, 0]' stop '[13, 2049, 867, 1]'\n",
      "DEBUG lazyflow.operators.classifierOperators: Features took 1.5207600000000001 seconds. Prediction took 6.281381 seconds. Subregion: start '[13, 0, 0, 0]' stop '[14, 2049, 867, 1]'\n",
      "DEBUG lazyflow.operators.classifierOperators: Features took 1.786981 seconds. Prediction took 6.5797039999999996 seconds. Subregion: start '[14, 0, 0, 0]' stop '[15, 2049, 867, 1]'\n",
      "DEBUG lazyflow.operators.classifierOperators: Features took 1.8890470000000001 seconds. Prediction took 6.475362 seconds. Subregion: start '[15, 0, 0, 0]' stop '[16, 2049, 867, 1]'\n",
      "DEBUG lazyflow.operators.classifierOperators: Features took 1.8051300000000001 seconds. Prediction took 6.475926 seconds. Subregion: start '[16, 0, 0, 0]' stop '[17, 2049, 867, 1]'\n",
      "DEBUG lazyflow.operators.classifierOperators: Features took 1.586876 seconds. Prediction took 6.139515 seconds. Subregion: start '[17, 0, 0, 0]' stop '[18, 2049, 867, 1]'\n",
      "DEBUG lazyflow.operators.classifierOperators: Features took 1.6641620000000001 seconds. Prediction took 6.330012 seconds. Subregion: start '[18, 0, 0, 0]' stop '[19, 2049, 867, 1]'\n",
      "DEBUG lazyflow.operators.classifierOperators: Features took 1.8021310000000001 seconds. Prediction took 6.307171 seconds. Subregion: start '[19, 0, 0, 0]' stop '[20, 2049, 867, 1]'\n"
     ]
    },
    {
     "name": "stdout",
     "output_type": "stream",
     "text": [
      "DEBUG lazyflow.operators.classifierOperators: Features took 1.629046 seconds. Prediction took 6.194948 seconds. Subregion: start '[20, 0, 0, 0]' stop '[21, 2049, 867, 1]'\n",
      "DEBUG lazyflow.operators.classifierOperators: Features took 1.68717 seconds. Prediction took 6.274802 seconds. Subregion: start '[21, 0, 0, 0]' stop '[22, 2049, 867, 1]'\n",
      "DEBUG lazyflow.operators.classifierOperators: Features took 1.636594 seconds. Prediction took 6.104516 seconds. Subregion: start '[22, 0, 0, 0]' stop '[23, 2049, 867, 1]'\n",
      "DEBUG lazyflow.operators.classifierOperators: Features took 1.699726 seconds. Prediction took 6.318663 seconds. Subregion: start '[23, 0, 0, 0]' stop '[24, 2049, 867, 1]'\n",
      "DEBUG lazyflow.operators.classifierOperators: Features took 1.610283 seconds. Prediction took 6.235936 seconds. Subregion: start '[24, 0, 0, 0]' stop '[25, 2049, 867, 1]'\n",
      "DEBUG lazyflow.operators.classifierOperators: Features took 1.691317 seconds. Prediction took 6.604265 seconds. Subregion: start '[25, 0, 0, 0]' stop '[26, 2049, 867, 1]'\n",
      "DEBUG lazyflow.operators.classifierOperators: Features took 1.694178 seconds. Prediction took 6.147082 seconds. Subregion: start '[26, 0, 0, 0]' stop '[27, 2049, 867, 1]'\n",
      "DEBUG lazyflow.operators.classifierOperators: Features took 1.6844130000000002 seconds. Prediction took 6.296755 seconds. Subregion: start '[27, 0, 0, 0]' stop '[28, 2049, 867, 1]'\n",
      "DEBUG lazyflow.operators.classifierOperators: Features took 1.701197 seconds. Prediction took 6.28399 seconds. Subregion: start '[28, 0, 0, 0]' stop '[29, 2049, 867, 1]'\n",
      "DEBUG lazyflow.operators.classifierOperators: Features took 1.801734 seconds. Prediction took 6.373771 seconds. Subregion: start '[29, 0, 0, 0]' stop '[30, 2049, 867, 1]'\n",
      "DEBUG lazyflow.operators.classifierOperators: Features took 1.6746349999999999 seconds. Prediction took 6.365844 seconds. Subregion: start '[30, 0, 0, 0]' stop '[31, 2049, 867, 1]'\n",
      "DEBUG lazyflow.operators.classifierOperators: Features took 1.704303 seconds. Prediction took 5.912936 seconds. Subregion: start '[31, 0, 0, 0]' stop '[32, 2049, 867, 1]'\n",
      "DEBUG lazyflow.operators.classifierOperators: Features took 1.795209 seconds. Prediction took 6.4316130000000005 seconds. Subregion: start '[32, 0, 0, 0]' stop '[33, 2049, 867, 1]'\n",
      "DEBUG lazyflow.operators.classifierOperators: Features took 1.772256 seconds. Prediction took 6.243534 seconds. Subregion: start '[33, 0, 0, 0]' stop '[34, 2049, 867, 1]'\n",
      "DEBUG lazyflow.operators.classifierOperators: Features took 1.7040410000000001 seconds. Prediction took 6.483229 seconds. Subregion: start '[34, 0, 0, 0]' stop '[35, 2049, 867, 1]'\n",
      "DEBUG lazyflow.operators.classifierOperators: Features took 1.7936429999999999 seconds. Prediction took 6.509898 seconds. Subregion: start '[35, 0, 0, 0]' stop '[36, 2049, 867, 1]'\n",
      "DEBUG lazyflow.operators.classifierOperators: Features took 1.729581 seconds. Prediction took 6.029073 seconds. Subregion: start '[36, 0, 0, 0]' stop '[37, 2049, 867, 1]'\n",
      "DEBUG lazyflow.operators.classifierOperators: Features took 1.7297500000000001 seconds. Prediction took 6.456615 seconds. Subregion: start '[37, 0, 0, 0]' stop '[38, 2049, 867, 1]'\n",
      "DEBUG lazyflow.operators.classifierOperators: Features took 1.570259 seconds. Prediction took 6.301888 seconds. Subregion: start '[38, 0, 0, 0]' stop '[39, 2049, 867, 1]'\n",
      "DEBUG lazyflow.operators.classifierOperators: Features took 1.6716579999999999 seconds. Prediction took 6.237861 seconds. Subregion: start '[39, 0, 0, 0]' stop '[40, 2049, 867, 1]'\n",
      "DEBUG lazyflow.operators.classifierOperators: Features took 1.687643 seconds. Prediction took 6.407967 seconds. Subregion: start '[40, 0, 0, 0]' stop '[41, 2049, 867, 1]'\n",
      "DEBUG lazyflow.operators.classifierOperators: Features took 1.819543 seconds. Prediction took 6.077903 seconds. Subregion: start '[41, 0, 0, 0]' stop '[42, 2049, 867, 1]'\n",
      "DEBUG lazyflow.operators.classifierOperators: Features took 1.574239 seconds. Prediction took 6.391739 seconds. Subregion: start '[42, 0, 0, 0]' stop '[43, 2049, 867, 1]'\n",
      "DEBUG lazyflow.operators.classifierOperators: Features took 1.747608 seconds. Prediction took 6.403618 seconds. Subregion: start '[43, 0, 0, 0]' stop '[44, 2049, 867, 1]'\n",
      "DEBUG lazyflow.operators.classifierOperators: Features took 1.80555 seconds. Prediction took 6.242115 seconds. Subregion: start '[44, 0, 0, 0]' stop '[45, 2049, 867, 1]'\n",
      "DEBUG lazyflow.operators.classifierOperators: Features took 1.6816010000000001 seconds. Prediction took 6.501447 seconds. Subregion: start '[45, 0, 0, 0]' stop '[46, 2049, 867, 1]'\n",
      "DEBUG lazyflow.operators.classifierOperators: Features took 1.7815400000000001 seconds. Prediction took 6.454717 seconds. Subregion: start '[46, 0, 0, 0]' stop '[47, 2049, 867, 1]'\n",
      "DEBUG lazyflow.operators.classifierOperators: Features took 1.677766 seconds. Prediction took 6.218049 seconds. Subregion: start '[47, 0, 0, 0]' stop '[48, 2049, 867, 1]'\n",
      "DEBUG lazyflow.operators.classifierOperators: Features took 1.700729 seconds. Prediction took 6.63725 seconds. Subregion: start '[48, 0, 0, 0]' stop '[49, 2049, 867, 1]'\n",
      "DEBUG lazyflow.operators.classifierOperators: Features took 1.6662400000000002 seconds. Prediction took 6.194041 seconds. Subregion: start '[49, 0, 0, 0]' stop '[50, 2049, 867, 1]'\n",
      "DEBUG lazyflow.operators.classifierOperators: Features took 1.499965 seconds. Prediction took 6.051435 seconds. Subregion: start '[50, 0, 0, 0]' stop '[51, 2049, 867, 1]'\n",
      "DEBUG lazyflow.operators.classifierOperators: Features took 1.577585 seconds. Prediction took 6.1159 seconds. Subregion: start '[51, 0, 0, 0]' stop '[52, 2049, 867, 1]'\n",
      "DEBUG lazyflow.operators.classifierOperators: Features took 1.4905 seconds. Prediction took 5.890006 seconds. Subregion: start '[52, 0, 0, 0]' stop '[53, 2049, 867, 1]'\n",
      "DEBUG lazyflow.operators.classifierOperators: Features took 1.399817 seconds. Prediction took 6.29108 seconds. Subregion: start '[53, 0, 0, 0]' stop '[54, 2049, 867, 1]'\n",
      "DEBUG lazyflow.operators.classifierOperators: Features took 1.437946 seconds. Prediction took 5.576485 seconds. Subregion: start '[54, 0, 0, 0]' stop '[55, 2049, 867, 1]'\n",
      "DEBUG lazyflow.operators.classifierOperators: Features took 1.520229 seconds. Prediction took 5.479197 seconds. Subregion: start '[55, 0, 0, 0]' stop '[56, 2049, 867, 1]'\n",
      "DEBUG lazyflow.operators.classifierOperators: Features took 1.491573 seconds. Prediction took 5.692971 seconds. Subregion: start '[56, 0, 0, 0]' stop '[57, 2049, 867, 1]'\n",
      "DEBUG lazyflow.operators.classifierOperators: Features took 1.424569 seconds. Prediction took 6.199846 seconds. Subregion: start '[57, 0, 0, 0]' stop '[58, 2049, 867, 1]'\n",
      "DEBUG lazyflow.operators.classifierOperators: Features took 1.557553 seconds. Prediction took 6.129621 seconds. Subregion: start '[58, 0, 0, 0]' stop '[59, 2049, 867, 1]'\n",
      "DEBUG lazyflow.operators.classifierOperators: Features took 1.551177 seconds. Prediction took 6.304061 seconds. Subregion: start '[59, 0, 0, 0]' stop '[60, 2049, 867, 1]'\n",
      "DEBUG lazyflow.operators.classifierOperators: Features took 1.528859 seconds. Prediction took 6.154578 seconds. Subregion: start '[60, 0, 0, 0]' stop '[61, 2049, 867, 1]'\n",
      "DEBUG lazyflow.operators.classifierOperators: Features took 1.5396649999999998 seconds. Prediction took 6.122739 seconds. Subregion: start '[61, 0, 0, 0]' stop '[62, 2049, 867, 1]'\n",
      "DEBUG lazyflow.operators.classifierOperators: Features took 1.542396 seconds. Prediction took 6.25971 seconds. Subregion: start '[62, 0, 0, 0]' stop '[63, 2049, 867, 1]'\n",
      "DEBUG lazyflow.operators.classifierOperators: Features took 1.528549 seconds. Prediction took 6.109434 seconds. Subregion: start '[63, 0, 0, 0]' stop '[64, 2049, 867, 1]'\n",
      "DEBUG lazyflow.operators.classifierOperators: Features took 1.524132 seconds. Prediction took 6.379394 seconds. Subregion: start '[64, 0, 0, 0]' stop '[65, 2049, 867, 1]'\n",
      "DEBUG lazyflow.operators.classifierOperators: Features took 1.828835 seconds. Prediction took 6.447335 seconds. Subregion: start '[65, 0, 0, 0]' stop '[66, 2049, 867, 1]'\n",
      "DEBUG lazyflow.operators.classifierOperators: Features took 1.84128 seconds. Prediction took 6.585984 seconds. Subregion: start '[66, 0, 0, 0]' stop '[67, 2049, 867, 1]'\n",
      "DEBUG lazyflow.operators.classifierOperators: Features took 1.858918 seconds. Prediction took 6.428792 seconds. Subregion: start '[67, 0, 0, 0]' stop '[68, 2049, 867, 1]'\n"
     ]
    },
    {
     "name": "stdout",
     "output_type": "stream",
     "text": [
      "DEBUG lazyflow.operators.classifierOperators: Features took 1.661143 seconds. Prediction took 6.554756 seconds. Subregion: start '[68, 0, 0, 0]' stop '[69, 2049, 867, 1]'\n",
      "DEBUG lazyflow.operators.classifierOperators: Features took 1.801936 seconds. Prediction took 6.345525 seconds. Subregion: start '[69, 0, 0, 0]' stop '[70, 2049, 867, 1]'\n",
      "DEBUG lazyflow.operators.classifierOperators: Features took 1.711407 seconds. Prediction took 6.435936 seconds. Subregion: start '[70, 0, 0, 0]' stop '[71, 2049, 867, 1]'\n",
      "DEBUG lazyflow.operators.classifierOperators: Features took 1.617028 seconds. Prediction took 6.685886 seconds. Subregion: start '[71, 0, 0, 0]' stop '[72, 2049, 867, 1]'\n",
      "DEBUG lazyflow.operators.classifierOperators: Features took 1.864738 seconds. Prediction took 6.487407 seconds. Subregion: start '[72, 0, 0, 0]' stop '[73, 2049, 867, 1]'\n",
      "DEBUG lazyflow.operators.classifierOperators: Features took 1.8359779999999999 seconds. Prediction took 6.369506 seconds. Subregion: start '[73, 0, 0, 0]' stop '[74, 2049, 867, 1]'\n",
      "DEBUG lazyflow.operators.classifierOperators: Features took 1.815953 seconds. Prediction took 6.63901 seconds. Subregion: start '[74, 0, 0, 0]' stop '[75, 2049, 867, 1]'\n",
      "DEBUG lazyflow.operators.classifierOperators: Features took 1.769329 seconds. Prediction took 6.572574 seconds. Subregion: start '[75, 0, 0, 0]' stop '[76, 2049, 867, 1]'\n",
      "DEBUG lazyflow.operators.classifierOperators: Features took 1.716591 seconds. Prediction took 6.510025 seconds. Subregion: start '[76, 0, 0, 0]' stop '[77, 2049, 867, 1]'\n",
      "DEBUG lazyflow.operators.classifierOperators: Features took 1.6782080000000001 seconds. Prediction took 6.291306 seconds. Subregion: start '[77, 0, 0, 0]' stop '[78, 2049, 867, 1]'\n",
      "DEBUG lazyflow.operators.classifierOperators: Features took 1.767922 seconds. Prediction took 6.7510639999999995 seconds. Subregion: start '[78, 0, 0, 0]' stop '[79, 2049, 867, 1]'\n",
      "DEBUG lazyflow.operators.classifierOperators: Features took 1.563607 seconds. Prediction took 6.84546 seconds. Subregion: start '[79, 0, 0, 0]' stop '[80, 2049, 867, 1]'\n",
      "DEBUG lazyflow.operators.classifierOperators: Features took 1.7781959999999999 seconds. Prediction took 6.229546 seconds. Subregion: start '[80, 0, 0, 0]' stop '[81, 2049, 867, 1]'\n",
      "DEBUG lazyflow.operators.classifierOperators: Features took 1.682336 seconds. Prediction took 6.340619 seconds. Subregion: start '[81, 0, 0, 0]' stop '[82, 2049, 867, 1]'\n",
      "DEBUG lazyflow.operators.classifierOperators: Features took 1.709814 seconds. Prediction took 6.412769 seconds. Subregion: start '[82, 0, 0, 0]' stop '[83, 2049, 867, 1]'\n",
      "DEBUG lazyflow.operators.classifierOperators: Features took 1.82066 seconds. Prediction took 6.170434 seconds. Subregion: start '[83, 0, 0, 0]' stop '[84, 2049, 867, 1]'\n",
      "DEBUG lazyflow.operators.classifierOperators: Features took 1.762442 seconds. Prediction took 6.482754 seconds. Subregion: start '[84, 0, 0, 0]' stop '[85, 2049, 867, 1]'\n",
      "DEBUG lazyflow.operators.classifierOperators: Features took 1.774788 seconds. Prediction took 6.358423 seconds. Subregion: start '[85, 0, 0, 0]' stop '[86, 2049, 867, 1]'\n",
      "DEBUG lazyflow.operators.classifierOperators: Features took 1.773569 seconds. Prediction took 6.475233 seconds. Subregion: start '[86, 0, 0, 0]' stop '[87, 2049, 867, 1]'\n",
      "DEBUG lazyflow.operators.classifierOperators: Features took 1.7244540000000002 seconds. Prediction took 6.462299 seconds. Subregion: start '[87, 0, 0, 0]' stop '[88, 2049, 867, 1]'\n",
      "DEBUG lazyflow.operators.classifierOperators: Features took 1.690499 seconds. Prediction took 6.314177 seconds. Subregion: start '[88, 0, 0, 0]' stop '[89, 2049, 867, 1]'\n",
      "DEBUG lazyflow.operators.classifierOperators: Features took 1.552662 seconds. Prediction took 6.48899 seconds. Subregion: start '[89, 0, 0, 0]' stop '[90, 2049, 867, 1]'\n",
      "DEBUG lazyflow.operators.classifierOperators: Features took 1.679597 seconds. Prediction took 6.453378 seconds. Subregion: start '[90, 0, 0, 0]' stop '[91, 2049, 867, 1]'\n",
      "DEBUG lazyflow.operators.classifierOperators: Features took 1.791881 seconds. Prediction took 6.6686879999999995 seconds. Subregion: start '[91, 0, 0, 0]' stop '[92, 2049, 867, 1]'\n",
      "DEBUG lazyflow.operators.classifierOperators: Features took 1.5712169999999999 seconds. Prediction took 5.54892 seconds. Subregion: start '[92, 0, 0, 0]' stop '[93, 2049, 867, 1]'\n",
      "DEBUG lazyflow.operators.classifierOperators: Features took 1.5277910000000001 seconds. Prediction took 5.563811 seconds. Subregion: start '[93, 0, 0, 0]' stop '[94, 2049, 867, 1]'\n",
      "DEBUG lazyflow.operators.classifierOperators: Features took 3.093406 seconds. Prediction took 5.670333 seconds. Subregion: start '[94, 0, 0, 0]' stop '[95, 2049, 867, 1]'\n",
      "DEBUG lazyflow.operators.classifierOperators: Features took 1.420719 seconds. Prediction took 5.557402 seconds. Subregion: start '[95, 0, 0, 0]' stop '[96, 2049, 867, 1]'\n",
      "DEBUG lazyflow.operators.classifierOperators: Features took 1.478825 seconds. Prediction took 5.62191 seconds. Subregion: start '[96, 0, 0, 0]' stop '[97, 2049, 867, 1]'\n",
      "DEBUG lazyflow.operators.classifierOperators: Features took 1.401936 seconds. Prediction took 5.95732 seconds. Subregion: start '[97, 0, 0, 0]' stop '[98, 2049, 867, 1]'\n",
      "DEBUG lazyflow.operators.classifierOperators: Features took 1.378968 seconds. Prediction took 5.639259 seconds. Subregion: start '[98, 0, 0, 0]' stop '[99, 2049, 867, 1]'\n",
      "DEBUG lazyflow.operators.classifierOperators: Features took 1.398825 seconds. Prediction took 5.673579 seconds. Subregion: start '[99, 0, 0, 0]' stop '[100, 2049, 867, 1]'\n",
      "DEBUG lazyflow.operators.classifierOperators: Features took 1.614916 seconds. Prediction took 6.585102 seconds. Subregion: start '[100, 0, 0, 0]' stop '[101, 2049, 867, 1]'\n",
      "DEBUG lazyflow.operators.classifierOperators: Features took 1.761432 seconds. Prediction took 7.06086 seconds. Subregion: start '[101, 0, 0, 0]' stop '[102, 2049, 867, 1]'\n",
      "DEBUG lazyflow.operators.classifierOperators: Features took 1.775378 seconds. Prediction took 7.236314 seconds. Subregion: start '[102, 0, 0, 0]' stop '[103, 2049, 867, 1]'\n",
      "DEBUG lazyflow.operators.classifierOperators: Features took 1.873251 seconds. Prediction took 7.135096 seconds. Subregion: start '[103, 0, 0, 0]' stop '[104, 2049, 867, 1]'\n",
      "DEBUG lazyflow.operators.classifierOperators: Features took 1.696294 seconds. Prediction took 6.942737 seconds. Subregion: start '[104, 0, 0, 0]' stop '[105, 2049, 867, 1]'\n",
      "DEBUG lazyflow.operators.classifierOperators: Features took 1.7892130000000002 seconds. Prediction took 7.24606 seconds. Subregion: start '[105, 0, 0, 0]' stop '[106, 2049, 867, 1]'\n",
      "DEBUG lazyflow.operators.classifierOperators: Features took 1.803212 seconds. Prediction took 7.107611 seconds. Subregion: start '[106, 0, 0, 0]' stop '[107, 2049, 867, 1]'\n",
      "DEBUG lazyflow.operators.classifierOperators: Features took 1.8820700000000001 seconds. Prediction took 6.861975 seconds. Subregion: start '[107, 0, 0, 0]' stop '[108, 2049, 867, 1]'\n",
      "DEBUG lazyflow.operators.classifierOperators: Features took 1.820563 seconds. Prediction took 6.884747 seconds. Subregion: start '[108, 0, 0, 0]' stop '[109, 2049, 867, 1]'\n",
      "DEBUG lazyflow.operators.classifierOperators: Features took 1.736796 seconds. Prediction took 6.936498 seconds. Subregion: start '[109, 0, 0, 0]' stop '[110, 2049, 867, 1]'\n",
      "DEBUG lazyflow.operators.classifierOperators: Features took 1.880424 seconds. Prediction took 6.985651 seconds. Subregion: start '[110, 0, 0, 0]' stop '[111, 2049, 867, 1]'\n",
      "DEBUG lazyflow.operators.classifierOperators: Features took 1.915287 seconds. Prediction took 7.271228 seconds. Subregion: start '[111, 0, 0, 0]' stop '[112, 2049, 867, 1]'\n",
      "DEBUG lazyflow.operators.classifierOperators: Features took 1.843432 seconds. Prediction took 6.699117 seconds. Subregion: start '[112, 0, 0, 0]' stop '[113, 2049, 867, 1]'\n",
      "DEBUG lazyflow.operators.classifierOperators: Features took 1.8109250000000001 seconds. Prediction took 6.946848 seconds. Subregion: start '[113, 0, 0, 0]' stop '[114, 2049, 867, 1]'\n",
      "DEBUG lazyflow.operators.classifierOperators: Features took 1.8832200000000001 seconds. Prediction took 6.894986 seconds. Subregion: start '[114, 0, 0, 0]' stop '[115, 2049, 867, 1]'\n",
      "DEBUG lazyflow.operators.classifierOperators: Features took 1.724804 seconds. Prediction took 6.823272 seconds. Subregion: start '[115, 0, 0, 0]' stop '[116, 2049, 867, 1]'\n"
     ]
    },
    {
     "name": "stdout",
     "output_type": "stream",
     "text": [
      "DEBUG lazyflow.operators.classifierOperators: Features took 1.8199589999999999 seconds. Prediction took 6.700385 seconds. Subregion: start '[116, 0, 0, 0]' stop '[117, 2049, 867, 1]'\n",
      "DEBUG lazyflow.operators.classifierOperators: Features took 1.7112720000000001 seconds. Prediction took 7.267498 seconds. Subregion: start '[117, 0, 0, 0]' stop '[118, 2049, 867, 1]'\n",
      "DEBUG lazyflow.operators.classifierOperators: Features took 1.7566199999999998 seconds. Prediction took 6.778421 seconds. Subregion: start '[118, 0, 0, 0]' stop '[119, 2049, 867, 1]'\n",
      "DEBUG lazyflow.operators.classifierOperators: Features took 1.846943 seconds. Prediction took 6.745635 seconds. Subregion: start '[119, 0, 0, 0]' stop '[120, 2049, 867, 1]'\n",
      "DEBUG lazyflow.operators.classifierOperators: Features took 1.865232 seconds. Prediction took 7.130918 seconds. Subregion: start '[120, 0, 0, 0]' stop '[121, 2049, 867, 1]'\n",
      "DEBUG lazyflow.operators.classifierOperators: Features took 1.789815 seconds. Prediction took 7.01885 seconds. Subregion: start '[121, 0, 0, 0]' stop '[122, 2049, 867, 1]'\n",
      "DEBUG lazyflow.operators.classifierOperators: Features took 1.772316 seconds. Prediction took 7.149423 seconds. Subregion: start '[122, 0, 0, 0]' stop '[123, 2049, 867, 1]'\n",
      "DEBUG lazyflow.operators.classifierOperators: Features took 1.900876 seconds. Prediction took 6.870435 seconds. Subregion: start '[123, 0, 0, 0]' stop '[124, 2049, 867, 1]'\n",
      "DEBUG lazyflow.operators.classifierOperators: Features took 1.7774299999999998 seconds. Prediction took 7.024602 seconds. Subregion: start '[124, 0, 0, 0]' stop '[125, 2049, 867, 1]'\n",
      "DEBUG lazyflow.operators.classifierOperators: Features took 1.880799 seconds. Prediction took 6.9307680000000005 seconds. Subregion: start '[125, 0, 0, 0]' stop '[126, 2049, 867, 1]'\n",
      "DEBUG lazyflow.operators.classifierOperators: Features took 1.868048 seconds. Prediction took 6.82522 seconds. Subregion: start '[126, 0, 0, 0]' stop '[127, 2049, 867, 1]'\n",
      "DEBUG lazyflow.operators.classifierOperators: Features took 1.8458890000000001 seconds. Prediction took 6.92753 seconds. Subregion: start '[127, 0, 0, 0]' stop '[128, 2049, 867, 1]'\n",
      "DEBUG lazyflow.operators.classifierOperators: Features took 1.809408 seconds. Prediction took 7.056594 seconds. Subregion: start '[128, 0, 0, 0]' stop '[129, 2049, 867, 1]'\n",
      "DEBUG lazyflow.operators.classifierOperators: Features took 1.779992 seconds. Prediction took 6.848945 seconds. Subregion: start '[129, 0, 0, 0]' stop '[130, 2049, 867, 1]'\n",
      "DEBUG lazyflow.operators.classifierOperators: Features took 1.74802 seconds. Prediction took 6.649232 seconds. Subregion: start '[130, 0, 0, 0]' stop '[131, 2049, 867, 1]'\n",
      "DEBUG lazyflow.operators.classifierOperators: Features took 1.810155 seconds. Prediction took 6.720619 seconds. Subregion: start '[131, 0, 0, 0]' stop '[132, 2049, 867, 1]'\n",
      "DEBUG lazyflow.operators.classifierOperators: Features took 1.835513 seconds. Prediction took 6.612431 seconds. Subregion: start '[132, 0, 0, 0]' stop '[133, 2049, 867, 1]'\n",
      "DEBUG lazyflow.operators.classifierOperators: Features took 1.800989 seconds. Prediction took 7.013545 seconds. Subregion: start '[133, 0, 0, 0]' stop '[134, 2049, 867, 1]'\n",
      "DEBUG lazyflow.operators.classifierOperators: Features took 1.859677 seconds. Prediction took 7.160118 seconds. Subregion: start '[134, 0, 0, 0]' stop '[135, 2049, 867, 1]'\n",
      "DEBUG lazyflow.operators.classifierOperators: Features took 1.72009 seconds. Prediction took 7.049431 seconds. Subregion: start '[135, 0, 0, 0]' stop '[136, 2049, 867, 1]'\n",
      "DEBUG lazyflow.operators.classifierOperators: Features took 1.9088479999999999 seconds. Prediction took 6.599977 seconds. Subregion: start '[136, 0, 0, 0]' stop '[137, 2049, 867, 1]'\n",
      "DEBUG lazyflow.operators.classifierOperators: Features took 1.815911 seconds. Prediction took 6.903526 seconds. Subregion: start '[137, 0, 0, 0]' stop '[138, 2049, 867, 1]'\n",
      "DEBUG lazyflow.operators.classifierOperators: Features took 1.794143 seconds. Prediction took 6.961051 seconds. Subregion: start '[138, 0, 0, 0]' stop '[139, 2049, 867, 1]'\n",
      "DEBUG lazyflow.operators.classifierOperators: Features took 1.942554 seconds. Prediction took 6.603913 seconds. Subregion: start '[139, 0, 0, 0]' stop '[140, 2049, 867, 1]'\n",
      "DEBUG lazyflow.operators.classifierOperators: Features took 1.801676 seconds. Prediction took 6.935482 seconds. Subregion: start '[140, 0, 0, 0]' stop '[141, 2049, 867, 1]'\n",
      "DEBUG lazyflow.operators.classifierOperators: Features took 1.932413 seconds. Prediction took 7.191669 seconds. Subregion: start '[141, 0, 0, 0]' stop '[142, 2049, 867, 1]'\n",
      "DEBUG lazyflow.operators.classifierOperators: Features took 1.957472 seconds. Prediction took 7.211223 seconds. Subregion: start '[142, 0, 0, 0]' stop '[143, 2049, 867, 1]'\n",
      "DEBUG lazyflow.operators.classifierOperators: Features took 1.9318140000000001 seconds. Prediction took 7.056533 seconds. Subregion: start '[143, 0, 0, 0]' stop '[144, 2049, 867, 1]'\n",
      "DEBUG lazyflow.operators.classifierOperators: Features took 1.882276 seconds. Prediction took 6.996951 seconds. Subregion: start '[144, 0, 0, 0]' stop '[145, 2049, 867, 1]'\n",
      "DEBUG lazyflow.operators.classifierOperators: Features took 1.820303 seconds. Prediction took 6.977251 seconds. Subregion: start '[145, 0, 0, 0]' stop '[146, 2049, 867, 1]'\n",
      "DEBUG lazyflow.operators.classifierOperators: Features took 1.843237 seconds. Prediction took 6.830739 seconds. Subregion: start '[146, 0, 0, 0]' stop '[147, 2049, 867, 1]'\n",
      "DEBUG lazyflow.operators.classifierOperators: Features took 1.8248 seconds. Prediction took 6.573734 seconds. Subregion: start '[147, 0, 0, 0]' stop '[148, 2049, 867, 1]'\n",
      "DEBUG lazyflow.operators.classifierOperators: Features took 1.932266 seconds. Prediction took 6.671786 seconds. Subregion: start '[148, 0, 0, 0]' stop '[149, 2049, 867, 1]'\n",
      "DEBUG lazyflow.operators.classifierOperators: Features took 1.839836 seconds. Prediction took 6.962261 seconds. Subregion: start '[149, 0, 0, 0]' stop '[150, 2049, 867, 1]'\n",
      "DEBUG lazyflow.operators.classifierOperators: Features took 1.8437350000000001 seconds. Prediction took 7.003813 seconds. Subregion: start '[150, 0, 0, 0]' stop '[151, 2049, 867, 1]'\n",
      "DEBUG lazyflow.operators.classifierOperators: Features took 1.837409 seconds. Prediction took 6.514473 seconds. Subregion: start '[151, 0, 0, 0]' stop '[152, 2049, 867, 1]'\n",
      "DEBUG lazyflow.operators.classifierOperators: Features took 1.90408 seconds. Prediction took 6.6959610000000005 seconds. Subregion: start '[152, 0, 0, 0]' stop '[153, 2049, 867, 1]'\n",
      "DEBUG lazyflow.operators.classifierOperators: Features took 1.862303 seconds. Prediction took 6.978572 seconds. Subregion: start '[153, 0, 0, 0]' stop '[154, 2049, 867, 1]'\n",
      "DEBUG lazyflow.operators.classifierOperators: Features took 1.852616 seconds. Prediction took 6.622107 seconds. Subregion: start '[154, 0, 0, 0]' stop '[155, 2049, 867, 1]'\n",
      "DEBUG lazyflow.operators.classifierOperators: Features took 1.738307 seconds. Prediction took 6.983855 seconds. Subregion: start '[155, 0, 0, 0]' stop '[156, 2049, 867, 1]'\n",
      "DEBUG lazyflow.operators.classifierOperators: Features took 1.7886250000000001 seconds. Prediction took 6.580138 seconds. Subregion: start '[156, 0, 0, 0]' stop '[157, 2049, 867, 1]'\n",
      "DEBUG lazyflow.operators.classifierOperators: Features took 1.883516 seconds. Prediction took 7.147579 seconds. Subregion: start '[157, 0, 0, 0]' stop '[158, 2049, 867, 1]'\n",
      "DEBUG lazyflow.operators.classifierOperators: Features took 1.889287 seconds. Prediction took 6.719637 seconds. Subregion: start '[158, 0, 0, 0]' stop '[159, 2049, 867, 1]'\n",
      "DEBUG lazyflow.operators.classifierOperators: Features took 1.845803 seconds. Prediction took 6.945371 seconds. Subregion: start '[159, 0, 0, 0]' stop '[160, 2049, 867, 1]'\n",
      "DEBUG lazyflow.operators.classifierOperators: Features took 1.922923 seconds. Prediction took 7.15862 seconds. Subregion: start '[160, 0, 0, 0]' stop '[161, 2049, 867, 1]'\n",
      "DEBUG lazyflow.operators.classifierOperators: Features took 1.855288 seconds. Prediction took 7.169439 seconds. Subregion: start '[161, 0, 0, 0]' stop '[162, 2049, 867, 1]'\n",
      "DEBUG lazyflow.operators.classifierOperators: Features took 1.897146 seconds. Prediction took 6.873946 seconds. Subregion: start '[162, 0, 0, 0]' stop '[163, 2049, 867, 1]'\n"
     ]
    },
    {
     "name": "stdout",
     "output_type": "stream",
     "text": [
      "DEBUG lazyflow.operators.classifierOperators: Features took 1.8638249999999998 seconds. Prediction took 7.037945 seconds. Subregion: start '[163, 0, 0, 0]' stop '[164, 2049, 867, 1]'\n",
      "DEBUG lazyflow.operators.classifierOperators: Features took 1.928563 seconds. Prediction took 7.356602 seconds. Subregion: start '[164, 0, 0, 0]' stop '[165, 2049, 867, 1]'\n",
      "DEBUG lazyflow.operators.classifierOperators: Features took 1.882665 seconds. Prediction took 7.0965 seconds. Subregion: start '[165, 0, 0, 0]' stop '[166, 2049, 867, 1]'\n",
      "DEBUG lazyflow.operators.classifierOperators: Features took 1.868852 seconds. Prediction took 6.712606 seconds. Subregion: start '[166, 0, 0, 0]' stop '[167, 2049, 867, 1]'\n",
      "DEBUG lazyflow.operators.classifierOperators: Features took 1.8462049999999999 seconds. Prediction took 6.809562 seconds. Subregion: start '[167, 0, 0, 0]' stop '[168, 2049, 867, 1]'\n",
      "DEBUG lazyflow.operators.classifierOperators: Features took 1.621189 seconds. Prediction took 7.07643 seconds. Subregion: start '[168, 0, 0, 0]' stop '[169, 2049, 867, 1]'\n",
      "DEBUG lazyflow.operators.classifierOperators: Features took 1.862346 seconds. Prediction took 6.611785 seconds. Subregion: start '[169, 0, 0, 0]' stop '[170, 2049, 867, 1]'\n",
      "DEBUG lazyflow.operators.classifierOperators: Features took 1.802541 seconds. Prediction took 7.013281 seconds. Subregion: start '[170, 0, 0, 0]' stop '[171, 2049, 867, 1]'\n",
      "DEBUG lazyflow.operators.classifierOperators: Features took 1.86319 seconds. Prediction took 6.818961 seconds. Subregion: start '[171, 0, 0, 0]' stop '[172, 2049, 867, 1]'\n",
      "DEBUG lazyflow.operators.classifierOperators: Features took 1.8766180000000001 seconds. Prediction took 7.000227 seconds. Subregion: start '[172, 0, 0, 0]' stop '[173, 2049, 867, 1]'\n",
      "DEBUG lazyflow.operators.classifierOperators: Features took 1.80752 seconds. Prediction took 6.970832 seconds. Subregion: start '[173, 0, 0, 0]' stop '[174, 2049, 867, 1]'\n",
      "DEBUG lazyflow.operators.classifierOperators: Features took 1.748862 seconds. Prediction took 6.869069 seconds. Subregion: start '[174, 0, 0, 0]' stop '[175, 2049, 867, 1]'\n",
      "DEBUG lazyflow.operators.classifierOperators: Features took 1.912917 seconds. Prediction took 6.984093 seconds. Subregion: start '[175, 0, 0, 0]' stop '[176, 2049, 867, 1]'\n",
      "DEBUG lazyflow.operators.classifierOperators: Features took 1.7939349999999998 seconds. Prediction took 7.309372 seconds. Subregion: start '[176, 0, 0, 0]' stop '[177, 2049, 867, 1]'\n",
      "DEBUG lazyflow.operators.classifierOperators: Features took 1.7854290000000002 seconds. Prediction took 6.826592 seconds. Subregion: start '[177, 0, 0, 0]' stop '[178, 2049, 867, 1]'\n",
      "DEBUG lazyflow.operators.classifierOperators: Features took 1.869968 seconds. Prediction took 7.196664 seconds. Subregion: start '[178, 0, 0, 0]' stop '[179, 2049, 867, 1]'\n",
      "DEBUG lazyflow.operators.classifierOperators: Features took 1.8205900000000002 seconds. Prediction took 7.289366 seconds. Subregion: start '[179, 0, 0, 0]' stop '[180, 2049, 867, 1]'\n",
      "DEBUG lazyflow.operators.classifierOperators: Features took 1.8451819999999999 seconds. Prediction took 7.2175 seconds. Subregion: start '[180, 0, 0, 0]' stop '[181, 2049, 867, 1]'\n",
      "DEBUG lazyflow.operators.classifierOperators: Features took 1.799019 seconds. Prediction took 7.1644120000000004 seconds. Subregion: start '[181, 0, 0, 0]' stop '[182, 2049, 867, 1]'\n",
      "DEBUG lazyflow.operators.classifierOperators: Features took 1.8334540000000001 seconds. Prediction took 7.295112 seconds. Subregion: start '[182, 0, 0, 0]' stop '[183, 2049, 867, 1]'\n",
      "DEBUG lazyflow.operators.classifierOperators: Features took 1.831614 seconds. Prediction took 6.272155 seconds. Subregion: start '[183, 0, 0, 0]' stop '[184, 2049, 867, 1]'\n",
      "DEBUG lazyflow.operators.classifierOperators: Features took 1.421924 seconds. Prediction took 7.056665 seconds. Subregion: start '[184, 0, 0, 0]' stop '[185, 2049, 867, 1]'\n",
      "DEBUG lazyflow.operators.classifierOperators: Features took 1.888106 seconds. Prediction took 7.262311 seconds. Subregion: start '[185, 0, 0, 0]' stop '[186, 2049, 867, 1]'\n",
      "DEBUG lazyflow.operators.classifierOperators: Features took 1.874719 seconds. Prediction took 7.412772 seconds. Subregion: start '[186, 0, 0, 0]' stop '[187, 2049, 867, 1]'\n",
      "DEBUG lazyflow.operators.classifierOperators: Features took 1.890992 seconds. Prediction took 7.356855 seconds. Subregion: start '[187, 0, 0, 0]' stop '[188, 2049, 867, 1]'\n",
      "DEBUG lazyflow.operators.classifierOperators: Features took 1.804629 seconds. Prediction took 7.326408 seconds. Subregion: start '[188, 0, 0, 0]' stop '[189, 2049, 867, 1]'\n",
      "DEBUG lazyflow.operators.classifierOperators: Features took 1.8314970000000002 seconds. Prediction took 6.986586 seconds. Subregion: start '[189, 0, 0, 0]' stop '[190, 2049, 867, 1]'\n",
      "DEBUG lazyflow.operators.classifierOperators: Features took 1.856188 seconds. Prediction took 6.936927 seconds. Subregion: start '[190, 0, 0, 0]' stop '[191, 2049, 867, 1]'\n",
      "DEBUG lazyflow.operators.classifierOperators: Features took 1.788306 seconds. Prediction took 6.957003 seconds. Subregion: start '[191, 0, 0, 0]' stop '[192, 2049, 867, 1]'\n",
      "DEBUG lazyflow.operators.classifierOperators: Features took 1.86537 seconds. Prediction took 7.198607 seconds. Subregion: start '[192, 0, 0, 0]' stop '[193, 2049, 867, 1]'\n",
      "DEBUG lazyflow.operators.classifierOperators: Features took 1.992166 seconds. Prediction took 6.952458 seconds. Subregion: start '[193, 0, 0, 0]' stop '[194, 2049, 867, 1]'\n",
      "DEBUG lazyflow.operators.classifierOperators: Features took 1.802051 seconds. Prediction took 7.317529 seconds. Subregion: start '[194, 0, 0, 0]' stop '[195, 2049, 867, 1]'\n",
      "DEBUG lazyflow.operators.classifierOperators: Features took 1.896791 seconds. Prediction took 7.109694 seconds. Subregion: start '[195, 0, 0, 0]' stop '[196, 2049, 867, 1]'\n",
      "DEBUG lazyflow.operators.classifierOperators: Features took 1.812875 seconds. Prediction took 7.046784 seconds. Subregion: start '[196, 0, 0, 0]' stop '[197, 2049, 867, 1]'\n",
      "DEBUG lazyflow.operators.classifierOperators: Features took 1.883459 seconds. Prediction took 7.290706 seconds. Subregion: start '[197, 0, 0, 0]' stop '[198, 2049, 867, 1]'\n",
      "DEBUG lazyflow.operators.classifierOperators: Features took 1.952203 seconds. Prediction took 7.331257 seconds. Subregion: start '[198, 0, 0, 0]' stop '[199, 2049, 867, 1]'\n",
      "DEBUG lazyflow.operators.classifierOperators: Features took 1.8765939999999999 seconds. Prediction took 7.298591 seconds. Subregion: start '[199, 0, 0, 0]' stop '[200, 2049, 867, 1]'\n",
      "DEBUG lazyflow.operators.classifierOperators: Features took 1.788488 seconds. Prediction took 7.044391 seconds. Subregion: start '[200, 0, 0, 0]' stop '[201, 2049, 867, 1]'\n",
      "DEBUG lazyflow.operators.classifierOperators: Features took 1.809644 seconds. Prediction took 7.220006 seconds. Subregion: start '[201, 0, 0, 0]' stop '[202, 2049, 867, 1]'\n",
      "DEBUG lazyflow.operators.classifierOperators: Features took 1.878371 seconds. Prediction took 7.070556 seconds. Subregion: start '[202, 0, 0, 0]' stop '[203, 2049, 867, 1]'\n",
      "DEBUG lazyflow.operators.classifierOperators: Features took 1.757043 seconds. Prediction took 7.143627 seconds. Subregion: start '[203, 0, 0, 0]' stop '[204, 2049, 867, 1]'\n",
      "DEBUG lazyflow.operators.classifierOperators: Features took 1.7431480000000001 seconds. Prediction took 7.249385 seconds. Subregion: start '[204, 0, 0, 0]' stop '[205, 2049, 867, 1]'\n",
      "DEBUG lazyflow.operators.classifierOperators: Features took 1.8373819999999998 seconds. Prediction took 7.471066 seconds. Subregion: start '[205, 0, 0, 0]' stop '[206, 2049, 867, 1]'\n",
      "DEBUG lazyflow.operators.classifierOperators: Features took 1.8731680000000002 seconds. Prediction took 7.216714 seconds. Subregion: start '[206, 0, 0, 0]' stop '[207, 2049, 867, 1]'\n",
      "DEBUG lazyflow.operators.classifierOperators: Features took 1.807848 seconds. Prediction took 7.241005 seconds. Subregion: start '[207, 0, 0, 0]' stop '[208, 2049, 867, 1]'\n",
      "DEBUG lazyflow.operators.classifierOperators: Features took 1.812859 seconds. Prediction took 6.917439 seconds. Subregion: start '[208, 0, 0, 0]' stop '[209, 2049, 867, 1]'\n",
      "DEBUG lazyflow.operators.classifierOperators: Features took 1.7977729999999998 seconds. Prediction took 7.03199 seconds. Subregion: start '[209, 0, 0, 0]' stop '[210, 2049, 867, 1]'\n"
     ]
    },
    {
     "name": "stdout",
     "output_type": "stream",
     "text": [
      "DEBUG lazyflow.operators.classifierOperators: Features took 1.532689 seconds. Prediction took 7.258978 seconds. Subregion: start '[210, 0, 0, 0]' stop '[211, 2049, 867, 1]'\n",
      "DEBUG lazyflow.operators.classifierOperators: Features took 1.784347 seconds. Prediction took 6.950539 seconds. Subregion: start '[211, 0, 0, 0]' stop '[212, 2049, 867, 1]'\n",
      "DEBUG lazyflow.operators.classifierOperators: Features took 1.872735 seconds. Prediction took 7.43208 seconds. Subregion: start '[212, 0, 0, 0]' stop '[213, 2049, 867, 1]'\n",
      "DEBUG lazyflow.operators.classifierOperators: Features took 1.91052 seconds. Prediction took 7.077708 seconds. Subregion: start '[213, 0, 0, 0]' stop '[214, 2049, 867, 1]'\n",
      "DEBUG lazyflow.operators.classifierOperators: Features took 1.839229 seconds. Prediction took 7.236871 seconds. Subregion: start '[214, 0, 0, 0]' stop '[215, 2049, 867, 1]'\n",
      "DEBUG lazyflow.operators.classifierOperators: Features took 1.813011 seconds. Prediction took 7.256602 seconds. Subregion: start '[215, 0, 0, 0]' stop '[216, 2049, 867, 1]'\n",
      "DEBUG lazyflow.operators.classifierOperators: Features took 1.7045599999999999 seconds. Prediction took 6.144687 seconds. Subregion: start '[216, 0, 0, 0]' stop '[217, 2049, 867, 1]'\n",
      "DEBUG lazyflow.operators.classifierOperators: Features took 1.635704 seconds. Prediction took 7.27933 seconds. Subregion: start '[217, 0, 0, 0]' stop '[218, 2049, 867, 1]'\n",
      "DEBUG lazyflow.operators.classifierOperators: Features took 1.8994520000000001 seconds. Prediction took 6.8800229999999996 seconds. Subregion: start '[218, 0, 0, 0]' stop '[219, 2049, 867, 1]'\n",
      "DEBUG lazyflow.operators.classifierOperators: Features took 1.892567 seconds. Prediction took 7.17701 seconds. Subregion: start '[219, 0, 0, 0]' stop '[220, 2049, 867, 1]'\n",
      "DEBUG lazyflow.operators.classifierOperators: Features took 1.832782 seconds. Prediction took 6.894178 seconds. Subregion: start '[220, 0, 0, 0]' stop '[221, 2049, 867, 1]'\n",
      "DEBUG lazyflow.operators.classifierOperators: Features took 1.8768150000000001 seconds. Prediction took 6.140513 seconds. Subregion: start '[221, 0, 0, 0]' stop '[222, 2049, 867, 1]'\n",
      "DEBUG lazyflow.operators.classifierOperators: Features took 1.655729 seconds. Prediction took 7.235074 seconds. Subregion: start '[222, 0, 0, 0]' stop '[223, 2049, 867, 1]'\n",
      "DEBUG lazyflow.operators.classifierOperators: Features took 1.7829679999999999 seconds. Prediction took 7.3538689999999995 seconds. Subregion: start '[223, 0, 0, 0]' stop '[224, 2049, 867, 1]'\n",
      "DEBUG lazyflow.operators.classifierOperators: Features took 1.766059 seconds. Prediction took 7.064484 seconds. Subregion: start '[224, 0, 0, 0]' stop '[225, 2049, 867, 1]'\n",
      "DEBUG lazyflow.operators.classifierOperators: Features took 1.9093 seconds. Prediction took 7.145086 seconds. Subregion: start '[225, 0, 0, 0]' stop '[226, 2049, 867, 1]'\n",
      "DEBUG lazyflow.operators.classifierOperators: Features took 2.003065 seconds. Prediction took 7.234102 seconds. Subregion: start '[226, 0, 0, 0]' stop '[227, 2049, 867, 1]'\n",
      "DEBUG lazyflow.operators.classifierOperators: Features took 1.920342 seconds. Prediction took 7.028297 seconds. Subregion: start '[227, 0, 0, 0]' stop '[228, 2049, 867, 1]'\n",
      "DEBUG lazyflow.operators.classifierOperators: Features took 2.077415 seconds. Prediction took 6.893873 seconds. Subregion: start '[228, 0, 0, 0]' stop '[229, 2049, 867, 1]'\n",
      "DEBUG lazyflow.operators.classifierOperators: Features took 1.972065 seconds. Prediction took 6.799705 seconds. Subregion: start '[229, 0, 0, 0]' stop '[230, 2049, 867, 1]'\n",
      "DEBUG lazyflow.operators.classifierOperators: Features took 1.925441 seconds. Prediction took 7.185913 seconds. Subregion: start '[230, 0, 0, 0]' stop '[231, 2049, 867, 1]'\n",
      "DEBUG lazyflow.operators.classifierOperators: Features took 1.669518 seconds. Prediction took 7.217266 seconds. Subregion: start '[231, 0, 0, 0]' stop '[232, 2049, 867, 1]'\n",
      "DEBUG lazyflow.operators.classifierOperators: Features took 1.778089 seconds. Prediction took 7.043791 seconds. Subregion: start '[232, 0, 0, 0]' stop '[233, 2049, 867, 1]'\n",
      "DEBUG lazyflow.operators.classifierOperators: Features took 1.804026 seconds. Prediction took 7.412542 seconds. Subregion: start '[233, 0, 0, 0]' stop '[234, 2049, 867, 1]'\n",
      "DEBUG lazyflow.operators.classifierOperators: Features took 1.899915 seconds. Prediction took 7.571416 seconds. Subregion: start '[234, 0, 0, 0]' stop '[235, 2049, 867, 1]'\n",
      "DEBUG lazyflow.operators.classifierOperators: Features took 1.69158 seconds. Prediction took 6.783622 seconds. Subregion: start '[235, 0, 0, 0]' stop '[236, 2049, 867, 1]'\n",
      "DEBUG lazyflow.operators.classifierOperators: Features took 1.982395 seconds. Prediction took 7.264468 seconds. Subregion: start '[236, 0, 0, 0]' stop '[237, 2049, 867, 1]'\n",
      "DEBUG lazyflow.operators.classifierOperators: Features took 1.9621979999999999 seconds. Prediction took 7.226715 seconds. Subregion: start '[237, 0, 0, 0]' stop '[238, 2049, 867, 1]'\n",
      "DEBUG lazyflow.operators.classifierOperators: Features took 1.893954 seconds. Prediction took 7.436773 seconds. Subregion: start '[238, 0, 0, 0]' stop '[239, 2049, 867, 1]'\n",
      "DEBUG lazyflow.operators.classifierOperators: Features took 1.82368 seconds. Prediction took 7.237958 seconds. Subregion: start '[239, 0, 0, 0]' stop '[240, 2049, 867, 1]'\n",
      "DEBUG lazyflow.operators.classifierOperators: Features took 1.914495 seconds. Prediction took 7.451744 seconds. Subregion: start '[240, 0, 0, 0]' stop '[241, 2049, 867, 1]'\n",
      "DEBUG lazyflow.operators.classifierOperators: Features took 1.996639 seconds. Prediction took 7.088614 seconds. Subregion: start '[241, 0, 0, 0]' stop '[242, 2049, 867, 1]'\n",
      "DEBUG lazyflow.operators.classifierOperators: Features took 1.88185 seconds. Prediction took 7.208608 seconds. Subregion: start '[242, 0, 0, 0]' stop '[243, 2049, 867, 1]'\n",
      "DEBUG lazyflow.operators.classifierOperators: Features took 1.871563 seconds. Prediction took 7.3609539999999996 seconds. Subregion: start '[243, 0, 0, 0]' stop '[244, 2049, 867, 1]'\n",
      "DEBUG lazyflow.operators.classifierOperators: Features took 1.817265 seconds. Prediction took 7.139505 seconds. Subregion: start '[244, 0, 0, 0]' stop '[245, 2049, 867, 1]'\n",
      "DEBUG lazyflow.operators.classifierOperators: Features took 1.9694660000000002 seconds. Prediction took 6.832306 seconds. Subregion: start '[245, 0, 0, 0]' stop '[246, 2049, 867, 1]'\n",
      "DEBUG lazyflow.operators.classifierOperators: Features took 1.97237 seconds. Prediction took 7.069164 seconds. Subregion: start '[246, 0, 0, 0]' stop '[247, 2049, 867, 1]'\n",
      "INFO ilastik.workflows.pixelClassification.pixelClassificationWorkflow: Completed Batch Processing\n",
      "INFO    |16:50:39| run| elapsed time: 0:35:22\n",
      "INFO    |16:50:39| Saving output to /mnt/d/brainquant_RC/bq3d_demo/demo/analysis/bkgrdsub/Z\\d{4}.tif\n",
      "VERBOSE |16:52:42| Label| sigmas: None\n",
      "VERBOSE |16:52:42| Label| min_size: 3\n",
      "VERBOSE |16:52:42| Label| max_size: 50\n",
      "VERBOSE |16:52:42| Label| min_size2: 3\n",
      "VERBOSE |16:52:42| Label| max_size2: 50\n",
      "VERBOSE |16:52:42| Label| high_threshold: 0.3\n",
      "VERBOSE |16:52:42| Label| low_threshold: 450\n",
      "VERBOSE |16:52:42| Label| mode: 1\n",
      "VERBOSE |16:52:42| Label| cleanup: False\n",
      "VERBOSE |16:52:42| Label| subStack: None\n",
      "VERBOSE |16:52:42| Label| temp_dir: /tmp/bq3daff47425-a803-44e1-bbc6-af5c83b18e93/runcdc2e751-c9fe-484a-8153-9aaac9c51038/Label34915f24-c6ae-496a-af8e-9047e79cb3e5\n",
      "VERBOSE |16:52:42| Label| name: Label\n",
      "INFO    |16:52:51| run| elapsed time: 0:00:08\n",
      "INFO    |16:52:51| Saving output to /mnt/d/brainquant_RC/bq3d_demo/demo/analysis/labels/Z\\d{4}.tif\n",
      "INFO    |16:54:52| label_props| props: ['centroid', 'sum', 'area']\n",
      "INFO    |16:54:53| Objects Detected: 149488\n",
      "INFO    |16:55:07| label_props| elapsed time: 0:00:15\n",
      "INFO    |16:55:08| Processed chunk| elapsed time: 0:39:53\n",
      "INFO    |16:55:10| Total Cell Detection| elapsed time: 0:40:00\n",
      "INFO    |16:55:10| interpolation method: area\n",
      "INFO    |16:55:10| Number of processes: 1\n",
      "VERBOSE |16:55:10| resample XY: Resampling plane 0 to size: (89, 738)\n",
      "VERBOSE |16:55:10| resample XY: Resampling plane 1 to size: (89, 738)\n",
      "VERBOSE |16:55:10| resample XY: Resampling plane 2 to size: (89, 738)\n",
      "VERBOSE |16:55:10| resample XY: Resampling plane 3 to size: (89, 738)\n",
      "VERBOSE |16:55:10| resample XY: Resampling plane 4 to size: (89, 738)\n"
     ]
    },
    {
     "name": "stdout",
     "output_type": "stream",
     "text": [
      "VERBOSE |16:55:10| resample XY: Resampling plane 5 to size: (89, 738)\n",
      "VERBOSE |16:55:11| resample XY: Resampling plane 6 to size: (89, 738)\n",
      "VERBOSE |16:55:11| resample XY: Resampling plane 7 to size: (89, 738)\n",
      "VERBOSE |16:55:11| resample XY: Resampling plane 8 to size: (89, 738)\n",
      "VERBOSE |16:55:11| resample XY: Resampling plane 9 to size: (89, 738)\n",
      "VERBOSE |16:55:11| resample XY: Resampling plane 10 to size: (89, 738)\n",
      "VERBOSE |16:55:11| resample XY: Resampling plane 11 to size: (89, 738)\n",
      "VERBOSE |16:55:11| resample XY: Resampling plane 12 to size: (89, 738)\n",
      "VERBOSE |16:55:11| resample XY: Resampling plane 13 to size: (89, 738)\n",
      "VERBOSE |16:55:12| resample XY: Resampling plane 14 to size: (89, 738)\n",
      "VERBOSE |16:55:12| resample XY: Resampling plane 15 to size: (89, 738)\n",
      "VERBOSE |16:55:12| resample XY: Resampling plane 16 to size: (89, 738)\n",
      "VERBOSE |16:55:12| resample XY: Resampling plane 17 to size: (89, 738)\n",
      "VERBOSE |16:55:12| resample XY: Resampling plane 18 to size: (89, 738)\n",
      "VERBOSE |16:55:12| resample XY: Resampling plane 19 to size: (89, 738)\n",
      "VERBOSE |16:55:12| resample XY: Resampling plane 20 to size: (89, 738)\n",
      "VERBOSE |16:55:12| resample XY: Resampling plane 21 to size: (89, 738)\n",
      "VERBOSE |16:55:12| resample XY: Resampling plane 22 to size: (89, 738)\n",
      "VERBOSE |16:55:13| resample XY: Resampling plane 23 to size: (89, 738)\n",
      "VERBOSE |16:55:13| resample XY: Resampling plane 24 to size: (89, 738)\n",
      "VERBOSE |16:55:13| resample XY: Resampling plane 25 to size: (89, 738)\n",
      "VERBOSE |16:55:13| resample XY: Resampling plane 26 to size: (89, 738)\n",
      "VERBOSE |16:55:13| resample XY: Resampling plane 27 to size: (89, 738)\n",
      "VERBOSE |16:55:13| resample XY: Resampling plane 28 to size: (89, 738)\n",
      "VERBOSE |16:55:13| resample XY: Resampling plane 29 to size: (89, 738)\n",
      "VERBOSE |16:55:13| resample XY: Resampling plane 30 to size: (89, 738)\n",
      "VERBOSE |16:55:14| resample XY: Resampling plane 31 to size: (89, 738)\n",
      "VERBOSE |16:55:14| resample XY: Resampling plane 32 to size: (89, 738)\n",
      "VERBOSE |16:55:14| resample XY: Resampling plane 33 to size: (89, 738)\n",
      "VERBOSE |16:55:14| resample XY: Resampling plane 34 to size: (89, 738)\n",
      "VERBOSE |16:55:14| resample XY: Resampling plane 35 to size: (89, 738)\n",
      "VERBOSE |16:55:14| resample XY: Resampling plane 36 to size: (89, 738)\n",
      "VERBOSE |16:55:14| resample XY: Resampling plane 37 to size: (89, 738)\n",
      "VERBOSE |16:55:14| resample XY: Resampling plane 38 to size: (89, 738)\n",
      "VERBOSE |16:55:15| resample XY: Resampling plane 39 to size: (89, 738)\n",
      "VERBOSE |16:55:15| resample XY: Resampling plane 40 to size: (89, 738)\n",
      "VERBOSE |16:55:15| resample XY: Resampling plane 41 to size: (89, 738)\n",
      "VERBOSE |16:55:15| resample XY: Resampling plane 42 to size: (89, 738)\n",
      "VERBOSE |16:55:15| resample XY: Resampling plane 43 to size: (89, 738)\n",
      "VERBOSE |16:55:15| resample XY: Resampling plane 44 to size: (89, 738)\n",
      "VERBOSE |16:55:15| resample XY: Resampling plane 45 to size: (89, 738)\n",
      "VERBOSE |16:55:15| resample XY: Resampling plane 46 to size: (89, 738)\n",
      "VERBOSE |16:55:16| resample XY: Resampling plane 47 to size: (89, 738)\n",
      "VERBOSE |16:55:16| resample XY: Resampling plane 48 to size: (89, 738)\n",
      "VERBOSE |16:55:16| resample XY: Resampling plane 49 to size: (89, 738)\n",
      "VERBOSE |16:55:16| resample XY: Resampling plane 50 to size: (89, 738)\n",
      "VERBOSE |16:55:16| resample XY: Resampling plane 51 to size: (89, 738)\n",
      "VERBOSE |16:55:16| resample XY: Resampling plane 52 to size: (89, 738)\n",
      "VERBOSE |16:55:16| resample XY: Resampling plane 53 to size: (89, 738)\n",
      "VERBOSE |16:55:16| resample XY: Resampling plane 54 to size: (89, 738)\n",
      "VERBOSE |16:55:17| resample XY: Resampling plane 55 to size: (89, 738)\n",
      "VERBOSE |16:55:17| resample XY: Resampling plane 56 to size: (89, 738)\n",
      "VERBOSE |16:55:17| resample XY: Resampling plane 57 to size: (89, 738)\n",
      "VERBOSE |16:55:17| resample XY: Resampling plane 58 to size: (89, 738)\n",
      "VERBOSE |16:55:17| resample XY: Resampling plane 59 to size: (89, 738)\n",
      "VERBOSE |16:55:17| resample XY: Resampling plane 60 to size: (89, 738)\n",
      "VERBOSE |16:55:17| resample XY: Resampling plane 61 to size: (89, 738)\n",
      "VERBOSE |16:55:17| resample XY: Resampling plane 62 to size: (89, 738)\n",
      "VERBOSE |16:55:18| resample XY: Resampling plane 63 to size: (89, 738)\n",
      "VERBOSE |16:55:18| resample XY: Resampling plane 64 to size: (89, 738)\n",
      "VERBOSE |16:55:18| resample XY: Resampling plane 65 to size: (89, 738)\n",
      "VERBOSE |16:55:18| resample XY: Resampling plane 66 to size: (89, 738)\n",
      "VERBOSE |16:55:18| resample XY: Resampling plane 67 to size: (89, 738)\n",
      "VERBOSE |16:55:18| resample XY: Resampling plane 68 to size: (89, 738)\n",
      "VERBOSE |16:55:18| resample XY: Resampling plane 69 to size: (89, 738)\n",
      "VERBOSE |16:55:18| resample XY: Resampling plane 70 to size: (89, 738)\n",
      "VERBOSE |16:55:19| resample XY: Resampling plane 71 to size: (89, 738)\n",
      "VERBOSE |16:55:19| resample XY: Resampling plane 72 to size: (89, 738)\n",
      "VERBOSE |16:55:19| resample XY: Resampling plane 73 to size: (89, 738)\n",
      "VERBOSE |16:55:19| resample XY: Resampling plane 74 to size: (89, 738)\n",
      "VERBOSE |16:55:19| resample XY: Resampling plane 75 to size: (89, 738)\n",
      "VERBOSE |16:55:19| resample XY: Resampling plane 76 to size: (89, 738)\n",
      "VERBOSE |16:55:19| resample XY: Resampling plane 77 to size: (89, 738)\n",
      "VERBOSE |16:55:19| resample XY: Resampling plane 78 to size: (89, 738)\n",
      "VERBOSE |16:55:20| resample XY: Resampling plane 79 to size: (89, 738)\n",
      "VERBOSE |16:55:20| resample XY: Resampling plane 80 to size: (89, 738)\n",
      "VERBOSE |16:55:20| resample XY: Resampling plane 81 to size: (89, 738)\n",
      "VERBOSE |16:55:20| resample XY: Resampling plane 82 to size: (89, 738)\n",
      "VERBOSE |16:55:20| resample XY: Resampling plane 83 to size: (89, 738)\n",
      "VERBOSE |16:55:20| resample XY: Resampling plane 84 to size: (89, 738)\n",
      "VERBOSE |16:55:20| resample XY: Resampling plane 85 to size: (89, 738)\n",
      "VERBOSE |16:55:20| resample XY: Resampling plane 86 to size: (89, 738)\n",
      "VERBOSE |16:55:21| resample XY: Resampling plane 87 to size: (89, 738)\n",
      "VERBOSE |16:55:21| resample XY: Resampling plane 88 to size: (89, 738)\n",
      "VERBOSE |16:55:21| resample XY: Resampling plane 89 to size: (89, 738)\n",
      "VERBOSE |16:55:21| resample XY: Resampling plane 90 to size: (89, 738)\n",
      "VERBOSE |16:55:21| resample XY: Resampling plane 91 to size: (89, 738)\n",
      "VERBOSE |16:55:21| resample XY: Resampling plane 92 to size: (89, 738)\n",
      "VERBOSE |16:55:21| resample XY: Resampling plane 93 to size: (89, 738)\n",
      "VERBOSE |16:55:22| resample XY: Resampling plane 94 to size: (89, 738)\n",
      "VERBOSE |16:55:22| resample XY: Resampling plane 95 to size: (89, 738)\n",
      "VERBOSE |16:55:22| resample XY: Resampling plane 96 to size: (89, 738)\n",
      "VERBOSE |16:55:22| resample XY: Resampling plane 97 to size: (89, 738)\n",
      "VERBOSE |16:55:22| resample XY: Resampling plane 98 to size: (89, 738)\n",
      "VERBOSE |16:55:22| resample XY: Resampling plane 99 to size: (89, 738)\n",
      "VERBOSE |16:55:22| resample XY: Resampling plane 100 to size: (89, 738)\n",
      "VERBOSE |16:55:23| resample XY: Resampling plane 101 to size: (89, 738)\n",
      "VERBOSE |16:55:23| resample XY: Resampling plane 102 to size: (89, 738)\n",
      "VERBOSE |16:55:23| resample XY: Resampling plane 103 to size: (89, 738)\n",
      "VERBOSE |16:55:23| resample XY: Resampling plane 104 to size: (89, 738)\n",
      "VERBOSE |16:55:23| resample XY: Resampling plane 105 to size: (89, 738)\n",
      "VERBOSE |16:55:23| resample XY: Resampling plane 106 to size: (89, 738)\n",
      "VERBOSE |16:55:23| resample XY: Resampling plane 107 to size: (89, 738)\n",
      "VERBOSE |16:55:24| resample XY: Resampling plane 108 to size: (89, 738)\n",
      "VERBOSE |16:55:24| resample XY: Resampling plane 109 to size: (89, 738)\n",
      "VERBOSE |16:55:24| resample XY: Resampling plane 110 to size: (89, 738)\n",
      "VERBOSE |16:55:24| resample XY: Resampling plane 111 to size: (89, 738)\n",
      "VERBOSE |16:55:24| resample XY: Resampling plane 112 to size: (89, 738)\n",
      "VERBOSE |16:55:24| resample XY: Resampling plane 113 to size: (89, 738)\n",
      "VERBOSE |16:55:24| resample XY: Resampling plane 114 to size: (89, 738)\n",
      "VERBOSE |16:55:25| resample XY: Resampling plane 115 to size: (89, 738)\n",
      "VERBOSE |16:55:25| resample XY: Resampling plane 116 to size: (89, 738)\n",
      "VERBOSE |16:55:25| resample XY: Resampling plane 117 to size: (89, 738)\n",
      "VERBOSE |16:55:25| resample XY: Resampling plane 118 to size: (89, 738)\n",
      "VERBOSE |16:55:25| resample XY: Resampling plane 119 to size: (89, 738)\n",
      "VERBOSE |16:55:25| resample XY: Resampling plane 120 to size: (89, 738)\n"
     ]
    },
    {
     "name": "stdout",
     "output_type": "stream",
     "text": [
      "VERBOSE |16:55:25| resample XY: Resampling plane 121 to size: (89, 738)\n",
      "VERBOSE |16:55:26| resample XY: Resampling plane 122 to size: (89, 738)\n",
      "VERBOSE |16:55:26| resample XY: Resampling plane 123 to size: (89, 738)\n",
      "VERBOSE |16:55:26| resample XY: Resampling plane 124 to size: (89, 738)\n",
      "VERBOSE |16:55:26| resample XY: Resampling plane 125 to size: (89, 738)\n",
      "VERBOSE |16:55:26| resample XY: Resampling plane 126 to size: (89, 738)\n",
      "VERBOSE |16:55:26| resample XY: Resampling plane 127 to size: (89, 738)\n",
      "VERBOSE |16:55:26| resample XY: Resampling plane 128 to size: (89, 738)\n",
      "VERBOSE |16:55:27| resample XY: Resampling plane 129 to size: (89, 738)\n",
      "VERBOSE |16:55:27| resample XY: Resampling plane 130 to size: (89, 738)\n",
      "VERBOSE |16:55:27| resample XY: Resampling plane 131 to size: (89, 738)\n",
      "VERBOSE |16:55:27| resample XY: Resampling plane 132 to size: (89, 738)\n",
      "VERBOSE |16:55:27| resample XY: Resampling plane 133 to size: (89, 738)\n",
      "VERBOSE |16:55:27| resample XY: Resampling plane 134 to size: (89, 738)\n",
      "VERBOSE |16:55:27| resample XY: Resampling plane 135 to size: (89, 738)\n",
      "VERBOSE |16:55:28| resample XY: Resampling plane 136 to size: (89, 738)\n",
      "VERBOSE |16:55:28| resample XY: Resampling plane 137 to size: (89, 738)\n",
      "VERBOSE |16:55:28| resample XY: Resampling plane 138 to size: (89, 738)\n",
      "VERBOSE |16:55:28| resample XY: Resampling plane 139 to size: (89, 738)\n",
      "VERBOSE |16:55:28| resample XY: Resampling plane 140 to size: (89, 738)\n",
      "VERBOSE |16:55:28| resample XY: Resampling plane 141 to size: (89, 738)\n",
      "VERBOSE |16:55:29| resample XY: Resampling plane 142 to size: (89, 738)\n",
      "VERBOSE |16:55:29| resample XY: Resampling plane 143 to size: (89, 738)\n",
      "VERBOSE |16:55:29| resample XY: Resampling plane 144 to size: (89, 738)\n",
      "VERBOSE |16:55:29| resample XY: Resampling plane 145 to size: (89, 738)\n",
      "VERBOSE |16:55:29| resample XY: Resampling plane 146 to size: (89, 738)\n",
      "VERBOSE |16:55:29| resample XY: Resampling plane 147 to size: (89, 738)\n",
      "VERBOSE |16:55:29| resample XY: Resampling plane 148 to size: (89, 738)\n",
      "VERBOSE |16:55:30| resample XY: Resampling plane 149 to size: (89, 738)\n",
      "VERBOSE |16:55:30| resample XY: Resampling plane 150 to size: (89, 738)\n",
      "VERBOSE |16:55:30| resample XY: Resampling plane 151 to size: (89, 738)\n",
      "VERBOSE |16:55:30| resample XY: Resampling plane 152 to size: (89, 738)\n",
      "VERBOSE |16:55:30| resample XY: Resampling plane 153 to size: (89, 738)\n",
      "VERBOSE |16:55:30| resample XY: Resampling plane 154 to size: (89, 738)\n",
      "VERBOSE |16:55:30| resample XY: Resampling plane 155 to size: (89, 738)\n",
      "VERBOSE |16:55:30| resample XY: Resampling plane 156 to size: (89, 738)\n",
      "VERBOSE |16:55:31| resample XY: Resampling plane 157 to size: (89, 738)\n",
      "VERBOSE |16:55:31| resample XY: Resampling plane 158 to size: (89, 738)\n",
      "VERBOSE |16:55:31| resample XY: Resampling plane 159 to size: (89, 738)\n",
      "VERBOSE |16:55:31| resample XY: Resampling plane 160 to size: (89, 738)\n",
      "VERBOSE |16:55:31| resample XY: Resampling plane 161 to size: (89, 738)\n",
      "VERBOSE |16:55:31| resample XY: Resampling plane 162 to size: (89, 738)\n",
      "VERBOSE |16:55:31| resample XY: Resampling plane 163 to size: (89, 738)\n",
      "VERBOSE |16:55:31| resample XY: Resampling plane 164 to size: (89, 738)\n",
      "VERBOSE |16:55:32| resample XY: Resampling plane 165 to size: (89, 738)\n",
      "VERBOSE |16:55:32| resample XY: Resampling plane 166 to size: (89, 738)\n",
      "VERBOSE |16:55:32| resample XY: Resampling plane 167 to size: (89, 738)\n",
      "VERBOSE |16:55:32| resample XY: Resampling plane 168 to size: (89, 738)\n",
      "VERBOSE |16:55:32| resample XY: Resampling plane 169 to size: (89, 738)\n",
      "VERBOSE |16:55:32| resample XY: Resampling plane 170 to size: (89, 738)\n",
      "VERBOSE |16:55:32| resample XY: Resampling plane 171 to size: (89, 738)\n",
      "VERBOSE |16:55:33| resample XY: Resampling plane 172 to size: (89, 738)\n",
      "VERBOSE |16:55:33| resample XY: Resampling plane 173 to size: (89, 738)\n",
      "VERBOSE |16:55:33| resample XY: Resampling plane 174 to size: (89, 738)\n",
      "VERBOSE |16:55:33| resample XY: Resampling plane 175 to size: (89, 738)\n",
      "VERBOSE |16:55:33| resample XY: Resampling plane 176 to size: (89, 738)\n",
      "VERBOSE |16:55:33| resample XY: Resampling plane 177 to size: (89, 738)\n",
      "VERBOSE |16:55:33| resample XY: Resampling plane 178 to size: (89, 738)\n",
      "VERBOSE |16:55:34| resample XY: Resampling plane 179 to size: (89, 738)\n",
      "VERBOSE |16:55:34| resample XY: Resampling plane 180 to size: (89, 738)\n",
      "VERBOSE |16:55:34| resample XY: Resampling plane 181 to size: (89, 738)\n",
      "VERBOSE |16:55:34| resample XY: Resampling plane 182 to size: (89, 738)\n",
      "VERBOSE |16:55:34| resample XY: Resampling plane 183 to size: (89, 738)\n",
      "VERBOSE |16:55:34| resample XY: Resampling plane 184 to size: (89, 738)\n",
      "VERBOSE |16:55:34| resample XY: Resampling plane 185 to size: (89, 738)\n",
      "VERBOSE |16:55:35| resample XY: Resampling plane 186 to size: (89, 738)\n",
      "VERBOSE |16:55:35| resample XY: Resampling plane 187 to size: (89, 738)\n",
      "VERBOSE |16:55:35| resample XY: Resampling plane 188 to size: (89, 738)\n",
      "VERBOSE |16:55:35| resample XY: Resampling plane 189 to size: (89, 738)\n",
      "VERBOSE |16:55:35| resample XY: Resampling plane 190 to size: (89, 738)\n",
      "VERBOSE |16:55:35| resample XY: Resampling plane 191 to size: (89, 738)\n",
      "VERBOSE |16:55:35| resample XY: Resampling plane 192 to size: (89, 738)\n",
      "VERBOSE |16:55:36| resample XY: Resampling plane 193 to size: (89, 738)\n",
      "VERBOSE |16:55:36| resample XY: Resampling plane 194 to size: (89, 738)\n",
      "VERBOSE |16:55:36| resample XY: Resampling plane 195 to size: (89, 738)\n",
      "VERBOSE |16:55:36| resample XY: Resampling plane 196 to size: (89, 738)\n",
      "VERBOSE |16:55:36| resample XY: Resampling plane 197 to size: (89, 738)\n",
      "VERBOSE |16:55:36| resample XY: Resampling plane 198 to size: (89, 738)\n",
      "VERBOSE |16:55:36| resample XY: Resampling plane 199 to size: (89, 738)\n",
      "VERBOSE |16:55:36| resample XY: Resampling plane 200 to size: (89, 738)\n",
      "VERBOSE |16:55:37| resample XY: Resampling plane 201 to size: (89, 738)\n",
      "VERBOSE |16:55:37| resample XY: Resampling plane 202 to size: (89, 738)\n",
      "VERBOSE |16:55:37| resample XY: Resampling plane 203 to size: (89, 738)\n",
      "VERBOSE |16:55:37| resample XY: Resampling plane 204 to size: (89, 738)\n",
      "VERBOSE |16:55:37| resample XY: Resampling plane 205 to size: (89, 738)\n",
      "VERBOSE |16:55:37| resample XY: Resampling plane 206 to size: (89, 738)\n",
      "VERBOSE |16:55:37| resample XY: Resampling plane 207 to size: (89, 738)\n",
      "VERBOSE |16:55:38| resample XY: Resampling plane 208 to size: (89, 738)\n",
      "VERBOSE |16:55:38| resample XY: Resampling plane 209 to size: (89, 738)\n",
      "VERBOSE |16:55:38| resample XY: Resampling plane 210 to size: (89, 738)\n",
      "VERBOSE |16:55:38| resample XY: Resampling plane 211 to size: (89, 738)\n",
      "VERBOSE |16:55:38| resample XY: Resampling plane 212 to size: (89, 738)\n",
      "VERBOSE |16:55:38| resample XY: Resampling plane 213 to size: (89, 738)\n",
      "VERBOSE |16:55:39| resample XY: Resampling plane 214 to size: (89, 738)\n",
      "VERBOSE |16:55:39| resample XY: Resampling plane 215 to size: (89, 738)\n",
      "VERBOSE |16:55:39| resample XY: Resampling plane 216 to size: (89, 738)\n",
      "VERBOSE |16:55:39| resample XY: Resampling plane 217 to size: (89, 738)\n",
      "VERBOSE |16:55:39| resample XY: Resampling plane 218 to size: (89, 738)\n",
      "VERBOSE |16:55:39| resample XY: Resampling plane 219 to size: (89, 738)\n",
      "VERBOSE |16:55:39| resample XY: Resampling plane 220 to size: (89, 738)\n",
      "VERBOSE |16:55:40| resample XY: Resampling plane 221 to size: (89, 738)\n",
      "VERBOSE |16:55:40| resample XY: Resampling plane 222 to size: (89, 738)\n",
      "VERBOSE |16:55:40| resample XY: Resampling plane 223 to size: (89, 738)\n",
      "VERBOSE |16:55:40| resample XY: Resampling plane 224 to size: (89, 738)\n",
      "VERBOSE |16:55:40| resample XY: Resampling plane 225 to size: (89, 738)\n",
      "VERBOSE |16:55:40| resample XY: Resampling plane 226 to size: (89, 738)\n",
      "VERBOSE |16:55:40| resample XY: Resampling plane 227 to size: (89, 738)\n",
      "VERBOSE |16:55:40| resample XY: Resampling plane 228 to size: (89, 738)\n",
      "VERBOSE |16:55:41| resample XY: Resampling plane 229 to size: (89, 738)\n",
      "VERBOSE |16:55:41| resample XY: Resampling plane 230 to size: (89, 738)\n",
      "VERBOSE |16:55:41| resample XY: Resampling plane 231 to size: (89, 738)\n",
      "VERBOSE |16:55:41| resample XY: Resampling plane 232 to size: (89, 738)\n",
      "VERBOSE |16:55:41| resample XY: Resampling plane 233 to size: (89, 738)\n",
      "VERBOSE |16:55:41| resample XY: Resampling plane 234 to size: (89, 738)\n"
     ]
    },
    {
     "name": "stdout",
     "output_type": "stream",
     "text": [
      "VERBOSE |16:55:41| resample XY: Resampling plane 235 to size: (89, 738)\n",
      "VERBOSE |16:55:42| resample XY: Resampling plane 236 to size: (89, 738)\n",
      "VERBOSE |16:55:42| resample XY: Resampling plane 237 to size: (89, 738)\n",
      "VERBOSE |16:55:42| resample XY: Resampling plane 238 to size: (89, 738)\n",
      "VERBOSE |16:55:42| resample XY: Resampling plane 239 to size: (89, 738)\n",
      "VERBOSE |16:55:42| resample XY: Resampling plane 240 to size: (89, 738)\n",
      "VERBOSE |16:55:42| resample XY: Resampling plane 241 to size: (89, 738)\n",
      "VERBOSE |16:55:42| resample XY: Resampling plane 242 to size: (89, 738)\n",
      "VERBOSE |16:55:43| resample XY: Resampling plane 243 to size: (89, 738)\n",
      "VERBOSE |16:55:43| resample XY: Resampling plane 244 to size: (89, 738)\n",
      "VERBOSE |16:55:43| resample XY: Resampling plane 245 to size: (89, 738)\n",
      "VERBOSE |16:55:43| resample XY: Resampling plane 246 to size: (89, 738)\n",
      "VERBOSE |16:55:43| resampleData: Z: Resampling 0/89\n",
      "VERBOSE |16:55:43| resampleData: Z: Resampling 50/89\n",
      "VERBOSE |16:55:43| resampleData: Z: Resampling 100/89\n",
      "VERBOSE |16:55:43| resampleData: Z: Resampling 150/89\n",
      "VERBOSE |16:55:43| resampleData: Z: Resampling 200/89\n",
      "VERBOSE |16:55:43| resampleData: Z: Resampling 250/89\n",
      "VERBOSE |16:55:43| resampleData: Z: Resampling 300/89\n",
      "VERBOSE |16:55:43| resampleData: Z: Resampling 350/89\n",
      "VERBOSE |16:55:43| resampleData: Z: Resampling 400/89\n",
      "VERBOSE |16:55:43| resampleData: Z: Resampling 450/89\n",
      "VERBOSE |16:55:43| resampleData: Z: Resampling 500/89\n",
      "VERBOSE |16:55:43| resampleData: Z: Resampling 550/89\n",
      "VERBOSE |16:55:43| resampleData: Z: Resampling 600/89\n",
      "VERBOSE |16:55:43| resampleData: Z: Resampling 650/89\n",
      "VERBOSE |16:55:43| resampleData: Z: Resampling 700/89\n",
      "VERBOSE |16:55:43| resampleData: resampled data size: (89, 738, 313)\n",
      "Traceback (most recent call last):\n",
      "  File \"/mnt/d/brainquant_RC/bq3d_demo/demo/process.py\", line 20, in <module>\n",
      "    resampleData(**CorrectionResamplingParamSignal, cleanup=False);\n",
      "  File \"/home/ninc-user/miniconda3/envs/bq3d/lib/python3.9/site-packages/bq3d/alignment/resampling.py\", line 390, in resampleData\n",
      "    return io.writeData(sink, resampledData)\n",
      "  File \"/home/ninc-user/miniconda3/envs/bq3d/lib/python3.9/site-packages/bq3d/io/io.py\", line 501, in writeData\n",
      "    return mod.writeData(sink, data, **kwargs)\n",
      "  File \"/home/ninc-user/miniconda3/envs/bq3d/lib/python3.9/site-packages/bq3d/io/TIF.py\", line 140, in writeData\n",
      "    return readData(filename)\n",
      "  File \"/home/ninc-user/miniconda3/envs/bq3d/lib/python3.9/site-packages/bq3d/io/TIF.py\", line 85, in readData\n",
      "    data = tif.tifffile.memmap(filename, **kwargs)\n",
      "  File \"/home/ninc-user/miniconda3/envs/bq3d/lib/python3.9/site-packages/tifffile/tifffile.py\", line 835, in memmap\n",
      "    with TiffFile(filename, **kwargs) as tif:\n",
      "  File \"/home/ninc-user/miniconda3/envs/bq3d/lib/python3.9/site-packages/tifffile/tifffile.py\", line 2228, in __init__\n",
      "    fh = FileHandle(arg, mode='rb', name=name, offset=offset, size=size)\n",
      "  File \"/home/ninc-user/miniconda3/envs/bq3d/lib/python3.9/site-packages/tifffile/tifffile.py\", line 6031, in __init__\n",
      "    self.open()\n",
      "  File \"/home/ninc-user/miniconda3/envs/bq3d/lib/python3.9/site-packages/tifffile/tifffile.py\", line 6044, in open\n",
      "    self._fh = open(self._file, self._mode)\n",
      "FileNotFoundError: [Errno 2] No such file or directory: '/mnt/d/brainquant_RC/bq3d_demo/demo/analysis/signal_resampled_12.tif'\n"
     ]
    }
   ],
   "source": [
    "!pwd\n",
    "!python process.py #replace lifecanvas with the name of your working directory"
   ]
  },
  {
   "cell_type": "code",
   "execution_count": null,
   "metadata": {},
   "outputs": [],
   "source": []
  }
 ],
 "metadata": {
  "kernelspec": {
   "display_name": "Python 3 (ipykernel)",
   "language": "python",
   "name": "python3"
  },
  "language_info": {
   "codemirror_mode": {
    "name": "ipython",
    "version": 3
   },
   "file_extension": ".py",
   "mimetype": "text/x-python",
   "name": "python",
   "nbconvert_exporter": "python",
   "pygments_lexer": "ipython3",
   "version": "3.9.18"
  }
 },
 "nbformat": 4,
 "nbformat_minor": 2
}
