{
 "cells": [
  {
   "cell_type": "markdown",
   "metadata": {},
   "source": [
    "# BrainQuant3D Setup\n",
    "## 0.5. Download necessary applications/packages as described in the README.md\n",
    "BrainQuant3D setup for the Data Analysis Workshop May 2024\n",
    "\n",
    "You may need to download these programs onto your computer:\n",
    "1. git (for setting up BrainQuant3D as a package): https://git-scm.com/downloads\n",
    "2. anaconda for isolating packages in its own Python environment): https://www.anaconda.com/download\n",
    "\n",
    "To find where you downloaded these files\n",
    "Then, open your command line (mac, linux) or anaconda prompt (windows) and execute these commands:\n",
    "\n",
    "```\n",
    "cd <path to directory where this notebook and the .yml file is in> #e.g. cd mnt/ssd or cd ~/Downloads\n",
    "conda env create -f bq3d_env.yml\n",
    "conda activate bq3d\n",
    "pip install git+https://github.com/sunilgandhilab/brainquant3d.git\n",
    "```\n",
    "Choose the newly created \"bq3d\" conda environment as the kernel to run these Jupyter Notebooks and code. To activate Jupyter Notebooks, run this in your command line/anaconda prompt:\n",
    "```\n",
    "jupyter notebook\n",
    "```\n",
    "Start with Jupyter Notebook 00_bq3d_setup.ipynb."
   ]
  },
  {
   "cell_type": "markdown",
   "metadata": {},
   "source": [
    "## 1. Ensure that the Jupyter Notebook kernel has been changed to the \"bq3d\" environment!\n",
    "You can modify this in the Kernel > Change Kernel option in the menu bar.\n",
    "\n",
    "Run the code below to ensure you can import the packages. There may be warnings from bq3d but we will update the configuration files in this Jupyter Notebook so they will be resolved."
   ]
  },
  {
   "cell_type": "code",
   "execution_count": 3,
   "metadata": {},
   "outputs": [],
   "source": [
    "#run this code block to ensure everything has been imported correctly.\n",
    "\n",
    "import bq3d\n",
    "\n",
    "import os\n",
    "from pathlib import Path\n",
    "import yaml\n",
    "import bq3d\n",
    "import glob"
   ]
  },
  {
   "cell_type": "markdown",
   "metadata": {},
   "source": [
    "## 2. Download Allen Brain Atlas datasets\n",
    "Download Warping.zip, which contains the Allen Brain Atlas datasets (477.9 MB zipped, 2.32 GB unzipped): https://osf.io/wyxa5/?view_only=f0cc945410554286b78c10e41ab511bb\n",
    "\n",
    "Unzip and move the downloaded Warping directory to a location you will remember (e.g. SSD drive). You may need to move the Warping folder to a location with enough storage before unzipping it.\n",
    "```\n",
    "# mv Warping /mnt/ssd\n",
    "unzip Warping.zip\n",
    "mv Warping /mnt/ssd\n",
    "```\n",
    "Change `brain_atlas_directory` below to the path of the Warping directory that you unzipped. Run the code cell below to ensure that you have the right path."
   ]
  },
  {
   "cell_type": "code",
   "execution_count": 15,
   "metadata": {},
   "outputs": [],
   "source": [
    "brain_atlas_directory = \"/Users/ytcao/Documents/Warping\" #!!!NOTE: modify the path to the downloaded brain atlas directory on your computer\n",
    "\n",
    "assert any(Path(brain_atlas_directory).iterdir()), \"No files found on the brain atlas directory path. Make sure that the path is correct!\""
   ]
  },
  {
   "cell_type": "markdown",
   "metadata": {},
   "source": [
    "## 3. Navigate to the parameter_template.py file, and update the PathReg variable:"
   ]
  },
  {
   "cell_type": "code",
   "execution_count": 14,
   "metadata": {},
   "outputs": [
    {
     "name": "stdout",
     "output_type": "stream",
     "text": [
      "\n",
      "replace this variable in parameter_template.py (line 37):\n",
      "PathReg = str(Path('/Users/ytcao/Documents/Warping'))\n"
     ]
    }
   ],
   "source": [
    "print(f\"\\nreplace this variable in parameter_template.py (line 35):\\nPathReg = str(Path('{brain_atlas_directory}'))\")"
   ]
  },
  {
   "cell_type": "markdown",
   "metadata": {},
   "source": [
    "## 4. Download the .ilp file and move into the \"filters\" folder in this directory\n",
    "Download the .ilp file (2.75 GB unzipped): https://osf.io/jckgr/?view_only=f0cc945410554286b78c10e41ab511bb\n",
    "\n",
    "This is the filter used by the ilastik program to detect cells. Move this file to the \"filters\" folder in this directory."
   ]
  },
  {
   "cell_type": "code",
   "execution_count": 7,
   "metadata": {},
   "outputs": [],
   "source": [
    "# make sure there are no errors\n",
    "assert glob.glob('filters/*.ilp'), \"Please move your downloaded ilastik .ilp file into the filters folder!\""
   ]
  },
  {
   "cell_type": "markdown",
   "metadata": {},
   "source": [
    "## 5. Set up configuration file\n",
    "Now you need to set up the configuration file. This file will tell BrainQuant3D where to place temp data and where to find the atlas data. The configuration template file, default.conf, can be found in the package install location.\n",
    "\n",
    "Temp_path: This is the location where temp data will be stored. It should be on a high-performance SSD. Preferably an NVMe. If the path does not exist, it will be created.\n",
    "\n",
    "Rigid_default, Affine_default, BSpline_default, Labeled_default, Annotations_default: These are the paths to the Allen Brain Atlas datasets downloaded earlier.\n",
    "\n",
    "Processing_cores, Thread_ram_max_Gb: These parameters specify how many processing cores to use and how much RAM to user per core. For example, if your system has 10 cores and 256 GB of RAM, you would set \"Processing_cores\" to 10 and \"Thread_ram_max_Gb\" to a value such as 22. This would use 10 x 22 = 220 GB of total RAM. It's a good idea to leave a little available RAM so as to not overload the system.\n",
    "\n",
    "Adjust variables as necessary below:"
   ]
  },
  {
   "cell_type": "code",
   "execution_count": 2,
   "metadata": {},
   "outputs": [
    {
     "name": "stdout",
     "output_type": "stream",
     "text": [
      "temporary directory: /var/folders/47/6bm96nxd0ks5x370bsvkpghh0000gn/T/\n",
      "hw.ncpu: 8\n",
      "8589934592\n",
      "8.0 GB RAM\n"
     ]
    }
   ],
   "source": [
    "### locate temporary directory path on your computer\n",
    "!echo \"temporary directory:\" $TMPDIR\n",
    "\n",
    "### uncomment to find the number of cores and amount of RAM supported by your computer (linux)\n",
    "# !lscpu | egrep 'Model name|Socket|Thread|NUMA|CPU\\(s\\)' #look for number of CPUs\n",
    "# !free -h #max RAM\n",
    "\n",
    "### for windows:\n",
    "# !wmic cpu get caption, deviceid, name, numberofcores, maxclockspeed, status #look for number of cores\n",
    "# !systeminfo #look for max RAM\n",
    "\n",
    "### for mac:\n",
    "!sysctl -a | grep hw.ncpu #number of cores\n",
    "!sysctl -n hw.memsize #max RAM in bytes; divide by (1024**3) for GB\n",
    "print(8589934592/(1024**3), \"GB RAM\")"
   ]
  },
  {
   "cell_type": "code",
   "execution_count": 1,
   "metadata": {},
   "outputs": [],
   "source": [
    "### replace temp_directory variable with above output (optional). For example, on mac computers, it might look like this: temp_directory = '/var/folders/47/6bm96nxd0ks5x370bsvkpghh0000gn/T/'. \n",
    "#If the temporary directory cannot be automatically found, we will create a temporary directory in the next step.\n",
    "\n",
    "temp_directory = '' #!!!NOTE: change this accordingly"
   ]
  },
  {
   "cell_type": "code",
   "execution_count": null,
   "metadata": {},
   "outputs": [],
   "source": [
    "\n",
    "#if there is no temp_directory provided, create a /tmp folder in the root directory of the computer\n",
    "if temp_directory == '':\n",
    "    temp_directory = Path(\"/tmp\")\n",
    "    temp_directory.mkdir(parents=True, exist_ok=True)\n",
    "\n",
    "processing_cores = 1 #!!!NOTE: change this accordingly\n",
    "thread_ram_max_GB = 4 #!!!NOTE: change this accordingly\n",
    "\n",
    "#find installation address of bq3d package\n",
    "bq3d_package_directory = Path(bq3d.__file__).parent\n",
    "assert Path(bq3d_package_directory, \"default.conf\").exists(), f\"cannot find BrainQuant3D configuration file in the directory {bq3d_package_directory}\"\n",
    "print(\"BQ3D_PACKAGE_DIRECTORY:\", bq3d_package_directory)"
   ]
  },
  {
   "cell_type": "markdown",
   "metadata": {},
   "source": [
    "run the following code blocks to automatically create a configuration file:"
   ]
  },
  {
   "cell_type": "code",
   "execution_count": 12,
   "metadata": {},
   "outputs": [
    {
     "name": "stdout",
     "output_type": "stream",
     "text": [
      "{'user': {'default': {'Ilastik_path': '/Users/ytcao/miniconda3/envs/bq3d/lib/python3.9/site-packages/bq3d/.external/ilastik-1.3.3', 'Elastix_path': '/Users/ytcao/miniconda3/envs/bq3d/lib/python3.9/site-packages/bq3d/.external/elastix-5.0.0', 'Temp_path': '/var/folders/47/6bm96nxd0ks5x370bsvkpghh0000gn/T/', 'Rigid_default': '/Users/ytcao/Documents/Warping/ParRigid.txt', 'Affine_default': '/Users/ytcao/Documents/Warping/ParAffine.txt', 'BSpline_default': '/Users/ytcao/Documents/Warping/ParBSpline.txt', 'Labeled_default': '/Users/ytcao/Documents/Warping/ARA2/annotation_25_right.tif', 'Annotations_default': '/Users/ytcao/Documents/Warping/ARA2_annotation_info_collapse.csv', 'Console_level': 'verbose', 'Processing_cores': 1, 'Thread_ram_max_Gb': 4}}}\n"
     ]
    }
   ],
   "source": [
    "### create updated config file\n",
    "try:\n",
    "    parigid_path = Path(brain_atlas_directory, \"ParRigid.txt\")\n",
    "    paraffine_path = Path(brain_atlas_directory, \"ParAffine.txt\")\n",
    "    parbspline_path = Path(brain_atlas_directory, \"ParBSpline.txt\")\n",
    "    annotation_path = Path(brain_atlas_directory, \"ARA2\", \"annotation_25_right.tif\")\n",
    "    collapse_path = Path(brain_atlas_directory, \"ARA2_annotation_info_collapse.csv\")\n",
    "except Exception as e: print(e, f\"file does not exist in the provided directory {brain_atlas_directory}\")\n",
    "\n",
    "config_data = {\n",
    "    'user': {\n",
    "        'default': {\n",
    "            #paths\n",
    "            ## path for mac only\n",
    "            ## 'Ilastik_path': f'{str(bq3d_package_directory)}/.external/ilastik-1.3.3/Contents/ilastik-release', \n",
    "            'Ilastik_path': f'{str(bq3d_package_directory)}/.external/ilastik-1.3.3',\n",
    "            'Elastix_path': f'{str(bq3d_package_directory)}/.external/elastix-5.0.0',\n",
    "            'Temp_path':    temp_directory, \n",
    "\n",
    "            #brain atlas\n",
    "            'Rigid_default':       f'{str(parigid_path)}',\n",
    "            'Affine_default':      f'{str(paraffine_path)}',\n",
    "            'BSpline_default':     f'{str(parbspline_path)}',\n",
    "            'Labeled_default':     f'{str(annotation_path)}',\n",
    "            'Annotations_default': f'{str(collapse_path)}',\n",
    "            'Console_level':       'verbose',\n",
    "\n",
    "            #processing\n",
    "            'Processing_cores':    processing_cores, \n",
    "            'Thread_ram_max_Gb':   thread_ram_max_GB, \n",
    "        }\n",
    "    }\n",
    "}\n",
    "print(config_data)\n",
    "\n",
    "### save to the bq3d folder\n",
    "with open(Path(bq3d_package_directory,\"brainquant3d.conf\"), mode=\"w+\") as f:\n",
    "    yaml.dump(config_data, f, sort_keys=False, indent=4, allow_unicode=True)"
   ]
  },
  {
   "cell_type": "markdown",
   "metadata": {},
   "source": [
    "## 6. Ensure configuration files are properly imported.\n",
    "Try to import the bq3d package-- there shouldn't be any warnings that pop up now that the configuration file is set."
   ]
  },
  {
   "cell_type": "code",
   "execution_count": 11,
   "metadata": {},
   "outputs": [],
   "source": [
    "import bq3d"
   ]
  },
  {
   "cell_type": "markdown",
   "metadata": {},
   "source": [
    "You can now move onto the tutorial Jupyter Notebook (01_bq3d_tutorial.ipynb)."
   ]
  }
 ],
 "metadata": {
  "kernelspec": {
   "display_name": "bq3d",
   "language": "python",
   "name": "python3"
  },
  "language_info": {
   "codemirror_mode": {
    "name": "ipython",
    "version": 3
   },
   "file_extension": ".py",
   "mimetype": "text/x-python",
   "name": "python",
   "nbconvert_exporter": "python",
   "pygments_lexer": "ipython3",
   "version": "3.9.18"
  }
 },
 "nbformat": 4,
 "nbformat_minor": 2
}
