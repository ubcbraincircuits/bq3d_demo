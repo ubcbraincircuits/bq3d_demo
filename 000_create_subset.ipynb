{
 "cells": [
  {
   "cell_type": "markdown",
   "metadata": {},
   "source": [
    "We use this code to select every Nth file in an image folder, where the files are in an ordered z-stack. These files are selected and then copied to a new folder that can be specified.\n",
    "\n",
    "We do this to make the brain dataset smaller so it can be processed before the workshop ends, but you'll want to process your full imaging dataset."
   ]
  },
  {
   "cell_type": "code",
   "execution_count": 2,
   "metadata": {},
   "outputs": [],
   "source": [
    "#run this code block to ensure everything has been imported correctly.\n",
    "import bq3d\n",
    "\n",
    "import os\n",
    "from pathlib import Path\n",
    "import yaml\n",
    "import bq3d\n",
    "import glob"
   ]
  },
  {
   "cell_type": "code",
   "execution_count": 21,
   "metadata": {},
   "outputs": [],
   "source": [
    "# /Users/ytcao/Documents/GitHub/bq3d_may18_workshop/lifecanvas/data_full/787287 cfos left hemi grayscale/787287_428180_463220_025000_full_sagittal_left_T001_Z001_C01.tif\n",
    "# /Users/ytcao/Documents/GitHub/bq3d_may18_workshop/lifecanvas/data_full/787287 NN left hemi grayscale/NN_428180_463220_025000_left_T001_Z001_C01.tif\n",
    "\n",
    "nth_subset = 6 #copy every Nth number\n",
    "\n",
    "#find all the cfos files\n",
    "cfos_full_folder_path = \"/Users/ytcao/Documents/GitHub/bq3d_may18_workshop/lifecanvas/data_full/787287 cfos left hemi grayscale/\" #location of the full stack of 741 files\n",
    "cfos_target_folder_path = \"./data_subset6/data/787287_cfos_left_hemi_grayscale\" #should be in the format of \"./<working directory>/data/<name of folder>\" \n",
    "\n",
    "#find all the autofluo files\n",
    "auto_full_folder_path = \"/Users/ytcao/Documents/GitHub/bq3d_may18_workshop/lifecanvas/data_full/787287 NN left hemi grayscale/\" #location of the full stack of 741 files\n",
    "auto_target_folder_path = \"./data_subset6/data/787287 NN_left_hemi grayscale/\" #should be in the format of \"./<working directory>/data/<name of folder>\" "
   ]
  },
  {
   "cell_type": "markdown",
   "metadata": {},
   "source": [
    "## copy the cfos signal files"
   ]
  },
  {
   "cell_type": "code",
   "execution_count": 22,
   "metadata": {},
   "outputs": [
    {
     "name": "stdout",
     "output_type": "stream",
     "text": [
      "741\n",
      "/Users/ytcao/Documents/GitHub/bq3d_may18_workshop/lifecanvas/data_full/787287 cfos left hemi grayscale/787287_428180_463220_025000_full_sagittal_left_T001_Z006_C01.tif\n",
      "<class 'pathlib.PosixPath'>\n"
     ]
    }
   ],
   "source": [
    "#check that whole cfos stack is present\n",
    "cfos_tif_files = [file for file in Path(cfos_full_folder_path).glob(\"**/*.tif\")] \n",
    "\n",
    "print(len(cfos_tif_files))\n",
    "print(cfos_tif_files[0])\n",
    "print(type(cfos_tif_files[0]))"
   ]
  },
  {
   "cell_type": "code",
   "execution_count": 23,
   "metadata": {},
   "outputs": [
    {
     "name": "stdout",
     "output_type": "stream",
     "text": [
      "787287_428180_463220_025000_full_sagittal_left_T001_Z006_C01\n"
     ]
    }
   ],
   "source": [
    "print(cfos_tif_files[0].stem)"
   ]
  },
  {
   "cell_type": "code",
   "execution_count": 24,
   "metadata": {},
   "outputs": [
    {
     "name": "stdout",
     "output_type": "stream",
     "text": [
      "006\n"
     ]
    }
   ],
   "source": [
    "print(cfos_tif_files[0].stem.split(\"Z\")[1].split(\"_\")[0]) #isolate the Z-stack ascending numbers"
   ]
  },
  {
   "cell_type": "code",
   "execution_count": 25,
   "metadata": {},
   "outputs": [],
   "source": [
    "cfos_tif_files_subset = [file for file in cfos_tif_files \n",
    "                         if int(file.stem.split(\"Z\")[1].split(\"_\")[0])%nth_subset==0] #replace accordingly"
   ]
  },
  {
   "cell_type": "code",
   "execution_count": 26,
   "metadata": {},
   "outputs": [],
   "source": [
    "cfos_tif_files_subset.sort()"
   ]
  },
  {
   "cell_type": "code",
   "execution_count": 27,
   "metadata": {},
   "outputs": [
    {
     "name": "stdout",
     "output_type": "stream",
     "text": [
      "[PosixPath('/Users/ytcao/Documents/GitHub/bq3d_may18_workshop/lifecanvas/data_full/787287 cfos left hemi grayscale/787287_428180_463220_025000_full_sagittal_left_T001_Z006_C01.tif'), PosixPath('/Users/ytcao/Documents/GitHub/bq3d_may18_workshop/lifecanvas/data_full/787287 cfos left hemi grayscale/787287_428180_463220_025000_full_sagittal_left_T001_Z012_C01.tif'), PosixPath('/Users/ytcao/Documents/GitHub/bq3d_may18_workshop/lifecanvas/data_full/787287 cfos left hemi grayscale/787287_428180_463220_025000_full_sagittal_left_T001_Z018_C01.tif'), PosixPath('/Users/ytcao/Documents/GitHub/bq3d_may18_workshop/lifecanvas/data_full/787287 cfos left hemi grayscale/787287_428180_463220_025000_full_sagittal_left_T001_Z024_C01.tif'), PosixPath('/Users/ytcao/Documents/GitHub/bq3d_may18_workshop/lifecanvas/data_full/787287 cfos left hemi grayscale/787287_428180_463220_025000_full_sagittal_left_T001_Z030_C01.tif'), PosixPath('/Users/ytcao/Documents/GitHub/bq3d_may18_workshop/lifecanvas/data_full/787287 cfos left hemi grayscale/787287_428180_463220_025000_full_sagittal_left_T001_Z036_C01.tif'), PosixPath('/Users/ytcao/Documents/GitHub/bq3d_may18_workshop/lifecanvas/data_full/787287 cfos left hemi grayscale/787287_428180_463220_025000_full_sagittal_left_T001_Z042_C01.tif'), PosixPath('/Users/ytcao/Documents/GitHub/bq3d_may18_workshop/lifecanvas/data_full/787287 cfos left hemi grayscale/787287_428180_463220_025000_full_sagittal_left_T001_Z048_C01.tif'), PosixPath('/Users/ytcao/Documents/GitHub/bq3d_may18_workshop/lifecanvas/data_full/787287 cfos left hemi grayscale/787287_428180_463220_025000_full_sagittal_left_T001_Z054_C01.tif'), PosixPath('/Users/ytcao/Documents/GitHub/bq3d_may18_workshop/lifecanvas/data_full/787287 cfos left hemi grayscale/787287_428180_463220_025000_full_sagittal_left_T001_Z060_C01.tif'), PosixPath('/Users/ytcao/Documents/GitHub/bq3d_may18_workshop/lifecanvas/data_full/787287 cfos left hemi grayscale/787287_428180_463220_025000_full_sagittal_left_T001_Z066_C01.tif'), PosixPath('/Users/ytcao/Documents/GitHub/bq3d_may18_workshop/lifecanvas/data_full/787287 cfos left hemi grayscale/787287_428180_463220_025000_full_sagittal_left_T001_Z072_C01.tif'), PosixPath('/Users/ytcao/Documents/GitHub/bq3d_may18_workshop/lifecanvas/data_full/787287 cfos left hemi grayscale/787287_428180_463220_025000_full_sagittal_left_T001_Z078_C01.tif'), PosixPath('/Users/ytcao/Documents/GitHub/bq3d_may18_workshop/lifecanvas/data_full/787287 cfos left hemi grayscale/787287_428180_463220_025000_full_sagittal_left_T001_Z084_C01.tif'), PosixPath('/Users/ytcao/Documents/GitHub/bq3d_may18_workshop/lifecanvas/data_full/787287 cfos left hemi grayscale/787287_428180_463220_025000_full_sagittal_left_T001_Z090_C01.tif'), PosixPath('/Users/ytcao/Documents/GitHub/bq3d_may18_workshop/lifecanvas/data_full/787287 cfos left hemi grayscale/787287_428180_463220_025000_full_sagittal_left_T001_Z096_C01.tif'), PosixPath('/Users/ytcao/Documents/GitHub/bq3d_may18_workshop/lifecanvas/data_full/787287 cfos left hemi grayscale/787287_428180_463220_025000_full_sagittal_left_T001_Z102_C01.tif'), PosixPath('/Users/ytcao/Documents/GitHub/bq3d_may18_workshop/lifecanvas/data_full/787287 cfos left hemi grayscale/787287_428180_463220_025000_full_sagittal_left_T001_Z108_C01.tif'), PosixPath('/Users/ytcao/Documents/GitHub/bq3d_may18_workshop/lifecanvas/data_full/787287 cfos left hemi grayscale/787287_428180_463220_025000_full_sagittal_left_T001_Z114_C01.tif'), PosixPath('/Users/ytcao/Documents/GitHub/bq3d_may18_workshop/lifecanvas/data_full/787287 cfos left hemi grayscale/787287_428180_463220_025000_full_sagittal_left_T001_Z120_C01.tif'), PosixPath('/Users/ytcao/Documents/GitHub/bq3d_may18_workshop/lifecanvas/data_full/787287 cfos left hemi grayscale/787287_428180_463220_025000_full_sagittal_left_T001_Z126_C01.tif'), PosixPath('/Users/ytcao/Documents/GitHub/bq3d_may18_workshop/lifecanvas/data_full/787287 cfos left hemi grayscale/787287_428180_463220_025000_full_sagittal_left_T001_Z132_C01.tif'), PosixPath('/Users/ytcao/Documents/GitHub/bq3d_may18_workshop/lifecanvas/data_full/787287 cfos left hemi grayscale/787287_428180_463220_025000_full_sagittal_left_T001_Z138_C01.tif'), PosixPath('/Users/ytcao/Documents/GitHub/bq3d_may18_workshop/lifecanvas/data_full/787287 cfos left hemi grayscale/787287_428180_463220_025000_full_sagittal_left_T001_Z144_C01.tif'), PosixPath('/Users/ytcao/Documents/GitHub/bq3d_may18_workshop/lifecanvas/data_full/787287 cfos left hemi grayscale/787287_428180_463220_025000_full_sagittal_left_T001_Z150_C01.tif'), PosixPath('/Users/ytcao/Documents/GitHub/bq3d_may18_workshop/lifecanvas/data_full/787287 cfos left hemi grayscale/787287_428180_463220_025000_full_sagittal_left_T001_Z156_C01.tif'), PosixPath('/Users/ytcao/Documents/GitHub/bq3d_may18_workshop/lifecanvas/data_full/787287 cfos left hemi grayscale/787287_428180_463220_025000_full_sagittal_left_T001_Z162_C01.tif'), PosixPath('/Users/ytcao/Documents/GitHub/bq3d_may18_workshop/lifecanvas/data_full/787287 cfos left hemi grayscale/787287_428180_463220_025000_full_sagittal_left_T001_Z168_C01.tif'), PosixPath('/Users/ytcao/Documents/GitHub/bq3d_may18_workshop/lifecanvas/data_full/787287 cfos left hemi grayscale/787287_428180_463220_025000_full_sagittal_left_T001_Z174_C01.tif'), PosixPath('/Users/ytcao/Documents/GitHub/bq3d_may18_workshop/lifecanvas/data_full/787287 cfos left hemi grayscale/787287_428180_463220_025000_full_sagittal_left_T001_Z180_C01.tif'), PosixPath('/Users/ytcao/Documents/GitHub/bq3d_may18_workshop/lifecanvas/data_full/787287 cfos left hemi grayscale/787287_428180_463220_025000_full_sagittal_left_T001_Z186_C01.tif'), PosixPath('/Users/ytcao/Documents/GitHub/bq3d_may18_workshop/lifecanvas/data_full/787287 cfos left hemi grayscale/787287_428180_463220_025000_full_sagittal_left_T001_Z192_C01.tif'), PosixPath('/Users/ytcao/Documents/GitHub/bq3d_may18_workshop/lifecanvas/data_full/787287 cfos left hemi grayscale/787287_428180_463220_025000_full_sagittal_left_T001_Z198_C01.tif'), PosixPath('/Users/ytcao/Documents/GitHub/bq3d_may18_workshop/lifecanvas/data_full/787287 cfos left hemi grayscale/787287_428180_463220_025000_full_sagittal_left_T001_Z204_C01.tif'), PosixPath('/Users/ytcao/Documents/GitHub/bq3d_may18_workshop/lifecanvas/data_full/787287 cfos left hemi grayscale/787287_428180_463220_025000_full_sagittal_left_T001_Z210_C01.tif'), PosixPath('/Users/ytcao/Documents/GitHub/bq3d_may18_workshop/lifecanvas/data_full/787287 cfos left hemi grayscale/787287_428180_463220_025000_full_sagittal_left_T001_Z216_C01.tif'), PosixPath('/Users/ytcao/Documents/GitHub/bq3d_may18_workshop/lifecanvas/data_full/787287 cfos left hemi grayscale/787287_428180_463220_025000_full_sagittal_left_T001_Z222_C01.tif'), PosixPath('/Users/ytcao/Documents/GitHub/bq3d_may18_workshop/lifecanvas/data_full/787287 cfos left hemi grayscale/787287_428180_463220_025000_full_sagittal_left_T001_Z228_C01.tif'), PosixPath('/Users/ytcao/Documents/GitHub/bq3d_may18_workshop/lifecanvas/data_full/787287 cfos left hemi grayscale/787287_428180_463220_025000_full_sagittal_left_T001_Z234_C01.tif'), PosixPath('/Users/ytcao/Documents/GitHub/bq3d_may18_workshop/lifecanvas/data_full/787287 cfos left hemi grayscale/787287_428180_463220_025000_full_sagittal_left_T001_Z240_C01.tif'), PosixPath('/Users/ytcao/Documents/GitHub/bq3d_may18_workshop/lifecanvas/data_full/787287 cfos left hemi grayscale/787287_428180_463220_025000_full_sagittal_left_T001_Z246_C01.tif'), PosixPath('/Users/ytcao/Documents/GitHub/bq3d_may18_workshop/lifecanvas/data_full/787287 cfos left hemi grayscale/787287_428180_463220_025000_full_sagittal_left_T001_Z252_C01.tif'), PosixPath('/Users/ytcao/Documents/GitHub/bq3d_may18_workshop/lifecanvas/data_full/787287 cfos left hemi grayscale/787287_428180_463220_025000_full_sagittal_left_T001_Z258_C01.tif'), PosixPath('/Users/ytcao/Documents/GitHub/bq3d_may18_workshop/lifecanvas/data_full/787287 cfos left hemi grayscale/787287_428180_463220_025000_full_sagittal_left_T001_Z264_C01.tif'), PosixPath('/Users/ytcao/Documents/GitHub/bq3d_may18_workshop/lifecanvas/data_full/787287 cfos left hemi grayscale/787287_428180_463220_025000_full_sagittal_left_T001_Z270_C01.tif'), PosixPath('/Users/ytcao/Documents/GitHub/bq3d_may18_workshop/lifecanvas/data_full/787287 cfos left hemi grayscale/787287_428180_463220_025000_full_sagittal_left_T001_Z276_C01.tif'), PosixPath('/Users/ytcao/Documents/GitHub/bq3d_may18_workshop/lifecanvas/data_full/787287 cfos left hemi grayscale/787287_428180_463220_025000_full_sagittal_left_T001_Z282_C01.tif'), PosixPath('/Users/ytcao/Documents/GitHub/bq3d_may18_workshop/lifecanvas/data_full/787287 cfos left hemi grayscale/787287_428180_463220_025000_full_sagittal_left_T001_Z288_C01.tif'), PosixPath('/Users/ytcao/Documents/GitHub/bq3d_may18_workshop/lifecanvas/data_full/787287 cfos left hemi grayscale/787287_428180_463220_025000_full_sagittal_left_T001_Z294_C01.tif'), PosixPath('/Users/ytcao/Documents/GitHub/bq3d_may18_workshop/lifecanvas/data_full/787287 cfos left hemi grayscale/787287_428180_463220_025000_full_sagittal_left_T001_Z300_C01.tif'), PosixPath('/Users/ytcao/Documents/GitHub/bq3d_may18_workshop/lifecanvas/data_full/787287 cfos left hemi grayscale/787287_428180_463220_025000_full_sagittal_left_T001_Z306_C01.tif'), PosixPath('/Users/ytcao/Documents/GitHub/bq3d_may18_workshop/lifecanvas/data_full/787287 cfos left hemi grayscale/787287_428180_463220_025000_full_sagittal_left_T001_Z312_C01.tif'), PosixPath('/Users/ytcao/Documents/GitHub/bq3d_may18_workshop/lifecanvas/data_full/787287 cfos left hemi grayscale/787287_428180_463220_025000_full_sagittal_left_T001_Z318_C01.tif'), PosixPath('/Users/ytcao/Documents/GitHub/bq3d_may18_workshop/lifecanvas/data_full/787287 cfos left hemi grayscale/787287_428180_463220_025000_full_sagittal_left_T001_Z324_C01.tif'), PosixPath('/Users/ytcao/Documents/GitHub/bq3d_may18_workshop/lifecanvas/data_full/787287 cfos left hemi grayscale/787287_428180_463220_025000_full_sagittal_left_T001_Z330_C01.tif'), PosixPath('/Users/ytcao/Documents/GitHub/bq3d_may18_workshop/lifecanvas/data_full/787287 cfos left hemi grayscale/787287_428180_463220_025000_full_sagittal_left_T001_Z336_C01.tif'), PosixPath('/Users/ytcao/Documents/GitHub/bq3d_may18_workshop/lifecanvas/data_full/787287 cfos left hemi grayscale/787287_428180_463220_025000_full_sagittal_left_T001_Z342_C01.tif'), PosixPath('/Users/ytcao/Documents/GitHub/bq3d_may18_workshop/lifecanvas/data_full/787287 cfos left hemi grayscale/787287_428180_463220_025000_full_sagittal_left_T001_Z348_C01.tif'), PosixPath('/Users/ytcao/Documents/GitHub/bq3d_may18_workshop/lifecanvas/data_full/787287 cfos left hemi grayscale/787287_428180_463220_025000_full_sagittal_left_T001_Z354_C01.tif'), PosixPath('/Users/ytcao/Documents/GitHub/bq3d_may18_workshop/lifecanvas/data_full/787287 cfos left hemi grayscale/787287_428180_463220_025000_full_sagittal_left_T001_Z360_C01.tif'), PosixPath('/Users/ytcao/Documents/GitHub/bq3d_may18_workshop/lifecanvas/data_full/787287 cfos left hemi grayscale/787287_428180_463220_025000_full_sagittal_left_T001_Z366_C01.tif'), PosixPath('/Users/ytcao/Documents/GitHub/bq3d_may18_workshop/lifecanvas/data_full/787287 cfos left hemi grayscale/787287_428180_463220_025000_full_sagittal_left_T001_Z372_C01.tif'), PosixPath('/Users/ytcao/Documents/GitHub/bq3d_may18_workshop/lifecanvas/data_full/787287 cfos left hemi grayscale/787287_428180_463220_025000_full_sagittal_left_T001_Z378_C01.tif'), PosixPath('/Users/ytcao/Documents/GitHub/bq3d_may18_workshop/lifecanvas/data_full/787287 cfos left hemi grayscale/787287_428180_463220_025000_full_sagittal_left_T001_Z384_C01.tif'), PosixPath('/Users/ytcao/Documents/GitHub/bq3d_may18_workshop/lifecanvas/data_full/787287 cfos left hemi grayscale/787287_428180_463220_025000_full_sagittal_left_T001_Z390_C01.tif'), PosixPath('/Users/ytcao/Documents/GitHub/bq3d_may18_workshop/lifecanvas/data_full/787287 cfos left hemi grayscale/787287_428180_463220_025000_full_sagittal_left_T001_Z396_C01.tif'), PosixPath('/Users/ytcao/Documents/GitHub/bq3d_may18_workshop/lifecanvas/data_full/787287 cfos left hemi grayscale/787287_428180_463220_025000_full_sagittal_left_T001_Z402_C01.tif'), PosixPath('/Users/ytcao/Documents/GitHub/bq3d_may18_workshop/lifecanvas/data_full/787287 cfos left hemi grayscale/787287_428180_463220_025000_full_sagittal_left_T001_Z408_C01.tif'), PosixPath('/Users/ytcao/Documents/GitHub/bq3d_may18_workshop/lifecanvas/data_full/787287 cfos left hemi grayscale/787287_428180_463220_025000_full_sagittal_left_T001_Z414_C01.tif'), PosixPath('/Users/ytcao/Documents/GitHub/bq3d_may18_workshop/lifecanvas/data_full/787287 cfos left hemi grayscale/787287_428180_463220_025000_full_sagittal_left_T001_Z420_C01.tif'), PosixPath('/Users/ytcao/Documents/GitHub/bq3d_may18_workshop/lifecanvas/data_full/787287 cfos left hemi grayscale/787287_428180_463220_025000_full_sagittal_left_T001_Z426_C01.tif'), PosixPath('/Users/ytcao/Documents/GitHub/bq3d_may18_workshop/lifecanvas/data_full/787287 cfos left hemi grayscale/787287_428180_463220_025000_full_sagittal_left_T001_Z432_C01.tif'), PosixPath('/Users/ytcao/Documents/GitHub/bq3d_may18_workshop/lifecanvas/data_full/787287 cfos left hemi grayscale/787287_428180_463220_025000_full_sagittal_left_T001_Z438_C01.tif'), PosixPath('/Users/ytcao/Documents/GitHub/bq3d_may18_workshop/lifecanvas/data_full/787287 cfos left hemi grayscale/787287_428180_463220_025000_full_sagittal_left_T001_Z444_C01.tif'), PosixPath('/Users/ytcao/Documents/GitHub/bq3d_may18_workshop/lifecanvas/data_full/787287 cfos left hemi grayscale/787287_428180_463220_025000_full_sagittal_left_T001_Z450_C01.tif'), PosixPath('/Users/ytcao/Documents/GitHub/bq3d_may18_workshop/lifecanvas/data_full/787287 cfos left hemi grayscale/787287_428180_463220_025000_full_sagittal_left_T001_Z456_C01.tif'), PosixPath('/Users/ytcao/Documents/GitHub/bq3d_may18_workshop/lifecanvas/data_full/787287 cfos left hemi grayscale/787287_428180_463220_025000_full_sagittal_left_T001_Z462_C01.tif'), PosixPath('/Users/ytcao/Documents/GitHub/bq3d_may18_workshop/lifecanvas/data_full/787287 cfos left hemi grayscale/787287_428180_463220_025000_full_sagittal_left_T001_Z468_C01.tif'), PosixPath('/Users/ytcao/Documents/GitHub/bq3d_may18_workshop/lifecanvas/data_full/787287 cfos left hemi grayscale/787287_428180_463220_025000_full_sagittal_left_T001_Z474_C01.tif'), PosixPath('/Users/ytcao/Documents/GitHub/bq3d_may18_workshop/lifecanvas/data_full/787287 cfos left hemi grayscale/787287_428180_463220_025000_full_sagittal_left_T001_Z480_C01.tif'), PosixPath('/Users/ytcao/Documents/GitHub/bq3d_may18_workshop/lifecanvas/data_full/787287 cfos left hemi grayscale/787287_428180_463220_025000_full_sagittal_left_T001_Z486_C01.tif'), PosixPath('/Users/ytcao/Documents/GitHub/bq3d_may18_workshop/lifecanvas/data_full/787287 cfos left hemi grayscale/787287_428180_463220_025000_full_sagittal_left_T001_Z492_C01.tif'), PosixPath('/Users/ytcao/Documents/GitHub/bq3d_may18_workshop/lifecanvas/data_full/787287 cfos left hemi grayscale/787287_428180_463220_025000_full_sagittal_left_T001_Z498_C01.tif'), PosixPath('/Users/ytcao/Documents/GitHub/bq3d_may18_workshop/lifecanvas/data_full/787287 cfos left hemi grayscale/787287_428180_463220_025000_full_sagittal_left_T001_Z504_C01.tif'), PosixPath('/Users/ytcao/Documents/GitHub/bq3d_may18_workshop/lifecanvas/data_full/787287 cfos left hemi grayscale/787287_428180_463220_025000_full_sagittal_left_T001_Z510_C01.tif'), PosixPath('/Users/ytcao/Documents/GitHub/bq3d_may18_workshop/lifecanvas/data_full/787287 cfos left hemi grayscale/787287_428180_463220_025000_full_sagittal_left_T001_Z516_C01.tif'), PosixPath('/Users/ytcao/Documents/GitHub/bq3d_may18_workshop/lifecanvas/data_full/787287 cfos left hemi grayscale/787287_428180_463220_025000_full_sagittal_left_T001_Z522_C01.tif'), PosixPath('/Users/ytcao/Documents/GitHub/bq3d_may18_workshop/lifecanvas/data_full/787287 cfos left hemi grayscale/787287_428180_463220_025000_full_sagittal_left_T001_Z528_C01.tif'), PosixPath('/Users/ytcao/Documents/GitHub/bq3d_may18_workshop/lifecanvas/data_full/787287 cfos left hemi grayscale/787287_428180_463220_025000_full_sagittal_left_T001_Z534_C01.tif'), PosixPath('/Users/ytcao/Documents/GitHub/bq3d_may18_workshop/lifecanvas/data_full/787287 cfos left hemi grayscale/787287_428180_463220_025000_full_sagittal_left_T001_Z540_C01.tif'), PosixPath('/Users/ytcao/Documents/GitHub/bq3d_may18_workshop/lifecanvas/data_full/787287 cfos left hemi grayscale/787287_428180_463220_025000_full_sagittal_left_T001_Z546_C01.tif'), PosixPath('/Users/ytcao/Documents/GitHub/bq3d_may18_workshop/lifecanvas/data_full/787287 cfos left hemi grayscale/787287_428180_463220_025000_full_sagittal_left_T001_Z552_C01.tif'), PosixPath('/Users/ytcao/Documents/GitHub/bq3d_may18_workshop/lifecanvas/data_full/787287 cfos left hemi grayscale/787287_428180_463220_025000_full_sagittal_left_T001_Z558_C01.tif'), PosixPath('/Users/ytcao/Documents/GitHub/bq3d_may18_workshop/lifecanvas/data_full/787287 cfos left hemi grayscale/787287_428180_463220_025000_full_sagittal_left_T001_Z564_C01.tif'), PosixPath('/Users/ytcao/Documents/GitHub/bq3d_may18_workshop/lifecanvas/data_full/787287 cfos left hemi grayscale/787287_428180_463220_025000_full_sagittal_left_T001_Z570_C01.tif'), PosixPath('/Users/ytcao/Documents/GitHub/bq3d_may18_workshop/lifecanvas/data_full/787287 cfos left hemi grayscale/787287_428180_463220_025000_full_sagittal_left_T001_Z576_C01.tif'), PosixPath('/Users/ytcao/Documents/GitHub/bq3d_may18_workshop/lifecanvas/data_full/787287 cfos left hemi grayscale/787287_428180_463220_025000_full_sagittal_left_T001_Z582_C01.tif'), PosixPath('/Users/ytcao/Documents/GitHub/bq3d_may18_workshop/lifecanvas/data_full/787287 cfos left hemi grayscale/787287_428180_463220_025000_full_sagittal_left_T001_Z588_C01.tif'), PosixPath('/Users/ytcao/Documents/GitHub/bq3d_may18_workshop/lifecanvas/data_full/787287 cfos left hemi grayscale/787287_428180_463220_025000_full_sagittal_left_T001_Z594_C01.tif'), PosixPath('/Users/ytcao/Documents/GitHub/bq3d_may18_workshop/lifecanvas/data_full/787287 cfos left hemi grayscale/787287_428180_463220_025000_full_sagittal_left_T001_Z600_C01.tif'), PosixPath('/Users/ytcao/Documents/GitHub/bq3d_may18_workshop/lifecanvas/data_full/787287 cfos left hemi grayscale/787287_428180_463220_025000_full_sagittal_left_T001_Z606_C01.tif'), PosixPath('/Users/ytcao/Documents/GitHub/bq3d_may18_workshop/lifecanvas/data_full/787287 cfos left hemi grayscale/787287_428180_463220_025000_full_sagittal_left_T001_Z612_C01.tif'), PosixPath('/Users/ytcao/Documents/GitHub/bq3d_may18_workshop/lifecanvas/data_full/787287 cfos left hemi grayscale/787287_428180_463220_025000_full_sagittal_left_T001_Z618_C01.tif'), PosixPath('/Users/ytcao/Documents/GitHub/bq3d_may18_workshop/lifecanvas/data_full/787287 cfos left hemi grayscale/787287_428180_463220_025000_full_sagittal_left_T001_Z624_C01.tif'), PosixPath('/Users/ytcao/Documents/GitHub/bq3d_may18_workshop/lifecanvas/data_full/787287 cfos left hemi grayscale/787287_428180_463220_025000_full_sagittal_left_T001_Z630_C01.tif'), PosixPath('/Users/ytcao/Documents/GitHub/bq3d_may18_workshop/lifecanvas/data_full/787287 cfos left hemi grayscale/787287_428180_463220_025000_full_sagittal_left_T001_Z636_C01.tif'), PosixPath('/Users/ytcao/Documents/GitHub/bq3d_may18_workshop/lifecanvas/data_full/787287 cfos left hemi grayscale/787287_428180_463220_025000_full_sagittal_left_T001_Z642_C01.tif'), PosixPath('/Users/ytcao/Documents/GitHub/bq3d_may18_workshop/lifecanvas/data_full/787287 cfos left hemi grayscale/787287_428180_463220_025000_full_sagittal_left_T001_Z648_C01.tif'), PosixPath('/Users/ytcao/Documents/GitHub/bq3d_may18_workshop/lifecanvas/data_full/787287 cfos left hemi grayscale/787287_428180_463220_025000_full_sagittal_left_T001_Z654_C01.tif'), PosixPath('/Users/ytcao/Documents/GitHub/bq3d_may18_workshop/lifecanvas/data_full/787287 cfos left hemi grayscale/787287_428180_463220_025000_full_sagittal_left_T001_Z660_C01.tif'), PosixPath('/Users/ytcao/Documents/GitHub/bq3d_may18_workshop/lifecanvas/data_full/787287 cfos left hemi grayscale/787287_428180_463220_025000_full_sagittal_left_T001_Z666_C01.tif'), PosixPath('/Users/ytcao/Documents/GitHub/bq3d_may18_workshop/lifecanvas/data_full/787287 cfos left hemi grayscale/787287_428180_463220_025000_full_sagittal_left_T001_Z672_C01.tif'), PosixPath('/Users/ytcao/Documents/GitHub/bq3d_may18_workshop/lifecanvas/data_full/787287 cfos left hemi grayscale/787287_428180_463220_025000_full_sagittal_left_T001_Z678_C01.tif'), PosixPath('/Users/ytcao/Documents/GitHub/bq3d_may18_workshop/lifecanvas/data_full/787287 cfos left hemi grayscale/787287_428180_463220_025000_full_sagittal_left_T001_Z684_C01.tif'), PosixPath('/Users/ytcao/Documents/GitHub/bq3d_may18_workshop/lifecanvas/data_full/787287 cfos left hemi grayscale/787287_428180_463220_025000_full_sagittal_left_T001_Z690_C01.tif'), PosixPath('/Users/ytcao/Documents/GitHub/bq3d_may18_workshop/lifecanvas/data_full/787287 cfos left hemi grayscale/787287_428180_463220_025000_full_sagittal_left_T001_Z696_C01.tif'), PosixPath('/Users/ytcao/Documents/GitHub/bq3d_may18_workshop/lifecanvas/data_full/787287 cfos left hemi grayscale/787287_428180_463220_025000_full_sagittal_left_T001_Z702_C01.tif'), PosixPath('/Users/ytcao/Documents/GitHub/bq3d_may18_workshop/lifecanvas/data_full/787287 cfos left hemi grayscale/787287_428180_463220_025000_full_sagittal_left_T001_Z708_C01.tif'), PosixPath('/Users/ytcao/Documents/GitHub/bq3d_may18_workshop/lifecanvas/data_full/787287 cfos left hemi grayscale/787287_428180_463220_025000_full_sagittal_left_T001_Z714_C01.tif'), PosixPath('/Users/ytcao/Documents/GitHub/bq3d_may18_workshop/lifecanvas/data_full/787287 cfos left hemi grayscale/787287_428180_463220_025000_full_sagittal_left_T001_Z720_C01.tif'), PosixPath('/Users/ytcao/Documents/GitHub/bq3d_may18_workshop/lifecanvas/data_full/787287 cfos left hemi grayscale/787287_428180_463220_025000_full_sagittal_left_T001_Z726_C01.tif'), PosixPath('/Users/ytcao/Documents/GitHub/bq3d_may18_workshop/lifecanvas/data_full/787287 cfos left hemi grayscale/787287_428180_463220_025000_full_sagittal_left_T001_Z732_C01.tif'), PosixPath('/Users/ytcao/Documents/GitHub/bq3d_may18_workshop/lifecanvas/data_full/787287 cfos left hemi grayscale/787287_428180_463220_025000_full_sagittal_left_T001_Z738_C01.tif')]\n"
     ]
    }
   ],
   "source": [
    "print(cfos_tif_files_subset)"
   ]
  },
  {
   "cell_type": "markdown",
   "metadata": {},
   "source": [
    "copy the cfos signal files"
   ]
  },
  {
   "cell_type": "code",
   "execution_count": 28,
   "metadata": {},
   "outputs": [
    {
     "name": "stdout",
     "output_type": "stream",
     "text": [
      "787287_428180_463220_025000_full_sagittal_left_T001_Z006_C01.tif\n",
      "787287_428180_463220_025000_full_sagittal_left_T001_Z012_C01.tif\n",
      "787287_428180_463220_025000_full_sagittal_left_T001_Z018_C01.tif\n",
      "787287_428180_463220_025000_full_sagittal_left_T001_Z024_C01.tif\n",
      "787287_428180_463220_025000_full_sagittal_left_T001_Z030_C01.tif\n",
      "787287_428180_463220_025000_full_sagittal_left_T001_Z036_C01.tif\n",
      "787287_428180_463220_025000_full_sagittal_left_T001_Z042_C01.tif\n",
      "787287_428180_463220_025000_full_sagittal_left_T001_Z048_C01.tif\n",
      "787287_428180_463220_025000_full_sagittal_left_T001_Z054_C01.tif\n",
      "787287_428180_463220_025000_full_sagittal_left_T001_Z060_C01.tif\n",
      "787287_428180_463220_025000_full_sagittal_left_T001_Z066_C01.tif\n",
      "787287_428180_463220_025000_full_sagittal_left_T001_Z072_C01.tif\n",
      "787287_428180_463220_025000_full_sagittal_left_T001_Z078_C01.tif\n",
      "787287_428180_463220_025000_full_sagittal_left_T001_Z084_C01.tif\n",
      "787287_428180_463220_025000_full_sagittal_left_T001_Z090_C01.tif\n",
      "787287_428180_463220_025000_full_sagittal_left_T001_Z096_C01.tif\n",
      "787287_428180_463220_025000_full_sagittal_left_T001_Z102_C01.tif\n",
      "787287_428180_463220_025000_full_sagittal_left_T001_Z108_C01.tif\n",
      "787287_428180_463220_025000_full_sagittal_left_T001_Z114_C01.tif\n",
      "787287_428180_463220_025000_full_sagittal_left_T001_Z120_C01.tif\n",
      "787287_428180_463220_025000_full_sagittal_left_T001_Z126_C01.tif\n",
      "787287_428180_463220_025000_full_sagittal_left_T001_Z132_C01.tif\n",
      "787287_428180_463220_025000_full_sagittal_left_T001_Z138_C01.tif\n",
      "787287_428180_463220_025000_full_sagittal_left_T001_Z144_C01.tif\n",
      "787287_428180_463220_025000_full_sagittal_left_T001_Z150_C01.tif\n",
      "787287_428180_463220_025000_full_sagittal_left_T001_Z156_C01.tif\n",
      "787287_428180_463220_025000_full_sagittal_left_T001_Z162_C01.tif\n",
      "787287_428180_463220_025000_full_sagittal_left_T001_Z168_C01.tif\n",
      "787287_428180_463220_025000_full_sagittal_left_T001_Z174_C01.tif\n",
      "787287_428180_463220_025000_full_sagittal_left_T001_Z180_C01.tif\n",
      "787287_428180_463220_025000_full_sagittal_left_T001_Z186_C01.tif\n",
      "787287_428180_463220_025000_full_sagittal_left_T001_Z192_C01.tif\n",
      "787287_428180_463220_025000_full_sagittal_left_T001_Z198_C01.tif\n",
      "787287_428180_463220_025000_full_sagittal_left_T001_Z204_C01.tif\n",
      "787287_428180_463220_025000_full_sagittal_left_T001_Z210_C01.tif\n",
      "787287_428180_463220_025000_full_sagittal_left_T001_Z216_C01.tif\n",
      "787287_428180_463220_025000_full_sagittal_left_T001_Z222_C01.tif\n",
      "787287_428180_463220_025000_full_sagittal_left_T001_Z228_C01.tif\n",
      "787287_428180_463220_025000_full_sagittal_left_T001_Z234_C01.tif\n",
      "787287_428180_463220_025000_full_sagittal_left_T001_Z240_C01.tif\n",
      "787287_428180_463220_025000_full_sagittal_left_T001_Z246_C01.tif\n",
      "787287_428180_463220_025000_full_sagittal_left_T001_Z252_C01.tif\n",
      "787287_428180_463220_025000_full_sagittal_left_T001_Z258_C01.tif\n",
      "787287_428180_463220_025000_full_sagittal_left_T001_Z264_C01.tif\n",
      "787287_428180_463220_025000_full_sagittal_left_T001_Z270_C01.tif\n",
      "787287_428180_463220_025000_full_sagittal_left_T001_Z276_C01.tif\n",
      "787287_428180_463220_025000_full_sagittal_left_T001_Z282_C01.tif\n",
      "787287_428180_463220_025000_full_sagittal_left_T001_Z288_C01.tif\n",
      "787287_428180_463220_025000_full_sagittal_left_T001_Z294_C01.tif\n",
      "787287_428180_463220_025000_full_sagittal_left_T001_Z300_C01.tif\n",
      "787287_428180_463220_025000_full_sagittal_left_T001_Z306_C01.tif\n",
      "787287_428180_463220_025000_full_sagittal_left_T001_Z312_C01.tif\n",
      "787287_428180_463220_025000_full_sagittal_left_T001_Z318_C01.tif\n",
      "787287_428180_463220_025000_full_sagittal_left_T001_Z324_C01.tif\n",
      "787287_428180_463220_025000_full_sagittal_left_T001_Z330_C01.tif\n",
      "787287_428180_463220_025000_full_sagittal_left_T001_Z336_C01.tif\n",
      "787287_428180_463220_025000_full_sagittal_left_T001_Z342_C01.tif\n",
      "787287_428180_463220_025000_full_sagittal_left_T001_Z348_C01.tif\n",
      "787287_428180_463220_025000_full_sagittal_left_T001_Z354_C01.tif\n",
      "787287_428180_463220_025000_full_sagittal_left_T001_Z360_C01.tif\n",
      "787287_428180_463220_025000_full_sagittal_left_T001_Z366_C01.tif\n",
      "787287_428180_463220_025000_full_sagittal_left_T001_Z372_C01.tif\n",
      "787287_428180_463220_025000_full_sagittal_left_T001_Z378_C01.tif\n",
      "787287_428180_463220_025000_full_sagittal_left_T001_Z384_C01.tif\n",
      "787287_428180_463220_025000_full_sagittal_left_T001_Z390_C01.tif\n",
      "787287_428180_463220_025000_full_sagittal_left_T001_Z396_C01.tif\n",
      "787287_428180_463220_025000_full_sagittal_left_T001_Z402_C01.tif\n",
      "787287_428180_463220_025000_full_sagittal_left_T001_Z408_C01.tif\n",
      "787287_428180_463220_025000_full_sagittal_left_T001_Z414_C01.tif\n",
      "787287_428180_463220_025000_full_sagittal_left_T001_Z420_C01.tif\n",
      "787287_428180_463220_025000_full_sagittal_left_T001_Z426_C01.tif\n",
      "787287_428180_463220_025000_full_sagittal_left_T001_Z432_C01.tif\n",
      "787287_428180_463220_025000_full_sagittal_left_T001_Z438_C01.tif\n",
      "787287_428180_463220_025000_full_sagittal_left_T001_Z444_C01.tif\n",
      "787287_428180_463220_025000_full_sagittal_left_T001_Z450_C01.tif\n",
      "787287_428180_463220_025000_full_sagittal_left_T001_Z456_C01.tif\n",
      "787287_428180_463220_025000_full_sagittal_left_T001_Z462_C01.tif\n",
      "787287_428180_463220_025000_full_sagittal_left_T001_Z468_C01.tif\n",
      "787287_428180_463220_025000_full_sagittal_left_T001_Z474_C01.tif\n",
      "787287_428180_463220_025000_full_sagittal_left_T001_Z480_C01.tif\n",
      "787287_428180_463220_025000_full_sagittal_left_T001_Z486_C01.tif\n",
      "787287_428180_463220_025000_full_sagittal_left_T001_Z492_C01.tif\n",
      "787287_428180_463220_025000_full_sagittal_left_T001_Z498_C01.tif\n",
      "787287_428180_463220_025000_full_sagittal_left_T001_Z504_C01.tif\n",
      "787287_428180_463220_025000_full_sagittal_left_T001_Z510_C01.tif\n",
      "787287_428180_463220_025000_full_sagittal_left_T001_Z516_C01.tif\n",
      "787287_428180_463220_025000_full_sagittal_left_T001_Z522_C01.tif\n",
      "787287_428180_463220_025000_full_sagittal_left_T001_Z528_C01.tif\n",
      "787287_428180_463220_025000_full_sagittal_left_T001_Z534_C01.tif\n",
      "787287_428180_463220_025000_full_sagittal_left_T001_Z540_C01.tif\n",
      "787287_428180_463220_025000_full_sagittal_left_T001_Z546_C01.tif\n",
      "787287_428180_463220_025000_full_sagittal_left_T001_Z552_C01.tif\n",
      "787287_428180_463220_025000_full_sagittal_left_T001_Z558_C01.tif\n",
      "787287_428180_463220_025000_full_sagittal_left_T001_Z564_C01.tif\n",
      "787287_428180_463220_025000_full_sagittal_left_T001_Z570_C01.tif\n",
      "787287_428180_463220_025000_full_sagittal_left_T001_Z576_C01.tif\n",
      "787287_428180_463220_025000_full_sagittal_left_T001_Z582_C01.tif\n",
      "787287_428180_463220_025000_full_sagittal_left_T001_Z588_C01.tif\n",
      "787287_428180_463220_025000_full_sagittal_left_T001_Z594_C01.tif\n",
      "787287_428180_463220_025000_full_sagittal_left_T001_Z600_C01.tif\n",
      "787287_428180_463220_025000_full_sagittal_left_T001_Z606_C01.tif\n",
      "787287_428180_463220_025000_full_sagittal_left_T001_Z612_C01.tif\n",
      "787287_428180_463220_025000_full_sagittal_left_T001_Z618_C01.tif\n",
      "787287_428180_463220_025000_full_sagittal_left_T001_Z624_C01.tif\n",
      "787287_428180_463220_025000_full_sagittal_left_T001_Z630_C01.tif\n",
      "787287_428180_463220_025000_full_sagittal_left_T001_Z636_C01.tif\n",
      "787287_428180_463220_025000_full_sagittal_left_T001_Z642_C01.tif\n",
      "787287_428180_463220_025000_full_sagittal_left_T001_Z648_C01.tif\n",
      "787287_428180_463220_025000_full_sagittal_left_T001_Z654_C01.tif\n",
      "787287_428180_463220_025000_full_sagittal_left_T001_Z660_C01.tif\n",
      "787287_428180_463220_025000_full_sagittal_left_T001_Z666_C01.tif\n",
      "787287_428180_463220_025000_full_sagittal_left_T001_Z672_C01.tif\n",
      "787287_428180_463220_025000_full_sagittal_left_T001_Z678_C01.tif\n",
      "787287_428180_463220_025000_full_sagittal_left_T001_Z684_C01.tif\n",
      "787287_428180_463220_025000_full_sagittal_left_T001_Z690_C01.tif\n",
      "787287_428180_463220_025000_full_sagittal_left_T001_Z696_C01.tif\n",
      "787287_428180_463220_025000_full_sagittal_left_T001_Z702_C01.tif\n",
      "787287_428180_463220_025000_full_sagittal_left_T001_Z708_C01.tif\n",
      "787287_428180_463220_025000_full_sagittal_left_T001_Z714_C01.tif\n",
      "787287_428180_463220_025000_full_sagittal_left_T001_Z720_C01.tif\n",
      "787287_428180_463220_025000_full_sagittal_left_T001_Z726_C01.tif\n",
      "787287_428180_463220_025000_full_sagittal_left_T001_Z732_C01.tif\n",
      "787287_428180_463220_025000_full_sagittal_left_T001_Z738_C01.tif\n"
     ]
    }
   ],
   "source": [
    "import shutil\n",
    "\n",
    "cfos_dest = Path(cfos_target_folder_path)\n",
    "\n",
    "cfos_dest.mkdir(parents=True, exist_ok=True)\n",
    "\n",
    "for file in cfos_tif_files_subset:\n",
    "    print(file.name)\n",
    "    shutil.copyfile(file, Path(cfos_dest, file.name)) "
   ]
  },
  {
   "cell_type": "markdown",
   "metadata": {},
   "source": [
    "## autofluorescence files"
   ]
  },
  {
   "cell_type": "code",
   "execution_count": 29,
   "metadata": {},
   "outputs": [],
   "source": [
    "auto_tif_files = [file for file in Path(auto_full_folder_path).glob(\"**/*.tif\")] "
   ]
  },
  {
   "cell_type": "code",
   "execution_count": 30,
   "metadata": {},
   "outputs": [],
   "source": [
    "auto_tif_files_subset = [file for file in auto_tif_files \n",
    "                         if int(file.stem.split(\"Z\")[1].split(\"_\")[0])%nth_subset==0] #replace accordingly\n",
    "auto_tif_files_subset.sort()"
   ]
  },
  {
   "cell_type": "code",
   "execution_count": 31,
   "metadata": {},
   "outputs": [
    {
     "name": "stdout",
     "output_type": "stream",
     "text": [
      "[PosixPath('/Users/ytcao/Documents/GitHub/bq3d_may18_workshop/lifecanvas/data_full/787287 NN left hemi grayscale/NN_428180_463220_025000_left_T001_Z006_C01.tif'), PosixPath('/Users/ytcao/Documents/GitHub/bq3d_may18_workshop/lifecanvas/data_full/787287 NN left hemi grayscale/NN_428180_463220_025000_left_T001_Z012_C01.tif'), PosixPath('/Users/ytcao/Documents/GitHub/bq3d_may18_workshop/lifecanvas/data_full/787287 NN left hemi grayscale/NN_428180_463220_025000_left_T001_Z018_C01.tif'), PosixPath('/Users/ytcao/Documents/GitHub/bq3d_may18_workshop/lifecanvas/data_full/787287 NN left hemi grayscale/NN_428180_463220_025000_left_T001_Z024_C01.tif'), PosixPath('/Users/ytcao/Documents/GitHub/bq3d_may18_workshop/lifecanvas/data_full/787287 NN left hemi grayscale/NN_428180_463220_025000_left_T001_Z030_C01.tif'), PosixPath('/Users/ytcao/Documents/GitHub/bq3d_may18_workshop/lifecanvas/data_full/787287 NN left hemi grayscale/NN_428180_463220_025000_left_T001_Z036_C01.tif'), PosixPath('/Users/ytcao/Documents/GitHub/bq3d_may18_workshop/lifecanvas/data_full/787287 NN left hemi grayscale/NN_428180_463220_025000_left_T001_Z042_C01.tif'), PosixPath('/Users/ytcao/Documents/GitHub/bq3d_may18_workshop/lifecanvas/data_full/787287 NN left hemi grayscale/NN_428180_463220_025000_left_T001_Z048_C01.tif'), PosixPath('/Users/ytcao/Documents/GitHub/bq3d_may18_workshop/lifecanvas/data_full/787287 NN left hemi grayscale/NN_428180_463220_025000_left_T001_Z054_C01.tif'), PosixPath('/Users/ytcao/Documents/GitHub/bq3d_may18_workshop/lifecanvas/data_full/787287 NN left hemi grayscale/NN_428180_463220_025000_left_T001_Z060_C01.tif'), PosixPath('/Users/ytcao/Documents/GitHub/bq3d_may18_workshop/lifecanvas/data_full/787287 NN left hemi grayscale/NN_428180_463220_025000_left_T001_Z066_C01.tif'), PosixPath('/Users/ytcao/Documents/GitHub/bq3d_may18_workshop/lifecanvas/data_full/787287 NN left hemi grayscale/NN_428180_463220_025000_left_T001_Z072_C01.tif'), PosixPath('/Users/ytcao/Documents/GitHub/bq3d_may18_workshop/lifecanvas/data_full/787287 NN left hemi grayscale/NN_428180_463220_025000_left_T001_Z078_C01.tif'), PosixPath('/Users/ytcao/Documents/GitHub/bq3d_may18_workshop/lifecanvas/data_full/787287 NN left hemi grayscale/NN_428180_463220_025000_left_T001_Z084_C01.tif'), PosixPath('/Users/ytcao/Documents/GitHub/bq3d_may18_workshop/lifecanvas/data_full/787287 NN left hemi grayscale/NN_428180_463220_025000_left_T001_Z090_C01.tif'), PosixPath('/Users/ytcao/Documents/GitHub/bq3d_may18_workshop/lifecanvas/data_full/787287 NN left hemi grayscale/NN_428180_463220_025000_left_T001_Z096_C01.tif'), PosixPath('/Users/ytcao/Documents/GitHub/bq3d_may18_workshop/lifecanvas/data_full/787287 NN left hemi grayscale/NN_428180_463220_025000_left_T001_Z102_C01.tif'), PosixPath('/Users/ytcao/Documents/GitHub/bq3d_may18_workshop/lifecanvas/data_full/787287 NN left hemi grayscale/NN_428180_463220_025000_left_T001_Z108_C01.tif'), PosixPath('/Users/ytcao/Documents/GitHub/bq3d_may18_workshop/lifecanvas/data_full/787287 NN left hemi grayscale/NN_428180_463220_025000_left_T001_Z114_C01.tif'), PosixPath('/Users/ytcao/Documents/GitHub/bq3d_may18_workshop/lifecanvas/data_full/787287 NN left hemi grayscale/NN_428180_463220_025000_left_T001_Z120_C01.tif'), PosixPath('/Users/ytcao/Documents/GitHub/bq3d_may18_workshop/lifecanvas/data_full/787287 NN left hemi grayscale/NN_428180_463220_025000_left_T001_Z126_C01.tif'), PosixPath('/Users/ytcao/Documents/GitHub/bq3d_may18_workshop/lifecanvas/data_full/787287 NN left hemi grayscale/NN_428180_463220_025000_left_T001_Z132_C01.tif'), PosixPath('/Users/ytcao/Documents/GitHub/bq3d_may18_workshop/lifecanvas/data_full/787287 NN left hemi grayscale/NN_428180_463220_025000_left_T001_Z138_C01.tif'), PosixPath('/Users/ytcao/Documents/GitHub/bq3d_may18_workshop/lifecanvas/data_full/787287 NN left hemi grayscale/NN_428180_463220_025000_left_T001_Z144_C01.tif'), PosixPath('/Users/ytcao/Documents/GitHub/bq3d_may18_workshop/lifecanvas/data_full/787287 NN left hemi grayscale/NN_428180_463220_025000_left_T001_Z150_C01.tif'), PosixPath('/Users/ytcao/Documents/GitHub/bq3d_may18_workshop/lifecanvas/data_full/787287 NN left hemi grayscale/NN_428180_463220_025000_left_T001_Z156_C01.tif'), PosixPath('/Users/ytcao/Documents/GitHub/bq3d_may18_workshop/lifecanvas/data_full/787287 NN left hemi grayscale/NN_428180_463220_025000_left_T001_Z162_C01.tif'), PosixPath('/Users/ytcao/Documents/GitHub/bq3d_may18_workshop/lifecanvas/data_full/787287 NN left hemi grayscale/NN_428180_463220_025000_left_T001_Z168_C01.tif'), PosixPath('/Users/ytcao/Documents/GitHub/bq3d_may18_workshop/lifecanvas/data_full/787287 NN left hemi grayscale/NN_428180_463220_025000_left_T001_Z174_C01.tif'), PosixPath('/Users/ytcao/Documents/GitHub/bq3d_may18_workshop/lifecanvas/data_full/787287 NN left hemi grayscale/NN_428180_463220_025000_left_T001_Z180_C01.tif'), PosixPath('/Users/ytcao/Documents/GitHub/bq3d_may18_workshop/lifecanvas/data_full/787287 NN left hemi grayscale/NN_428180_463220_025000_left_T001_Z186_C01.tif'), PosixPath('/Users/ytcao/Documents/GitHub/bq3d_may18_workshop/lifecanvas/data_full/787287 NN left hemi grayscale/NN_428180_463220_025000_left_T001_Z192_C01.tif'), PosixPath('/Users/ytcao/Documents/GitHub/bq3d_may18_workshop/lifecanvas/data_full/787287 NN left hemi grayscale/NN_428180_463220_025000_left_T001_Z198_C01.tif'), PosixPath('/Users/ytcao/Documents/GitHub/bq3d_may18_workshop/lifecanvas/data_full/787287 NN left hemi grayscale/NN_428180_463220_025000_left_T001_Z204_C01.tif'), PosixPath('/Users/ytcao/Documents/GitHub/bq3d_may18_workshop/lifecanvas/data_full/787287 NN left hemi grayscale/NN_428180_463220_025000_left_T001_Z210_C01.tif'), PosixPath('/Users/ytcao/Documents/GitHub/bq3d_may18_workshop/lifecanvas/data_full/787287 NN left hemi grayscale/NN_428180_463220_025000_left_T001_Z216_C01.tif'), PosixPath('/Users/ytcao/Documents/GitHub/bq3d_may18_workshop/lifecanvas/data_full/787287 NN left hemi grayscale/NN_428180_463220_025000_left_T001_Z222_C01.tif'), PosixPath('/Users/ytcao/Documents/GitHub/bq3d_may18_workshop/lifecanvas/data_full/787287 NN left hemi grayscale/NN_428180_463220_025000_left_T001_Z228_C01.tif'), PosixPath('/Users/ytcao/Documents/GitHub/bq3d_may18_workshop/lifecanvas/data_full/787287 NN left hemi grayscale/NN_428180_463220_025000_left_T001_Z234_C01.tif'), PosixPath('/Users/ytcao/Documents/GitHub/bq3d_may18_workshop/lifecanvas/data_full/787287 NN left hemi grayscale/NN_428180_463220_025000_left_T001_Z240_C01.tif'), PosixPath('/Users/ytcao/Documents/GitHub/bq3d_may18_workshop/lifecanvas/data_full/787287 NN left hemi grayscale/NN_428180_463220_025000_left_T001_Z246_C01.tif'), PosixPath('/Users/ytcao/Documents/GitHub/bq3d_may18_workshop/lifecanvas/data_full/787287 NN left hemi grayscale/NN_428180_463220_025000_left_T001_Z252_C01.tif'), PosixPath('/Users/ytcao/Documents/GitHub/bq3d_may18_workshop/lifecanvas/data_full/787287 NN left hemi grayscale/NN_428180_463220_025000_left_T001_Z258_C01.tif'), PosixPath('/Users/ytcao/Documents/GitHub/bq3d_may18_workshop/lifecanvas/data_full/787287 NN left hemi grayscale/NN_428180_463220_025000_left_T001_Z264_C01.tif'), PosixPath('/Users/ytcao/Documents/GitHub/bq3d_may18_workshop/lifecanvas/data_full/787287 NN left hemi grayscale/NN_428180_463220_025000_left_T001_Z270_C01.tif'), PosixPath('/Users/ytcao/Documents/GitHub/bq3d_may18_workshop/lifecanvas/data_full/787287 NN left hemi grayscale/NN_428180_463220_025000_left_T001_Z276_C01.tif'), PosixPath('/Users/ytcao/Documents/GitHub/bq3d_may18_workshop/lifecanvas/data_full/787287 NN left hemi grayscale/NN_428180_463220_025000_left_T001_Z282_C01.tif'), PosixPath('/Users/ytcao/Documents/GitHub/bq3d_may18_workshop/lifecanvas/data_full/787287 NN left hemi grayscale/NN_428180_463220_025000_left_T001_Z288_C01.tif'), PosixPath('/Users/ytcao/Documents/GitHub/bq3d_may18_workshop/lifecanvas/data_full/787287 NN left hemi grayscale/NN_428180_463220_025000_left_T001_Z294_C01.tif'), PosixPath('/Users/ytcao/Documents/GitHub/bq3d_may18_workshop/lifecanvas/data_full/787287 NN left hemi grayscale/NN_428180_463220_025000_left_T001_Z300_C01.tif'), PosixPath('/Users/ytcao/Documents/GitHub/bq3d_may18_workshop/lifecanvas/data_full/787287 NN left hemi grayscale/NN_428180_463220_025000_left_T001_Z306_C01.tif'), PosixPath('/Users/ytcao/Documents/GitHub/bq3d_may18_workshop/lifecanvas/data_full/787287 NN left hemi grayscale/NN_428180_463220_025000_left_T001_Z312_C01.tif'), PosixPath('/Users/ytcao/Documents/GitHub/bq3d_may18_workshop/lifecanvas/data_full/787287 NN left hemi grayscale/NN_428180_463220_025000_left_T001_Z318_C01.tif'), PosixPath('/Users/ytcao/Documents/GitHub/bq3d_may18_workshop/lifecanvas/data_full/787287 NN left hemi grayscale/NN_428180_463220_025000_left_T001_Z324_C01.tif'), PosixPath('/Users/ytcao/Documents/GitHub/bq3d_may18_workshop/lifecanvas/data_full/787287 NN left hemi grayscale/NN_428180_463220_025000_left_T001_Z330_C01.tif'), PosixPath('/Users/ytcao/Documents/GitHub/bq3d_may18_workshop/lifecanvas/data_full/787287 NN left hemi grayscale/NN_428180_463220_025000_left_T001_Z336_C01.tif'), PosixPath('/Users/ytcao/Documents/GitHub/bq3d_may18_workshop/lifecanvas/data_full/787287 NN left hemi grayscale/NN_428180_463220_025000_left_T001_Z342_C01.tif'), PosixPath('/Users/ytcao/Documents/GitHub/bq3d_may18_workshop/lifecanvas/data_full/787287 NN left hemi grayscale/NN_428180_463220_025000_left_T001_Z348_C01.tif'), PosixPath('/Users/ytcao/Documents/GitHub/bq3d_may18_workshop/lifecanvas/data_full/787287 NN left hemi grayscale/NN_428180_463220_025000_left_T001_Z354_C01.tif'), PosixPath('/Users/ytcao/Documents/GitHub/bq3d_may18_workshop/lifecanvas/data_full/787287 NN left hemi grayscale/NN_428180_463220_025000_left_T001_Z360_C01.tif'), PosixPath('/Users/ytcao/Documents/GitHub/bq3d_may18_workshop/lifecanvas/data_full/787287 NN left hemi grayscale/NN_428180_463220_025000_left_T001_Z366_C01.tif'), PosixPath('/Users/ytcao/Documents/GitHub/bq3d_may18_workshop/lifecanvas/data_full/787287 NN left hemi grayscale/NN_428180_463220_025000_left_T001_Z372_C01.tif'), PosixPath('/Users/ytcao/Documents/GitHub/bq3d_may18_workshop/lifecanvas/data_full/787287 NN left hemi grayscale/NN_428180_463220_025000_left_T001_Z378_C01.tif'), PosixPath('/Users/ytcao/Documents/GitHub/bq3d_may18_workshop/lifecanvas/data_full/787287 NN left hemi grayscale/NN_428180_463220_025000_left_T001_Z384_C01.tif'), PosixPath('/Users/ytcao/Documents/GitHub/bq3d_may18_workshop/lifecanvas/data_full/787287 NN left hemi grayscale/NN_428180_463220_025000_left_T001_Z390_C01.tif'), PosixPath('/Users/ytcao/Documents/GitHub/bq3d_may18_workshop/lifecanvas/data_full/787287 NN left hemi grayscale/NN_428180_463220_025000_left_T001_Z396_C01.tif'), PosixPath('/Users/ytcao/Documents/GitHub/bq3d_may18_workshop/lifecanvas/data_full/787287 NN left hemi grayscale/NN_428180_463220_025000_left_T001_Z402_C01.tif'), PosixPath('/Users/ytcao/Documents/GitHub/bq3d_may18_workshop/lifecanvas/data_full/787287 NN left hemi grayscale/NN_428180_463220_025000_left_T001_Z408_C01.tif'), PosixPath('/Users/ytcao/Documents/GitHub/bq3d_may18_workshop/lifecanvas/data_full/787287 NN left hemi grayscale/NN_428180_463220_025000_left_T001_Z414_C01.tif'), PosixPath('/Users/ytcao/Documents/GitHub/bq3d_may18_workshop/lifecanvas/data_full/787287 NN left hemi grayscale/NN_428180_463220_025000_left_T001_Z420_C01.tif'), PosixPath('/Users/ytcao/Documents/GitHub/bq3d_may18_workshop/lifecanvas/data_full/787287 NN left hemi grayscale/NN_428180_463220_025000_left_T001_Z426_C01.tif'), PosixPath('/Users/ytcao/Documents/GitHub/bq3d_may18_workshop/lifecanvas/data_full/787287 NN left hemi grayscale/NN_428180_463220_025000_left_T001_Z432_C01.tif'), PosixPath('/Users/ytcao/Documents/GitHub/bq3d_may18_workshop/lifecanvas/data_full/787287 NN left hemi grayscale/NN_428180_463220_025000_left_T001_Z438_C01.tif'), PosixPath('/Users/ytcao/Documents/GitHub/bq3d_may18_workshop/lifecanvas/data_full/787287 NN left hemi grayscale/NN_428180_463220_025000_left_T001_Z444_C01.tif'), PosixPath('/Users/ytcao/Documents/GitHub/bq3d_may18_workshop/lifecanvas/data_full/787287 NN left hemi grayscale/NN_428180_463220_025000_left_T001_Z450_C01.tif'), PosixPath('/Users/ytcao/Documents/GitHub/bq3d_may18_workshop/lifecanvas/data_full/787287 NN left hemi grayscale/NN_428180_463220_025000_left_T001_Z456_C01.tif'), PosixPath('/Users/ytcao/Documents/GitHub/bq3d_may18_workshop/lifecanvas/data_full/787287 NN left hemi grayscale/NN_428180_463220_025000_left_T001_Z462_C01.tif'), PosixPath('/Users/ytcao/Documents/GitHub/bq3d_may18_workshop/lifecanvas/data_full/787287 NN left hemi grayscale/NN_428180_463220_025000_left_T001_Z468_C01.tif'), PosixPath('/Users/ytcao/Documents/GitHub/bq3d_may18_workshop/lifecanvas/data_full/787287 NN left hemi grayscale/NN_428180_463220_025000_left_T001_Z474_C01.tif'), PosixPath('/Users/ytcao/Documents/GitHub/bq3d_may18_workshop/lifecanvas/data_full/787287 NN left hemi grayscale/NN_428180_463220_025000_left_T001_Z480_C01.tif'), PosixPath('/Users/ytcao/Documents/GitHub/bq3d_may18_workshop/lifecanvas/data_full/787287 NN left hemi grayscale/NN_428180_463220_025000_left_T001_Z486_C01.tif'), PosixPath('/Users/ytcao/Documents/GitHub/bq3d_may18_workshop/lifecanvas/data_full/787287 NN left hemi grayscale/NN_428180_463220_025000_left_T001_Z492_C01.tif'), PosixPath('/Users/ytcao/Documents/GitHub/bq3d_may18_workshop/lifecanvas/data_full/787287 NN left hemi grayscale/NN_428180_463220_025000_left_T001_Z498_C01.tif'), PosixPath('/Users/ytcao/Documents/GitHub/bq3d_may18_workshop/lifecanvas/data_full/787287 NN left hemi grayscale/NN_428180_463220_025000_left_T001_Z504_C01.tif'), PosixPath('/Users/ytcao/Documents/GitHub/bq3d_may18_workshop/lifecanvas/data_full/787287 NN left hemi grayscale/NN_428180_463220_025000_left_T001_Z510_C01.tif'), PosixPath('/Users/ytcao/Documents/GitHub/bq3d_may18_workshop/lifecanvas/data_full/787287 NN left hemi grayscale/NN_428180_463220_025000_left_T001_Z516_C01.tif'), PosixPath('/Users/ytcao/Documents/GitHub/bq3d_may18_workshop/lifecanvas/data_full/787287 NN left hemi grayscale/NN_428180_463220_025000_left_T001_Z522_C01.tif'), PosixPath('/Users/ytcao/Documents/GitHub/bq3d_may18_workshop/lifecanvas/data_full/787287 NN left hemi grayscale/NN_428180_463220_025000_left_T001_Z528_C01.tif'), PosixPath('/Users/ytcao/Documents/GitHub/bq3d_may18_workshop/lifecanvas/data_full/787287 NN left hemi grayscale/NN_428180_463220_025000_left_T001_Z534_C01.tif'), PosixPath('/Users/ytcao/Documents/GitHub/bq3d_may18_workshop/lifecanvas/data_full/787287 NN left hemi grayscale/NN_428180_463220_025000_left_T001_Z540_C01.tif'), PosixPath('/Users/ytcao/Documents/GitHub/bq3d_may18_workshop/lifecanvas/data_full/787287 NN left hemi grayscale/NN_428180_463220_025000_left_T001_Z546_C01.tif'), PosixPath('/Users/ytcao/Documents/GitHub/bq3d_may18_workshop/lifecanvas/data_full/787287 NN left hemi grayscale/NN_428180_463220_025000_left_T001_Z552_C01.tif'), PosixPath('/Users/ytcao/Documents/GitHub/bq3d_may18_workshop/lifecanvas/data_full/787287 NN left hemi grayscale/NN_428180_463220_025000_left_T001_Z558_C01.tif'), PosixPath('/Users/ytcao/Documents/GitHub/bq3d_may18_workshop/lifecanvas/data_full/787287 NN left hemi grayscale/NN_428180_463220_025000_left_T001_Z564_C01.tif'), PosixPath('/Users/ytcao/Documents/GitHub/bq3d_may18_workshop/lifecanvas/data_full/787287 NN left hemi grayscale/NN_428180_463220_025000_left_T001_Z570_C01.tif'), PosixPath('/Users/ytcao/Documents/GitHub/bq3d_may18_workshop/lifecanvas/data_full/787287 NN left hemi grayscale/NN_428180_463220_025000_left_T001_Z576_C01.tif'), PosixPath('/Users/ytcao/Documents/GitHub/bq3d_may18_workshop/lifecanvas/data_full/787287 NN left hemi grayscale/NN_428180_463220_025000_left_T001_Z582_C01.tif'), PosixPath('/Users/ytcao/Documents/GitHub/bq3d_may18_workshop/lifecanvas/data_full/787287 NN left hemi grayscale/NN_428180_463220_025000_left_T001_Z588_C01.tif'), PosixPath('/Users/ytcao/Documents/GitHub/bq3d_may18_workshop/lifecanvas/data_full/787287 NN left hemi grayscale/NN_428180_463220_025000_left_T001_Z594_C01.tif'), PosixPath('/Users/ytcao/Documents/GitHub/bq3d_may18_workshop/lifecanvas/data_full/787287 NN left hemi grayscale/NN_428180_463220_025000_left_T001_Z600_C01.tif'), PosixPath('/Users/ytcao/Documents/GitHub/bq3d_may18_workshop/lifecanvas/data_full/787287 NN left hemi grayscale/NN_428180_463220_025000_left_T001_Z606_C01.tif'), PosixPath('/Users/ytcao/Documents/GitHub/bq3d_may18_workshop/lifecanvas/data_full/787287 NN left hemi grayscale/NN_428180_463220_025000_left_T001_Z612_C01.tif'), PosixPath('/Users/ytcao/Documents/GitHub/bq3d_may18_workshop/lifecanvas/data_full/787287 NN left hemi grayscale/NN_428180_463220_025000_left_T001_Z618_C01.tif'), PosixPath('/Users/ytcao/Documents/GitHub/bq3d_may18_workshop/lifecanvas/data_full/787287 NN left hemi grayscale/NN_428180_463220_025000_left_T001_Z624_C01.tif'), PosixPath('/Users/ytcao/Documents/GitHub/bq3d_may18_workshop/lifecanvas/data_full/787287 NN left hemi grayscale/NN_428180_463220_025000_left_T001_Z630_C01.tif'), PosixPath('/Users/ytcao/Documents/GitHub/bq3d_may18_workshop/lifecanvas/data_full/787287 NN left hemi grayscale/NN_428180_463220_025000_left_T001_Z636_C01.tif'), PosixPath('/Users/ytcao/Documents/GitHub/bq3d_may18_workshop/lifecanvas/data_full/787287 NN left hemi grayscale/NN_428180_463220_025000_left_T001_Z642_C01.tif'), PosixPath('/Users/ytcao/Documents/GitHub/bq3d_may18_workshop/lifecanvas/data_full/787287 NN left hemi grayscale/NN_428180_463220_025000_left_T001_Z648_C01.tif'), PosixPath('/Users/ytcao/Documents/GitHub/bq3d_may18_workshop/lifecanvas/data_full/787287 NN left hemi grayscale/NN_428180_463220_025000_left_T001_Z654_C01.tif'), PosixPath('/Users/ytcao/Documents/GitHub/bq3d_may18_workshop/lifecanvas/data_full/787287 NN left hemi grayscale/NN_428180_463220_025000_left_T001_Z660_C01.tif'), PosixPath('/Users/ytcao/Documents/GitHub/bq3d_may18_workshop/lifecanvas/data_full/787287 NN left hemi grayscale/NN_428180_463220_025000_left_T001_Z666_C01.tif'), PosixPath('/Users/ytcao/Documents/GitHub/bq3d_may18_workshop/lifecanvas/data_full/787287 NN left hemi grayscale/NN_428180_463220_025000_left_T001_Z672_C01.tif'), PosixPath('/Users/ytcao/Documents/GitHub/bq3d_may18_workshop/lifecanvas/data_full/787287 NN left hemi grayscale/NN_428180_463220_025000_left_T001_Z678_C01.tif'), PosixPath('/Users/ytcao/Documents/GitHub/bq3d_may18_workshop/lifecanvas/data_full/787287 NN left hemi grayscale/NN_428180_463220_025000_left_T001_Z684_C01.tif'), PosixPath('/Users/ytcao/Documents/GitHub/bq3d_may18_workshop/lifecanvas/data_full/787287 NN left hemi grayscale/NN_428180_463220_025000_left_T001_Z690_C01.tif'), PosixPath('/Users/ytcao/Documents/GitHub/bq3d_may18_workshop/lifecanvas/data_full/787287 NN left hemi grayscale/NN_428180_463220_025000_left_T001_Z696_C01.tif'), PosixPath('/Users/ytcao/Documents/GitHub/bq3d_may18_workshop/lifecanvas/data_full/787287 NN left hemi grayscale/NN_428180_463220_025000_left_T001_Z702_C01.tif'), PosixPath('/Users/ytcao/Documents/GitHub/bq3d_may18_workshop/lifecanvas/data_full/787287 NN left hemi grayscale/NN_428180_463220_025000_left_T001_Z708_C01.tif'), PosixPath('/Users/ytcao/Documents/GitHub/bq3d_may18_workshop/lifecanvas/data_full/787287 NN left hemi grayscale/NN_428180_463220_025000_left_T001_Z714_C01.tif'), PosixPath('/Users/ytcao/Documents/GitHub/bq3d_may18_workshop/lifecanvas/data_full/787287 NN left hemi grayscale/NN_428180_463220_025000_left_T001_Z720_C01.tif'), PosixPath('/Users/ytcao/Documents/GitHub/bq3d_may18_workshop/lifecanvas/data_full/787287 NN left hemi grayscale/NN_428180_463220_025000_left_T001_Z726_C01.tif'), PosixPath('/Users/ytcao/Documents/GitHub/bq3d_may18_workshop/lifecanvas/data_full/787287 NN left hemi grayscale/NN_428180_463220_025000_left_T001_Z732_C01.tif'), PosixPath('/Users/ytcao/Documents/GitHub/bq3d_may18_workshop/lifecanvas/data_full/787287 NN left hemi grayscale/NN_428180_463220_025000_left_T001_Z738_C01.tif')]\n"
     ]
    }
   ],
   "source": [
    "print(auto_tif_files_subset)"
   ]
  },
  {
   "cell_type": "markdown",
   "metadata": {},
   "source": [
    "copy the autofluoresence files"
   ]
  },
  {
   "cell_type": "code",
   "execution_count": 32,
   "metadata": {},
   "outputs": [
    {
     "name": "stdout",
     "output_type": "stream",
     "text": [
      "NN_428180_463220_025000_left_T001_Z006_C01.tif\n",
      "NN_428180_463220_025000_left_T001_Z012_C01.tif\n",
      "NN_428180_463220_025000_left_T001_Z018_C01.tif\n",
      "NN_428180_463220_025000_left_T001_Z024_C01.tif\n",
      "NN_428180_463220_025000_left_T001_Z030_C01.tif\n",
      "NN_428180_463220_025000_left_T001_Z036_C01.tif\n",
      "NN_428180_463220_025000_left_T001_Z042_C01.tif\n",
      "NN_428180_463220_025000_left_T001_Z048_C01.tif\n",
      "NN_428180_463220_025000_left_T001_Z054_C01.tif\n",
      "NN_428180_463220_025000_left_T001_Z060_C01.tif\n",
      "NN_428180_463220_025000_left_T001_Z066_C01.tif\n",
      "NN_428180_463220_025000_left_T001_Z072_C01.tif\n",
      "NN_428180_463220_025000_left_T001_Z078_C01.tif\n",
      "NN_428180_463220_025000_left_T001_Z084_C01.tif\n",
      "NN_428180_463220_025000_left_T001_Z090_C01.tif\n",
      "NN_428180_463220_025000_left_T001_Z096_C01.tif\n",
      "NN_428180_463220_025000_left_T001_Z102_C01.tif\n",
      "NN_428180_463220_025000_left_T001_Z108_C01.tif\n",
      "NN_428180_463220_025000_left_T001_Z114_C01.tif\n",
      "NN_428180_463220_025000_left_T001_Z120_C01.tif\n",
      "NN_428180_463220_025000_left_T001_Z126_C01.tif\n",
      "NN_428180_463220_025000_left_T001_Z132_C01.tif\n",
      "NN_428180_463220_025000_left_T001_Z138_C01.tif\n",
      "NN_428180_463220_025000_left_T001_Z144_C01.tif\n",
      "NN_428180_463220_025000_left_T001_Z150_C01.tif\n",
      "NN_428180_463220_025000_left_T001_Z156_C01.tif\n",
      "NN_428180_463220_025000_left_T001_Z162_C01.tif\n",
      "NN_428180_463220_025000_left_T001_Z168_C01.tif\n",
      "NN_428180_463220_025000_left_T001_Z174_C01.tif\n",
      "NN_428180_463220_025000_left_T001_Z180_C01.tif\n",
      "NN_428180_463220_025000_left_T001_Z186_C01.tif\n",
      "NN_428180_463220_025000_left_T001_Z192_C01.tif\n",
      "NN_428180_463220_025000_left_T001_Z198_C01.tif\n",
      "NN_428180_463220_025000_left_T001_Z204_C01.tif\n",
      "NN_428180_463220_025000_left_T001_Z210_C01.tif\n",
      "NN_428180_463220_025000_left_T001_Z216_C01.tif\n",
      "NN_428180_463220_025000_left_T001_Z222_C01.tif\n",
      "NN_428180_463220_025000_left_T001_Z228_C01.tif\n",
      "NN_428180_463220_025000_left_T001_Z234_C01.tif\n",
      "NN_428180_463220_025000_left_T001_Z240_C01.tif\n",
      "NN_428180_463220_025000_left_T001_Z246_C01.tif\n",
      "NN_428180_463220_025000_left_T001_Z252_C01.tif\n",
      "NN_428180_463220_025000_left_T001_Z258_C01.tif\n",
      "NN_428180_463220_025000_left_T001_Z264_C01.tif\n",
      "NN_428180_463220_025000_left_T001_Z270_C01.tif\n",
      "NN_428180_463220_025000_left_T001_Z276_C01.tif\n",
      "NN_428180_463220_025000_left_T001_Z282_C01.tif\n",
      "NN_428180_463220_025000_left_T001_Z288_C01.tif\n",
      "NN_428180_463220_025000_left_T001_Z294_C01.tif\n",
      "NN_428180_463220_025000_left_T001_Z300_C01.tif\n",
      "NN_428180_463220_025000_left_T001_Z306_C01.tif\n",
      "NN_428180_463220_025000_left_T001_Z312_C01.tif\n",
      "NN_428180_463220_025000_left_T001_Z318_C01.tif\n",
      "NN_428180_463220_025000_left_T001_Z324_C01.tif\n",
      "NN_428180_463220_025000_left_T001_Z330_C01.tif\n",
      "NN_428180_463220_025000_left_T001_Z336_C01.tif\n",
      "NN_428180_463220_025000_left_T001_Z342_C01.tif\n",
      "NN_428180_463220_025000_left_T001_Z348_C01.tif\n",
      "NN_428180_463220_025000_left_T001_Z354_C01.tif\n",
      "NN_428180_463220_025000_left_T001_Z360_C01.tif\n",
      "NN_428180_463220_025000_left_T001_Z366_C01.tif\n",
      "NN_428180_463220_025000_left_T001_Z372_C01.tif\n",
      "NN_428180_463220_025000_left_T001_Z378_C01.tif\n",
      "NN_428180_463220_025000_left_T001_Z384_C01.tif\n",
      "NN_428180_463220_025000_left_T001_Z390_C01.tif\n",
      "NN_428180_463220_025000_left_T001_Z396_C01.tif\n",
      "NN_428180_463220_025000_left_T001_Z402_C01.tif\n",
      "NN_428180_463220_025000_left_T001_Z408_C01.tif\n",
      "NN_428180_463220_025000_left_T001_Z414_C01.tif\n",
      "NN_428180_463220_025000_left_T001_Z420_C01.tif\n",
      "NN_428180_463220_025000_left_T001_Z426_C01.tif\n",
      "NN_428180_463220_025000_left_T001_Z432_C01.tif\n",
      "NN_428180_463220_025000_left_T001_Z438_C01.tif\n",
      "NN_428180_463220_025000_left_T001_Z444_C01.tif\n",
      "NN_428180_463220_025000_left_T001_Z450_C01.tif\n",
      "NN_428180_463220_025000_left_T001_Z456_C01.tif\n",
      "NN_428180_463220_025000_left_T001_Z462_C01.tif\n",
      "NN_428180_463220_025000_left_T001_Z468_C01.tif\n",
      "NN_428180_463220_025000_left_T001_Z474_C01.tif\n",
      "NN_428180_463220_025000_left_T001_Z480_C01.tif\n",
      "NN_428180_463220_025000_left_T001_Z486_C01.tif\n",
      "NN_428180_463220_025000_left_T001_Z492_C01.tif\n",
      "NN_428180_463220_025000_left_T001_Z498_C01.tif\n",
      "NN_428180_463220_025000_left_T001_Z504_C01.tif\n",
      "NN_428180_463220_025000_left_T001_Z510_C01.tif\n",
      "NN_428180_463220_025000_left_T001_Z516_C01.tif\n",
      "NN_428180_463220_025000_left_T001_Z522_C01.tif\n",
      "NN_428180_463220_025000_left_T001_Z528_C01.tif\n",
      "NN_428180_463220_025000_left_T001_Z534_C01.tif\n",
      "NN_428180_463220_025000_left_T001_Z540_C01.tif\n",
      "NN_428180_463220_025000_left_T001_Z546_C01.tif\n",
      "NN_428180_463220_025000_left_T001_Z552_C01.tif\n",
      "NN_428180_463220_025000_left_T001_Z558_C01.tif\n",
      "NN_428180_463220_025000_left_T001_Z564_C01.tif\n",
      "NN_428180_463220_025000_left_T001_Z570_C01.tif\n",
      "NN_428180_463220_025000_left_T001_Z576_C01.tif\n",
      "NN_428180_463220_025000_left_T001_Z582_C01.tif\n",
      "NN_428180_463220_025000_left_T001_Z588_C01.tif\n",
      "NN_428180_463220_025000_left_T001_Z594_C01.tif\n",
      "NN_428180_463220_025000_left_T001_Z600_C01.tif\n",
      "NN_428180_463220_025000_left_T001_Z606_C01.tif\n",
      "NN_428180_463220_025000_left_T001_Z612_C01.tif\n",
      "NN_428180_463220_025000_left_T001_Z618_C01.tif\n",
      "NN_428180_463220_025000_left_T001_Z624_C01.tif\n",
      "NN_428180_463220_025000_left_T001_Z630_C01.tif\n",
      "NN_428180_463220_025000_left_T001_Z636_C01.tif\n",
      "NN_428180_463220_025000_left_T001_Z642_C01.tif\n",
      "NN_428180_463220_025000_left_T001_Z648_C01.tif\n",
      "NN_428180_463220_025000_left_T001_Z654_C01.tif\n",
      "NN_428180_463220_025000_left_T001_Z660_C01.tif\n",
      "NN_428180_463220_025000_left_T001_Z666_C01.tif\n",
      "NN_428180_463220_025000_left_T001_Z672_C01.tif\n",
      "NN_428180_463220_025000_left_T001_Z678_C01.tif\n",
      "NN_428180_463220_025000_left_T001_Z684_C01.tif\n",
      "NN_428180_463220_025000_left_T001_Z690_C01.tif\n",
      "NN_428180_463220_025000_left_T001_Z696_C01.tif\n",
      "NN_428180_463220_025000_left_T001_Z702_C01.tif\n",
      "NN_428180_463220_025000_left_T001_Z708_C01.tif\n",
      "NN_428180_463220_025000_left_T001_Z714_C01.tif\n",
      "NN_428180_463220_025000_left_T001_Z720_C01.tif\n",
      "NN_428180_463220_025000_left_T001_Z726_C01.tif\n",
      "NN_428180_463220_025000_left_T001_Z732_C01.tif\n",
      "NN_428180_463220_025000_left_T001_Z738_C01.tif\n"
     ]
    }
   ],
   "source": [
    "auto_dest = Path(auto_target_folder_path)\n",
    "\n",
    "auto_dest.mkdir(parents=True, exist_ok=True)\n",
    "\n",
    "for file in auto_tif_files_subset:\n",
    "    print(file.name)\n",
    "    shutil.copyfile(file, Path(auto_dest, file.name)) "
   ]
  }
 ],
 "metadata": {
  "kernelspec": {
   "display_name": "bq3d",
   "language": "python",
   "name": "python3"
  },
  "language_info": {
   "codemirror_mode": {
    "name": "ipython",
    "version": 3
   },
   "file_extension": ".py",
   "mimetype": "text/x-python",
   "name": "python",
   "nbconvert_exporter": "python",
   "pygments_lexer": "ipython3",
   "version": "3.9.18"
  }
 },
 "nbformat": 4,
 "nbformat_minor": 2
}
